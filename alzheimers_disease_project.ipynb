{
 "cells": [
  {
   "cell_type": "code",
   "execution_count": 1,
   "id": "785dd509",
   "metadata": {},
   "outputs": [],
   "source": [
    "import pandas as pd\n",
    "import numpy as np\n",
    "import plotly.express as px\n",
    "import mpld3\n",
    "import matplotlib.pyplot as plt\n",
    "import base64\n",
    "from io import BytesIO\n",
    "from sklearn import metrics\n",
    "from sklearn.metrics import confusion_matrix, classification_report, roc_curve, auc\n",
    "from sklearn.ensemble import RandomForestClassifier, GradientBoostingClassifier\n",
    "from sklearn.model_selection import train_test_split, GridSearchCV\n",
    "from sklearn.preprocessing import StandardScaler, FunctionTransformer\n",
    "from sklearn.tree import DecisionTreeClassifier\n",
    "from sklearn.linear_model import LinearRegression, LogisticRegression\n",
    "from sklearn.compose import ColumnTransformer\n",
    "from sklearn.pipeline import Pipeline\n",
    "from statsmodels.graphics.mosaicplot import mosaic\n",
    "from scipy.stats import skew\n",
    "from scipy.stats import chi2_contingency\n",
    "import seaborn as sns\n",
    "from itertools import product"
   ]
  },
  {
   "cell_type": "code",
   "execution_count": 2,
   "id": "620d877b",
   "metadata": {},
   "outputs": [
    {
     "data": {
      "text/html": [
       "<div>\n",
       "<style scoped>\n",
       "    .dataframe tbody tr th:only-of-type {\n",
       "        vertical-align: middle;\n",
       "    }\n",
       "\n",
       "    .dataframe tbody tr th {\n",
       "        vertical-align: top;\n",
       "    }\n",
       "\n",
       "    .dataframe thead th {\n",
       "        text-align: right;\n",
       "    }\n",
       "</style>\n",
       "<table border=\"1\" class=\"dataframe\">\n",
       "  <thead>\n",
       "    <tr style=\"text-align: right;\">\n",
       "      <th></th>\n",
       "      <th>PatientID</th>\n",
       "      <th>Age</th>\n",
       "      <th>Gender</th>\n",
       "      <th>Ethnicity</th>\n",
       "      <th>EducationLevel</th>\n",
       "      <th>BMI</th>\n",
       "      <th>Smoking</th>\n",
       "      <th>AlcoholConsumption</th>\n",
       "      <th>PhysicalActivity</th>\n",
       "      <th>DietQuality</th>\n",
       "      <th>...</th>\n",
       "      <th>MemoryComplaints</th>\n",
       "      <th>BehavioralProblems</th>\n",
       "      <th>ADL</th>\n",
       "      <th>Confusion</th>\n",
       "      <th>Disorientation</th>\n",
       "      <th>PersonalityChanges</th>\n",
       "      <th>DifficultyCompletingTasks</th>\n",
       "      <th>Forgetfulness</th>\n",
       "      <th>Diagnosis</th>\n",
       "      <th>DoctorInCharge</th>\n",
       "    </tr>\n",
       "  </thead>\n",
       "  <tbody>\n",
       "    <tr>\n",
       "      <th>0</th>\n",
       "      <td>4751</td>\n",
       "      <td>73</td>\n",
       "      <td>0</td>\n",
       "      <td>0</td>\n",
       "      <td>2</td>\n",
       "      <td>22.927749</td>\n",
       "      <td>0</td>\n",
       "      <td>13.297218</td>\n",
       "      <td>6.327112</td>\n",
       "      <td>1.347214</td>\n",
       "      <td>...</td>\n",
       "      <td>0</td>\n",
       "      <td>0</td>\n",
       "      <td>1.725883</td>\n",
       "      <td>0</td>\n",
       "      <td>0</td>\n",
       "      <td>0</td>\n",
       "      <td>1</td>\n",
       "      <td>0</td>\n",
       "      <td>0</td>\n",
       "      <td>XXXConfid</td>\n",
       "    </tr>\n",
       "    <tr>\n",
       "      <th>1</th>\n",
       "      <td>4752</td>\n",
       "      <td>89</td>\n",
       "      <td>0</td>\n",
       "      <td>0</td>\n",
       "      <td>0</td>\n",
       "      <td>26.827681</td>\n",
       "      <td>0</td>\n",
       "      <td>4.542524</td>\n",
       "      <td>7.619885</td>\n",
       "      <td>0.518767</td>\n",
       "      <td>...</td>\n",
       "      <td>0</td>\n",
       "      <td>0</td>\n",
       "      <td>2.592424</td>\n",
       "      <td>0</td>\n",
       "      <td>0</td>\n",
       "      <td>0</td>\n",
       "      <td>0</td>\n",
       "      <td>1</td>\n",
       "      <td>0</td>\n",
       "      <td>XXXConfid</td>\n",
       "    </tr>\n",
       "    <tr>\n",
       "      <th>2</th>\n",
       "      <td>4753</td>\n",
       "      <td>73</td>\n",
       "      <td>0</td>\n",
       "      <td>3</td>\n",
       "      <td>1</td>\n",
       "      <td>17.795882</td>\n",
       "      <td>0</td>\n",
       "      <td>19.555085</td>\n",
       "      <td>7.844988</td>\n",
       "      <td>1.826335</td>\n",
       "      <td>...</td>\n",
       "      <td>0</td>\n",
       "      <td>0</td>\n",
       "      <td>7.119548</td>\n",
       "      <td>0</td>\n",
       "      <td>1</td>\n",
       "      <td>0</td>\n",
       "      <td>1</td>\n",
       "      <td>0</td>\n",
       "      <td>0</td>\n",
       "      <td>XXXConfid</td>\n",
       "    </tr>\n",
       "    <tr>\n",
       "      <th>3</th>\n",
       "      <td>4754</td>\n",
       "      <td>74</td>\n",
       "      <td>1</td>\n",
       "      <td>0</td>\n",
       "      <td>1</td>\n",
       "      <td>33.800817</td>\n",
       "      <td>1</td>\n",
       "      <td>12.209266</td>\n",
       "      <td>8.428001</td>\n",
       "      <td>7.435604</td>\n",
       "      <td>...</td>\n",
       "      <td>0</td>\n",
       "      <td>1</td>\n",
       "      <td>6.481226</td>\n",
       "      <td>0</td>\n",
       "      <td>0</td>\n",
       "      <td>0</td>\n",
       "      <td>0</td>\n",
       "      <td>0</td>\n",
       "      <td>0</td>\n",
       "      <td>XXXConfid</td>\n",
       "    </tr>\n",
       "    <tr>\n",
       "      <th>4</th>\n",
       "      <td>4755</td>\n",
       "      <td>89</td>\n",
       "      <td>0</td>\n",
       "      <td>0</td>\n",
       "      <td>0</td>\n",
       "      <td>20.716974</td>\n",
       "      <td>0</td>\n",
       "      <td>18.454356</td>\n",
       "      <td>6.310461</td>\n",
       "      <td>0.795498</td>\n",
       "      <td>...</td>\n",
       "      <td>0</td>\n",
       "      <td>0</td>\n",
       "      <td>0.014691</td>\n",
       "      <td>0</td>\n",
       "      <td>0</td>\n",
       "      <td>1</td>\n",
       "      <td>1</td>\n",
       "      <td>0</td>\n",
       "      <td>0</td>\n",
       "      <td>XXXConfid</td>\n",
       "    </tr>\n",
       "  </tbody>\n",
       "</table>\n",
       "<p>5 rows × 35 columns</p>\n",
       "</div>"
      ],
      "text/plain": [
       "   PatientID  Age  Gender  Ethnicity  EducationLevel        BMI  Smoking  \\\n",
       "0       4751   73       0          0               2  22.927749        0   \n",
       "1       4752   89       0          0               0  26.827681        0   \n",
       "2       4753   73       0          3               1  17.795882        0   \n",
       "3       4754   74       1          0               1  33.800817        1   \n",
       "4       4755   89       0          0               0  20.716974        0   \n",
       "\n",
       "   AlcoholConsumption  PhysicalActivity  DietQuality  ...  MemoryComplaints  \\\n",
       "0           13.297218          6.327112     1.347214  ...                 0   \n",
       "1            4.542524          7.619885     0.518767  ...                 0   \n",
       "2           19.555085          7.844988     1.826335  ...                 0   \n",
       "3           12.209266          8.428001     7.435604  ...                 0   \n",
       "4           18.454356          6.310461     0.795498  ...                 0   \n",
       "\n",
       "   BehavioralProblems       ADL  Confusion  Disorientation  \\\n",
       "0                   0  1.725883          0               0   \n",
       "1                   0  2.592424          0               0   \n",
       "2                   0  7.119548          0               1   \n",
       "3                   1  6.481226          0               0   \n",
       "4                   0  0.014691          0               0   \n",
       "\n",
       "   PersonalityChanges  DifficultyCompletingTasks  Forgetfulness  Diagnosis  \\\n",
       "0                   0                          1              0          0   \n",
       "1                   0                          0              1          0   \n",
       "2                   0                          1              0          0   \n",
       "3                   0                          0              0          0   \n",
       "4                   1                          1              0          0   \n",
       "\n",
       "   DoctorInCharge  \n",
       "0       XXXConfid  \n",
       "1       XXXConfid  \n",
       "2       XXXConfid  \n",
       "3       XXXConfid  \n",
       "4       XXXConfid  \n",
       "\n",
       "[5 rows x 35 columns]"
      ]
     },
     "execution_count": 2,
     "metadata": {},
     "output_type": "execute_result"
    }
   ],
   "source": [
    "alz = pd.read_csv(\"/Users/kenogihara/Desktop/ALL_PROJECTS/alzheimers_project/alzheimers_disease_data.csv\")\n",
    "alz.head()"
   ]
  },
  {
   "cell_type": "code",
   "execution_count": 3,
   "id": "8174d84f",
   "metadata": {},
   "outputs": [
    {
     "data": {
      "text/plain": [
       "Index(['PatientID', 'Age', 'Gender', 'Ethnicity', 'EducationLevel', 'BMI',\n",
       "       'Smoking', 'AlcoholConsumption', 'PhysicalActivity', 'DietQuality',\n",
       "       'SleepQuality', 'FamilyHistoryAlzheimers', 'CardiovascularDisease',\n",
       "       'Diabetes', 'Depression', 'HeadInjury', 'Hypertension', 'SystolicBP',\n",
       "       'DiastolicBP', 'CholesterolTotal', 'CholesterolLDL', 'CholesterolHDL',\n",
       "       'CholesterolTriglycerides', 'MMSE', 'FunctionalAssessment',\n",
       "       'MemoryComplaints', 'BehavioralProblems', 'ADL', 'Confusion',\n",
       "       'Disorientation', 'PersonalityChanges', 'DifficultyCompletingTasks',\n",
       "       'Forgetfulness', 'Diagnosis', 'DoctorInCharge'],\n",
       "      dtype='object')"
      ]
     },
     "execution_count": 3,
     "metadata": {},
     "output_type": "execute_result"
    }
   ],
   "source": [
    "#Step 1: Introduction\n",
    "\n",
    "\"\"\"\n",
    "In this project, I develop a model that can predict whether someone has Alzheimer's Disease with 95% accuracy.\n",
    "This dataset contains extensive information on 2,149 patients, including demographic details, lifestyle factors, \n",
    "medical history, clinical history, symptoms, and a diagnosis of Alzheimer's Disease. This dataset is taken from \n",
    "Kaggle.\n",
    "\n",
    "A model that can predict diagnosis of Alzheimers is particularly helpful because it provides insight into the \n",
    "features and lifestyle factors that may have a signficant influence on the development of the disease. Moreover, \n",
    "early detection of the disease allows for timely intervention, which can slow the progression of the disease. Early\n",
    "detection also has immense benefits for healthcare allocation because it allows doctors to provide the necessary \n",
    "care and support at the right time; thereby, preventing the need for future intensive treatment.\n",
    "\"\"\"\n",
    "\n",
    "alz.columns"
   ]
  },
  {
   "cell_type": "code",
   "execution_count": 42,
   "id": "a054c436",
   "metadata": {},
   "outputs": [
    {
     "data": {
      "application/vnd.plotly.v1+json": {
       "config": {
        "plotlyServerURL": "https://plot.ly"
       },
       "data": [
        {
         "domain": {
          "x": [
           0,
           1
          ],
          "y": [
           0,
           1
          ]
         },
         "hoverinfo": "label+percent",
         "hovertemplate": "Diagnosis=%{label}<br>Proportion=%{value}<extra></extra>",
         "labels": [
          "Diagnosed",
          "Not Diagnosed"
         ],
         "legendgroup": "",
         "marker": {
          "line": {
           "color": "#000000",
           "width": 2
          }
         },
         "name": "",
         "showlegend": true,
         "textfont": {
          "size": 12
         },
         "textinfo": "percent",
         "type": "pie",
         "values": [
          0.35365286179618427,
          0.6463471382038157
         ]
        }
       ],
       "layout": {
        "legend": {
         "title": {
          "text": "Diagnosis"
         },
         "tracegroupgap": 0
        },
        "piecolorway": [
         "#1F77B4",
         "#FF7F0E",
         "#2CA02C",
         "#D62728",
         "#9467BD",
         "#8C564B",
         "#E377C2",
         "#7F7F7F",
         "#BCBD22",
         "#17BECF"
        ],
        "template": {
         "data": {
          "bar": [
           {
            "error_x": {
             "color": "#2a3f5f"
            },
            "error_y": {
             "color": "#2a3f5f"
            },
            "marker": {
             "line": {
              "color": "#E5ECF6",
              "width": 0.5
             },
             "pattern": {
              "fillmode": "overlay",
              "size": 10,
              "solidity": 0.2
             }
            },
            "type": "bar"
           }
          ],
          "barpolar": [
           {
            "marker": {
             "line": {
              "color": "#E5ECF6",
              "width": 0.5
             },
             "pattern": {
              "fillmode": "overlay",
              "size": 10,
              "solidity": 0.2
             }
            },
            "type": "barpolar"
           }
          ],
          "carpet": [
           {
            "aaxis": {
             "endlinecolor": "#2a3f5f",
             "gridcolor": "white",
             "linecolor": "white",
             "minorgridcolor": "white",
             "startlinecolor": "#2a3f5f"
            },
            "baxis": {
             "endlinecolor": "#2a3f5f",
             "gridcolor": "white",
             "linecolor": "white",
             "minorgridcolor": "white",
             "startlinecolor": "#2a3f5f"
            },
            "type": "carpet"
           }
          ],
          "choropleth": [
           {
            "colorbar": {
             "outlinewidth": 0,
             "ticks": ""
            },
            "type": "choropleth"
           }
          ],
          "contour": [
           {
            "colorbar": {
             "outlinewidth": 0,
             "ticks": ""
            },
            "colorscale": [
             [
              0,
              "#0d0887"
             ],
             [
              0.1111111111111111,
              "#46039f"
             ],
             [
              0.2222222222222222,
              "#7201a8"
             ],
             [
              0.3333333333333333,
              "#9c179e"
             ],
             [
              0.4444444444444444,
              "#bd3786"
             ],
             [
              0.5555555555555556,
              "#d8576b"
             ],
             [
              0.6666666666666666,
              "#ed7953"
             ],
             [
              0.7777777777777778,
              "#fb9f3a"
             ],
             [
              0.8888888888888888,
              "#fdca26"
             ],
             [
              1,
              "#f0f921"
             ]
            ],
            "type": "contour"
           }
          ],
          "contourcarpet": [
           {
            "colorbar": {
             "outlinewidth": 0,
             "ticks": ""
            },
            "type": "contourcarpet"
           }
          ],
          "heatmap": [
           {
            "colorbar": {
             "outlinewidth": 0,
             "ticks": ""
            },
            "colorscale": [
             [
              0,
              "#0d0887"
             ],
             [
              0.1111111111111111,
              "#46039f"
             ],
             [
              0.2222222222222222,
              "#7201a8"
             ],
             [
              0.3333333333333333,
              "#9c179e"
             ],
             [
              0.4444444444444444,
              "#bd3786"
             ],
             [
              0.5555555555555556,
              "#d8576b"
             ],
             [
              0.6666666666666666,
              "#ed7953"
             ],
             [
              0.7777777777777778,
              "#fb9f3a"
             ],
             [
              0.8888888888888888,
              "#fdca26"
             ],
             [
              1,
              "#f0f921"
             ]
            ],
            "type": "heatmap"
           }
          ],
          "heatmapgl": [
           {
            "colorbar": {
             "outlinewidth": 0,
             "ticks": ""
            },
            "colorscale": [
             [
              0,
              "#0d0887"
             ],
             [
              0.1111111111111111,
              "#46039f"
             ],
             [
              0.2222222222222222,
              "#7201a8"
             ],
             [
              0.3333333333333333,
              "#9c179e"
             ],
             [
              0.4444444444444444,
              "#bd3786"
             ],
             [
              0.5555555555555556,
              "#d8576b"
             ],
             [
              0.6666666666666666,
              "#ed7953"
             ],
             [
              0.7777777777777778,
              "#fb9f3a"
             ],
             [
              0.8888888888888888,
              "#fdca26"
             ],
             [
              1,
              "#f0f921"
             ]
            ],
            "type": "heatmapgl"
           }
          ],
          "histogram": [
           {
            "marker": {
             "pattern": {
              "fillmode": "overlay",
              "size": 10,
              "solidity": 0.2
             }
            },
            "type": "histogram"
           }
          ],
          "histogram2d": [
           {
            "colorbar": {
             "outlinewidth": 0,
             "ticks": ""
            },
            "colorscale": [
             [
              0,
              "#0d0887"
             ],
             [
              0.1111111111111111,
              "#46039f"
             ],
             [
              0.2222222222222222,
              "#7201a8"
             ],
             [
              0.3333333333333333,
              "#9c179e"
             ],
             [
              0.4444444444444444,
              "#bd3786"
             ],
             [
              0.5555555555555556,
              "#d8576b"
             ],
             [
              0.6666666666666666,
              "#ed7953"
             ],
             [
              0.7777777777777778,
              "#fb9f3a"
             ],
             [
              0.8888888888888888,
              "#fdca26"
             ],
             [
              1,
              "#f0f921"
             ]
            ],
            "type": "histogram2d"
           }
          ],
          "histogram2dcontour": [
           {
            "colorbar": {
             "outlinewidth": 0,
             "ticks": ""
            },
            "colorscale": [
             [
              0,
              "#0d0887"
             ],
             [
              0.1111111111111111,
              "#46039f"
             ],
             [
              0.2222222222222222,
              "#7201a8"
             ],
             [
              0.3333333333333333,
              "#9c179e"
             ],
             [
              0.4444444444444444,
              "#bd3786"
             ],
             [
              0.5555555555555556,
              "#d8576b"
             ],
             [
              0.6666666666666666,
              "#ed7953"
             ],
             [
              0.7777777777777778,
              "#fb9f3a"
             ],
             [
              0.8888888888888888,
              "#fdca26"
             ],
             [
              1,
              "#f0f921"
             ]
            ],
            "type": "histogram2dcontour"
           }
          ],
          "mesh3d": [
           {
            "colorbar": {
             "outlinewidth": 0,
             "ticks": ""
            },
            "type": "mesh3d"
           }
          ],
          "parcoords": [
           {
            "line": {
             "colorbar": {
              "outlinewidth": 0,
              "ticks": ""
             }
            },
            "type": "parcoords"
           }
          ],
          "pie": [
           {
            "automargin": true,
            "type": "pie"
           }
          ],
          "scatter": [
           {
            "fillpattern": {
             "fillmode": "overlay",
             "size": 10,
             "solidity": 0.2
            },
            "type": "scatter"
           }
          ],
          "scatter3d": [
           {
            "line": {
             "colorbar": {
              "outlinewidth": 0,
              "ticks": ""
             }
            },
            "marker": {
             "colorbar": {
              "outlinewidth": 0,
              "ticks": ""
             }
            },
            "type": "scatter3d"
           }
          ],
          "scattercarpet": [
           {
            "marker": {
             "colorbar": {
              "outlinewidth": 0,
              "ticks": ""
             }
            },
            "type": "scattercarpet"
           }
          ],
          "scattergeo": [
           {
            "marker": {
             "colorbar": {
              "outlinewidth": 0,
              "ticks": ""
             }
            },
            "type": "scattergeo"
           }
          ],
          "scattergl": [
           {
            "marker": {
             "colorbar": {
              "outlinewidth": 0,
              "ticks": ""
             }
            },
            "type": "scattergl"
           }
          ],
          "scattermapbox": [
           {
            "marker": {
             "colorbar": {
              "outlinewidth": 0,
              "ticks": ""
             }
            },
            "type": "scattermapbox"
           }
          ],
          "scatterpolar": [
           {
            "marker": {
             "colorbar": {
              "outlinewidth": 0,
              "ticks": ""
             }
            },
            "type": "scatterpolar"
           }
          ],
          "scatterpolargl": [
           {
            "marker": {
             "colorbar": {
              "outlinewidth": 0,
              "ticks": ""
             }
            },
            "type": "scatterpolargl"
           }
          ],
          "scatterternary": [
           {
            "marker": {
             "colorbar": {
              "outlinewidth": 0,
              "ticks": ""
             }
            },
            "type": "scatterternary"
           }
          ],
          "surface": [
           {
            "colorbar": {
             "outlinewidth": 0,
             "ticks": ""
            },
            "colorscale": [
             [
              0,
              "#0d0887"
             ],
             [
              0.1111111111111111,
              "#46039f"
             ],
             [
              0.2222222222222222,
              "#7201a8"
             ],
             [
              0.3333333333333333,
              "#9c179e"
             ],
             [
              0.4444444444444444,
              "#bd3786"
             ],
             [
              0.5555555555555556,
              "#d8576b"
             ],
             [
              0.6666666666666666,
              "#ed7953"
             ],
             [
              0.7777777777777778,
              "#fb9f3a"
             ],
             [
              0.8888888888888888,
              "#fdca26"
             ],
             [
              1,
              "#f0f921"
             ]
            ],
            "type": "surface"
           }
          ],
          "table": [
           {
            "cells": {
             "fill": {
              "color": "#EBF0F8"
             },
             "line": {
              "color": "white"
             }
            },
            "header": {
             "fill": {
              "color": "#C8D4E3"
             },
             "line": {
              "color": "white"
             }
            },
            "type": "table"
           }
          ]
         },
         "layout": {
          "annotationdefaults": {
           "arrowcolor": "#2a3f5f",
           "arrowhead": 0,
           "arrowwidth": 1
          },
          "autotypenumbers": "strict",
          "coloraxis": {
           "colorbar": {
            "outlinewidth": 0,
            "ticks": ""
           }
          },
          "colorscale": {
           "diverging": [
            [
             0,
             "#8e0152"
            ],
            [
             0.1,
             "#c51b7d"
            ],
            [
             0.2,
             "#de77ae"
            ],
            [
             0.3,
             "#f1b6da"
            ],
            [
             0.4,
             "#fde0ef"
            ],
            [
             0.5,
             "#f7f7f7"
            ],
            [
             0.6,
             "#e6f5d0"
            ],
            [
             0.7,
             "#b8e186"
            ],
            [
             0.8,
             "#7fbc41"
            ],
            [
             0.9,
             "#4d9221"
            ],
            [
             1,
             "#276419"
            ]
           ],
           "sequential": [
            [
             0,
             "#0d0887"
            ],
            [
             0.1111111111111111,
             "#46039f"
            ],
            [
             0.2222222222222222,
             "#7201a8"
            ],
            [
             0.3333333333333333,
             "#9c179e"
            ],
            [
             0.4444444444444444,
             "#bd3786"
            ],
            [
             0.5555555555555556,
             "#d8576b"
            ],
            [
             0.6666666666666666,
             "#ed7953"
            ],
            [
             0.7777777777777778,
             "#fb9f3a"
            ],
            [
             0.8888888888888888,
             "#fdca26"
            ],
            [
             1,
             "#f0f921"
            ]
           ],
           "sequentialminus": [
            [
             0,
             "#0d0887"
            ],
            [
             0.1111111111111111,
             "#46039f"
            ],
            [
             0.2222222222222222,
             "#7201a8"
            ],
            [
             0.3333333333333333,
             "#9c179e"
            ],
            [
             0.4444444444444444,
             "#bd3786"
            ],
            [
             0.5555555555555556,
             "#d8576b"
            ],
            [
             0.6666666666666666,
             "#ed7953"
            ],
            [
             0.7777777777777778,
             "#fb9f3a"
            ],
            [
             0.8888888888888888,
             "#fdca26"
            ],
            [
             1,
             "#f0f921"
            ]
           ]
          },
          "colorway": [
           "#636efa",
           "#EF553B",
           "#00cc96",
           "#ab63fa",
           "#FFA15A",
           "#19d3f3",
           "#FF6692",
           "#B6E880",
           "#FF97FF",
           "#FECB52"
          ],
          "font": {
           "color": "#2a3f5f"
          },
          "geo": {
           "bgcolor": "white",
           "lakecolor": "white",
           "landcolor": "#E5ECF6",
           "showlakes": true,
           "showland": true,
           "subunitcolor": "white"
          },
          "hoverlabel": {
           "align": "left"
          },
          "hovermode": "closest",
          "mapbox": {
           "style": "light"
          },
          "paper_bgcolor": "white",
          "plot_bgcolor": "#E5ECF6",
          "polar": {
           "angularaxis": {
            "gridcolor": "white",
            "linecolor": "white",
            "ticks": ""
           },
           "bgcolor": "#E5ECF6",
           "radialaxis": {
            "gridcolor": "white",
            "linecolor": "white",
            "ticks": ""
           }
          },
          "scene": {
           "xaxis": {
            "backgroundcolor": "#E5ECF6",
            "gridcolor": "white",
            "gridwidth": 2,
            "linecolor": "white",
            "showbackground": true,
            "ticks": "",
            "zerolinecolor": "white"
           },
           "yaxis": {
            "backgroundcolor": "#E5ECF6",
            "gridcolor": "white",
            "gridwidth": 2,
            "linecolor": "white",
            "showbackground": true,
            "ticks": "",
            "zerolinecolor": "white"
           },
           "zaxis": {
            "backgroundcolor": "#E5ECF6",
            "gridcolor": "white",
            "gridwidth": 2,
            "linecolor": "white",
            "showbackground": true,
            "ticks": "",
            "zerolinecolor": "white"
           }
          },
          "shapedefaults": {
           "line": {
            "color": "#2a3f5f"
           }
          },
          "ternary": {
           "aaxis": {
            "gridcolor": "white",
            "linecolor": "white",
            "ticks": ""
           },
           "baxis": {
            "gridcolor": "white",
            "linecolor": "white",
            "ticks": ""
           },
           "bgcolor": "#E5ECF6",
           "caxis": {
            "gridcolor": "white",
            "linecolor": "white",
            "ticks": ""
           }
          },
          "title": {
           "x": 0.05
          },
          "xaxis": {
           "automargin": true,
           "gridcolor": "white",
           "linecolor": "white",
           "ticks": "",
           "title": {
            "standoff": 15
           },
           "zerolinecolor": "white",
           "zerolinewidth": 2
          },
          "yaxis": {
           "automargin": true,
           "gridcolor": "white",
           "linecolor": "white",
           "ticks": "",
           "title": {
            "standoff": 15
           },
           "zerolinecolor": "white",
           "zerolinewidth": 2
          }
         }
        },
        "title": {
         "text": "Distribution of Patients by Diagnosis"
        }
       }
      },
      "text/html": [
       "<div>                            <div id=\"5d7c2f6a-0b2b-4a4d-9d6a-82c43f7f2bb3\" class=\"plotly-graph-div\" style=\"height:525px; width:100%;\"></div>            <script type=\"text/javascript\">                require([\"plotly\"], function(Plotly) {                    window.PLOTLYENV=window.PLOTLYENV || {};                                    if (document.getElementById(\"5d7c2f6a-0b2b-4a4d-9d6a-82c43f7f2bb3\")) {                    Plotly.newPlot(                        \"5d7c2f6a-0b2b-4a4d-9d6a-82c43f7f2bb3\",                        [{\"domain\":{\"x\":[0.0,1.0],\"y\":[0.0,1.0]},\"hovertemplate\":\"Diagnosis=%{label}\\u003cbr\\u003eProportion=%{value}\\u003cextra\\u003e\\u003c\\u002fextra\\u003e\",\"labels\":[\"Diagnosed\",\"Not Diagnosed\"],\"legendgroup\":\"\",\"name\":\"\",\"showlegend\":true,\"values\":[0.35365286179618427,0.6463471382038157],\"type\":\"pie\",\"textfont\":{\"size\":12},\"marker\":{\"line\":{\"color\":\"#000000\",\"width\":2}},\"hoverinfo\":\"label+percent\",\"textinfo\":\"percent\"}],                        {\"template\":{\"data\":{\"histogram2dcontour\":[{\"type\":\"histogram2dcontour\",\"colorbar\":{\"outlinewidth\":0,\"ticks\":\"\"},\"colorscale\":[[0.0,\"#0d0887\"],[0.1111111111111111,\"#46039f\"],[0.2222222222222222,\"#7201a8\"],[0.3333333333333333,\"#9c179e\"],[0.4444444444444444,\"#bd3786\"],[0.5555555555555556,\"#d8576b\"],[0.6666666666666666,\"#ed7953\"],[0.7777777777777778,\"#fb9f3a\"],[0.8888888888888888,\"#fdca26\"],[1.0,\"#f0f921\"]]}],\"choropleth\":[{\"type\":\"choropleth\",\"colorbar\":{\"outlinewidth\":0,\"ticks\":\"\"}}],\"histogram2d\":[{\"type\":\"histogram2d\",\"colorbar\":{\"outlinewidth\":0,\"ticks\":\"\"},\"colorscale\":[[0.0,\"#0d0887\"],[0.1111111111111111,\"#46039f\"],[0.2222222222222222,\"#7201a8\"],[0.3333333333333333,\"#9c179e\"],[0.4444444444444444,\"#bd3786\"],[0.5555555555555556,\"#d8576b\"],[0.6666666666666666,\"#ed7953\"],[0.7777777777777778,\"#fb9f3a\"],[0.8888888888888888,\"#fdca26\"],[1.0,\"#f0f921\"]]}],\"heatmap\":[{\"type\":\"heatmap\",\"colorbar\":{\"outlinewidth\":0,\"ticks\":\"\"},\"colorscale\":[[0.0,\"#0d0887\"],[0.1111111111111111,\"#46039f\"],[0.2222222222222222,\"#7201a8\"],[0.3333333333333333,\"#9c179e\"],[0.4444444444444444,\"#bd3786\"],[0.5555555555555556,\"#d8576b\"],[0.6666666666666666,\"#ed7953\"],[0.7777777777777778,\"#fb9f3a\"],[0.8888888888888888,\"#fdca26\"],[1.0,\"#f0f921\"]]}],\"heatmapgl\":[{\"type\":\"heatmapgl\",\"colorbar\":{\"outlinewidth\":0,\"ticks\":\"\"},\"colorscale\":[[0.0,\"#0d0887\"],[0.1111111111111111,\"#46039f\"],[0.2222222222222222,\"#7201a8\"],[0.3333333333333333,\"#9c179e\"],[0.4444444444444444,\"#bd3786\"],[0.5555555555555556,\"#d8576b\"],[0.6666666666666666,\"#ed7953\"],[0.7777777777777778,\"#fb9f3a\"],[0.8888888888888888,\"#fdca26\"],[1.0,\"#f0f921\"]]}],\"contourcarpet\":[{\"type\":\"contourcarpet\",\"colorbar\":{\"outlinewidth\":0,\"ticks\":\"\"}}],\"contour\":[{\"type\":\"contour\",\"colorbar\":{\"outlinewidth\":0,\"ticks\":\"\"},\"colorscale\":[[0.0,\"#0d0887\"],[0.1111111111111111,\"#46039f\"],[0.2222222222222222,\"#7201a8\"],[0.3333333333333333,\"#9c179e\"],[0.4444444444444444,\"#bd3786\"],[0.5555555555555556,\"#d8576b\"],[0.6666666666666666,\"#ed7953\"],[0.7777777777777778,\"#fb9f3a\"],[0.8888888888888888,\"#fdca26\"],[1.0,\"#f0f921\"]]}],\"surface\":[{\"type\":\"surface\",\"colorbar\":{\"outlinewidth\":0,\"ticks\":\"\"},\"colorscale\":[[0.0,\"#0d0887\"],[0.1111111111111111,\"#46039f\"],[0.2222222222222222,\"#7201a8\"],[0.3333333333333333,\"#9c179e\"],[0.4444444444444444,\"#bd3786\"],[0.5555555555555556,\"#d8576b\"],[0.6666666666666666,\"#ed7953\"],[0.7777777777777778,\"#fb9f3a\"],[0.8888888888888888,\"#fdca26\"],[1.0,\"#f0f921\"]]}],\"mesh3d\":[{\"type\":\"mesh3d\",\"colorbar\":{\"outlinewidth\":0,\"ticks\":\"\"}}],\"scatter\":[{\"fillpattern\":{\"fillmode\":\"overlay\",\"size\":10,\"solidity\":0.2},\"type\":\"scatter\"}],\"parcoords\":[{\"type\":\"parcoords\",\"line\":{\"colorbar\":{\"outlinewidth\":0,\"ticks\":\"\"}}}],\"scatterpolargl\":[{\"type\":\"scatterpolargl\",\"marker\":{\"colorbar\":{\"outlinewidth\":0,\"ticks\":\"\"}}}],\"bar\":[{\"error_x\":{\"color\":\"#2a3f5f\"},\"error_y\":{\"color\":\"#2a3f5f\"},\"marker\":{\"line\":{\"color\":\"#E5ECF6\",\"width\":0.5},\"pattern\":{\"fillmode\":\"overlay\",\"size\":10,\"solidity\":0.2}},\"type\":\"bar\"}],\"scattergeo\":[{\"type\":\"scattergeo\",\"marker\":{\"colorbar\":{\"outlinewidth\":0,\"ticks\":\"\"}}}],\"scatterpolar\":[{\"type\":\"scatterpolar\",\"marker\":{\"colorbar\":{\"outlinewidth\":0,\"ticks\":\"\"}}}],\"histogram\":[{\"marker\":{\"pattern\":{\"fillmode\":\"overlay\",\"size\":10,\"solidity\":0.2}},\"type\":\"histogram\"}],\"scattergl\":[{\"type\":\"scattergl\",\"marker\":{\"colorbar\":{\"outlinewidth\":0,\"ticks\":\"\"}}}],\"scatter3d\":[{\"type\":\"scatter3d\",\"line\":{\"colorbar\":{\"outlinewidth\":0,\"ticks\":\"\"}},\"marker\":{\"colorbar\":{\"outlinewidth\":0,\"ticks\":\"\"}}}],\"scattermapbox\":[{\"type\":\"scattermapbox\",\"marker\":{\"colorbar\":{\"outlinewidth\":0,\"ticks\":\"\"}}}],\"scatterternary\":[{\"type\":\"scatterternary\",\"marker\":{\"colorbar\":{\"outlinewidth\":0,\"ticks\":\"\"}}}],\"scattercarpet\":[{\"type\":\"scattercarpet\",\"marker\":{\"colorbar\":{\"outlinewidth\":0,\"ticks\":\"\"}}}],\"carpet\":[{\"aaxis\":{\"endlinecolor\":\"#2a3f5f\",\"gridcolor\":\"white\",\"linecolor\":\"white\",\"minorgridcolor\":\"white\",\"startlinecolor\":\"#2a3f5f\"},\"baxis\":{\"endlinecolor\":\"#2a3f5f\",\"gridcolor\":\"white\",\"linecolor\":\"white\",\"minorgridcolor\":\"white\",\"startlinecolor\":\"#2a3f5f\"},\"type\":\"carpet\"}],\"table\":[{\"cells\":{\"fill\":{\"color\":\"#EBF0F8\"},\"line\":{\"color\":\"white\"}},\"header\":{\"fill\":{\"color\":\"#C8D4E3\"},\"line\":{\"color\":\"white\"}},\"type\":\"table\"}],\"barpolar\":[{\"marker\":{\"line\":{\"color\":\"#E5ECF6\",\"width\":0.5},\"pattern\":{\"fillmode\":\"overlay\",\"size\":10,\"solidity\":0.2}},\"type\":\"barpolar\"}],\"pie\":[{\"automargin\":true,\"type\":\"pie\"}]},\"layout\":{\"autotypenumbers\":\"strict\",\"colorway\":[\"#636efa\",\"#EF553B\",\"#00cc96\",\"#ab63fa\",\"#FFA15A\",\"#19d3f3\",\"#FF6692\",\"#B6E880\",\"#FF97FF\",\"#FECB52\"],\"font\":{\"color\":\"#2a3f5f\"},\"hovermode\":\"closest\",\"hoverlabel\":{\"align\":\"left\"},\"paper_bgcolor\":\"white\",\"plot_bgcolor\":\"#E5ECF6\",\"polar\":{\"bgcolor\":\"#E5ECF6\",\"angularaxis\":{\"gridcolor\":\"white\",\"linecolor\":\"white\",\"ticks\":\"\"},\"radialaxis\":{\"gridcolor\":\"white\",\"linecolor\":\"white\",\"ticks\":\"\"}},\"ternary\":{\"bgcolor\":\"#E5ECF6\",\"aaxis\":{\"gridcolor\":\"white\",\"linecolor\":\"white\",\"ticks\":\"\"},\"baxis\":{\"gridcolor\":\"white\",\"linecolor\":\"white\",\"ticks\":\"\"},\"caxis\":{\"gridcolor\":\"white\",\"linecolor\":\"white\",\"ticks\":\"\"}},\"coloraxis\":{\"colorbar\":{\"outlinewidth\":0,\"ticks\":\"\"}},\"colorscale\":{\"sequential\":[[0.0,\"#0d0887\"],[0.1111111111111111,\"#46039f\"],[0.2222222222222222,\"#7201a8\"],[0.3333333333333333,\"#9c179e\"],[0.4444444444444444,\"#bd3786\"],[0.5555555555555556,\"#d8576b\"],[0.6666666666666666,\"#ed7953\"],[0.7777777777777778,\"#fb9f3a\"],[0.8888888888888888,\"#fdca26\"],[1.0,\"#f0f921\"]],\"sequentialminus\":[[0.0,\"#0d0887\"],[0.1111111111111111,\"#46039f\"],[0.2222222222222222,\"#7201a8\"],[0.3333333333333333,\"#9c179e\"],[0.4444444444444444,\"#bd3786\"],[0.5555555555555556,\"#d8576b\"],[0.6666666666666666,\"#ed7953\"],[0.7777777777777778,\"#fb9f3a\"],[0.8888888888888888,\"#fdca26\"],[1.0,\"#f0f921\"]],\"diverging\":[[0,\"#8e0152\"],[0.1,\"#c51b7d\"],[0.2,\"#de77ae\"],[0.3,\"#f1b6da\"],[0.4,\"#fde0ef\"],[0.5,\"#f7f7f7\"],[0.6,\"#e6f5d0\"],[0.7,\"#b8e186\"],[0.8,\"#7fbc41\"],[0.9,\"#4d9221\"],[1,\"#276419\"]]},\"xaxis\":{\"gridcolor\":\"white\",\"linecolor\":\"white\",\"ticks\":\"\",\"title\":{\"standoff\":15},\"zerolinecolor\":\"white\",\"automargin\":true,\"zerolinewidth\":2},\"yaxis\":{\"gridcolor\":\"white\",\"linecolor\":\"white\",\"ticks\":\"\",\"title\":{\"standoff\":15},\"zerolinecolor\":\"white\",\"automargin\":true,\"zerolinewidth\":2},\"scene\":{\"xaxis\":{\"backgroundcolor\":\"#E5ECF6\",\"gridcolor\":\"white\",\"linecolor\":\"white\",\"showbackground\":true,\"ticks\":\"\",\"zerolinecolor\":\"white\",\"gridwidth\":2},\"yaxis\":{\"backgroundcolor\":\"#E5ECF6\",\"gridcolor\":\"white\",\"linecolor\":\"white\",\"showbackground\":true,\"ticks\":\"\",\"zerolinecolor\":\"white\",\"gridwidth\":2},\"zaxis\":{\"backgroundcolor\":\"#E5ECF6\",\"gridcolor\":\"white\",\"linecolor\":\"white\",\"showbackground\":true,\"ticks\":\"\",\"zerolinecolor\":\"white\",\"gridwidth\":2}},\"shapedefaults\":{\"line\":{\"color\":\"#2a3f5f\"}},\"annotationdefaults\":{\"arrowcolor\":\"#2a3f5f\",\"arrowhead\":0,\"arrowwidth\":1},\"geo\":{\"bgcolor\":\"white\",\"landcolor\":\"#E5ECF6\",\"subunitcolor\":\"white\",\"showland\":true,\"showlakes\":true,\"lakecolor\":\"white\"},\"title\":{\"x\":0.05},\"mapbox\":{\"style\":\"light\"}}},\"legend\":{\"tracegroupgap\":0,\"title\":{\"text\":\"Diagnosis\"}},\"title\":{\"text\":\"Distribution of Patients by Diagnosis\"},\"piecolorway\":[\"#1F77B4\",\"#FF7F0E\",\"#2CA02C\",\"#D62728\",\"#9467BD\",\"#8C564B\",\"#E377C2\",\"#7F7F7F\",\"#BCBD22\",\"#17BECF\"]},                        {\"responsive\": true}                    ).then(function(){\n",
       "                            \n",
       "var gd = document.getElementById('5d7c2f6a-0b2b-4a4d-9d6a-82c43f7f2bb3');\n",
       "var x = new MutationObserver(function (mutations, observer) {{\n",
       "        var display = window.getComputedStyle(gd).display;\n",
       "        if (!display || display === 'none') {{\n",
       "            console.log([gd, 'removed!']);\n",
       "            Plotly.purge(gd);\n",
       "            observer.disconnect();\n",
       "        }}\n",
       "}});\n",
       "\n",
       "// Listen for the removal of the full notebook cells\n",
       "var notebookContainer = gd.closest('#notebook-container');\n",
       "if (notebookContainer) {{\n",
       "    x.observe(notebookContainer, {childList: true});\n",
       "}}\n",
       "\n",
       "// Listen for the clearing of the current output cell\n",
       "var outputEl = gd.closest('.output');\n",
       "if (outputEl) {{\n",
       "    x.observe(outputEl, {childList: true});\n",
       "}}\n",
       "\n",
       "                        })                };                });            </script>        </div>"
      ]
     },
     "metadata": {},
     "output_type": "display_data"
    }
   ],
   "source": [
    "#Step 2: Data Cleaning and Exploratory Data Analysis\n",
    "\n",
    "# alz = alz.drop(columns = \"DoctorInCharge\")\n",
    "markdown_table = alz.head()[[\"PatientID\", \"Age\", \"Gender\", \"Ethnicity\", \"BMI\", \"Smoking\", \"PhysicalActivity\", \"Diagnosis\"]].to_markdown(index = False)\n",
    "\n",
    "#First univariate analysis that shows the distribution of patients according to their diagnosis.\n",
    "\n",
    "mapping = {\n",
    "    0: \"Not Diagnosed\",\n",
    "    1: \"Diagnosed\"\n",
    "}\n",
    "\n",
    "alz[\"result\"] = alz[\"Diagnosis\"].map(mapping)\n",
    "\n",
    "data = alz.groupby(\"result\")[\"PatientID\"].count() / alz.groupby(\"result\")[\"PatientID\"].count().sum()\n",
    "data = data.reset_index()\n",
    "data.columns = [\"Diagnosis\", \"Proportion\"]\n",
    "\n",
    "fig = px.pie(data, names = \"Diagnosis\", values = \"Proportion\", title = \"Distribution of Patients by Diagnosis\",\n",
    "            color_discrete_sequence = px.colors.qualitative.D3)\n",
    "fig.update_layout(legend_title_text = \"Diagnosis\")\n",
    "\n",
    "fig.update_traces(\n",
    "    hoverinfo='label+percent', \n",
    "    textinfo='percent', \n",
    "    textfont_size=12,\n",
    "    marker=dict(line=dict(color='#000000', width=2))\n",
    ")\n",
    "\n",
    "fig.show()\n",
    "\n",
    "markdown_table = alz.head()[[\"PatientID\", \"Age\", \"Gender\", \"Ethnicity\", \"BMI\", \"Smoking\", \"PhysicalActivity\", \"Diagnosis\"]].to_markdown(index = False)\n",
    "# fig.write_html(\"/Users/kenogihara/Desktop/ALL_PROJECTS/alzheimers_project/assets/html.plot1.html\", include_plotlyjs = \"cdn\")\n"
   ]
  },
  {
   "cell_type": "code",
   "execution_count": 5,
   "id": "814446c7",
   "metadata": {},
   "outputs": [
    {
     "data": {
      "application/vnd.plotly.v1+json": {
       "config": {
        "plotlyServerURL": "https://plot.ly"
       },
       "data": [
        {
         "alignmentgroup": "True",
         "hovertemplate": "Ethnicity=%{x}<br>Diagnosis=%{y}<extra></extra>",
         "legendgroup": "",
         "marker": {
          "color": "#1F77B4",
          "pattern": {
           "shape": ""
          }
         },
         "name": "",
         "offsetgroup": "",
         "orientation": "v",
         "showlegend": false,
         "textposition": "auto",
         "type": "bar",
         "x": [
          "Asian",
          "Caucasian",
          "African American",
          "Other"
         ],
         "xaxis": "x",
         "y": [
          0.4077669902912621,
          0.3622848200312989,
          0.32158590308370044,
          0.3175355450236967
         ],
         "yaxis": "y"
        }
       ],
       "layout": {
        "barmode": "relative",
        "legend": {
         "tracegroupgap": 0
        },
        "template": {
         "data": {
          "bar": [
           {
            "error_x": {
             "color": "#2a3f5f"
            },
            "error_y": {
             "color": "#2a3f5f"
            },
            "marker": {
             "line": {
              "color": "#E5ECF6",
              "width": 0.5
             },
             "pattern": {
              "fillmode": "overlay",
              "size": 10,
              "solidity": 0.2
             }
            },
            "type": "bar"
           }
          ],
          "barpolar": [
           {
            "marker": {
             "line": {
              "color": "#E5ECF6",
              "width": 0.5
             },
             "pattern": {
              "fillmode": "overlay",
              "size": 10,
              "solidity": 0.2
             }
            },
            "type": "barpolar"
           }
          ],
          "carpet": [
           {
            "aaxis": {
             "endlinecolor": "#2a3f5f",
             "gridcolor": "white",
             "linecolor": "white",
             "minorgridcolor": "white",
             "startlinecolor": "#2a3f5f"
            },
            "baxis": {
             "endlinecolor": "#2a3f5f",
             "gridcolor": "white",
             "linecolor": "white",
             "minorgridcolor": "white",
             "startlinecolor": "#2a3f5f"
            },
            "type": "carpet"
           }
          ],
          "choropleth": [
           {
            "colorbar": {
             "outlinewidth": 0,
             "ticks": ""
            },
            "type": "choropleth"
           }
          ],
          "contour": [
           {
            "colorbar": {
             "outlinewidth": 0,
             "ticks": ""
            },
            "colorscale": [
             [
              0,
              "#0d0887"
             ],
             [
              0.1111111111111111,
              "#46039f"
             ],
             [
              0.2222222222222222,
              "#7201a8"
             ],
             [
              0.3333333333333333,
              "#9c179e"
             ],
             [
              0.4444444444444444,
              "#bd3786"
             ],
             [
              0.5555555555555556,
              "#d8576b"
             ],
             [
              0.6666666666666666,
              "#ed7953"
             ],
             [
              0.7777777777777778,
              "#fb9f3a"
             ],
             [
              0.8888888888888888,
              "#fdca26"
             ],
             [
              1,
              "#f0f921"
             ]
            ],
            "type": "contour"
           }
          ],
          "contourcarpet": [
           {
            "colorbar": {
             "outlinewidth": 0,
             "ticks": ""
            },
            "type": "contourcarpet"
           }
          ],
          "heatmap": [
           {
            "colorbar": {
             "outlinewidth": 0,
             "ticks": ""
            },
            "colorscale": [
             [
              0,
              "#0d0887"
             ],
             [
              0.1111111111111111,
              "#46039f"
             ],
             [
              0.2222222222222222,
              "#7201a8"
             ],
             [
              0.3333333333333333,
              "#9c179e"
             ],
             [
              0.4444444444444444,
              "#bd3786"
             ],
             [
              0.5555555555555556,
              "#d8576b"
             ],
             [
              0.6666666666666666,
              "#ed7953"
             ],
             [
              0.7777777777777778,
              "#fb9f3a"
             ],
             [
              0.8888888888888888,
              "#fdca26"
             ],
             [
              1,
              "#f0f921"
             ]
            ],
            "type": "heatmap"
           }
          ],
          "heatmapgl": [
           {
            "colorbar": {
             "outlinewidth": 0,
             "ticks": ""
            },
            "colorscale": [
             [
              0,
              "#0d0887"
             ],
             [
              0.1111111111111111,
              "#46039f"
             ],
             [
              0.2222222222222222,
              "#7201a8"
             ],
             [
              0.3333333333333333,
              "#9c179e"
             ],
             [
              0.4444444444444444,
              "#bd3786"
             ],
             [
              0.5555555555555556,
              "#d8576b"
             ],
             [
              0.6666666666666666,
              "#ed7953"
             ],
             [
              0.7777777777777778,
              "#fb9f3a"
             ],
             [
              0.8888888888888888,
              "#fdca26"
             ],
             [
              1,
              "#f0f921"
             ]
            ],
            "type": "heatmapgl"
           }
          ],
          "histogram": [
           {
            "marker": {
             "pattern": {
              "fillmode": "overlay",
              "size": 10,
              "solidity": 0.2
             }
            },
            "type": "histogram"
           }
          ],
          "histogram2d": [
           {
            "colorbar": {
             "outlinewidth": 0,
             "ticks": ""
            },
            "colorscale": [
             [
              0,
              "#0d0887"
             ],
             [
              0.1111111111111111,
              "#46039f"
             ],
             [
              0.2222222222222222,
              "#7201a8"
             ],
             [
              0.3333333333333333,
              "#9c179e"
             ],
             [
              0.4444444444444444,
              "#bd3786"
             ],
             [
              0.5555555555555556,
              "#d8576b"
             ],
             [
              0.6666666666666666,
              "#ed7953"
             ],
             [
              0.7777777777777778,
              "#fb9f3a"
             ],
             [
              0.8888888888888888,
              "#fdca26"
             ],
             [
              1,
              "#f0f921"
             ]
            ],
            "type": "histogram2d"
           }
          ],
          "histogram2dcontour": [
           {
            "colorbar": {
             "outlinewidth": 0,
             "ticks": ""
            },
            "colorscale": [
             [
              0,
              "#0d0887"
             ],
             [
              0.1111111111111111,
              "#46039f"
             ],
             [
              0.2222222222222222,
              "#7201a8"
             ],
             [
              0.3333333333333333,
              "#9c179e"
             ],
             [
              0.4444444444444444,
              "#bd3786"
             ],
             [
              0.5555555555555556,
              "#d8576b"
             ],
             [
              0.6666666666666666,
              "#ed7953"
             ],
             [
              0.7777777777777778,
              "#fb9f3a"
             ],
             [
              0.8888888888888888,
              "#fdca26"
             ],
             [
              1,
              "#f0f921"
             ]
            ],
            "type": "histogram2dcontour"
           }
          ],
          "mesh3d": [
           {
            "colorbar": {
             "outlinewidth": 0,
             "ticks": ""
            },
            "type": "mesh3d"
           }
          ],
          "parcoords": [
           {
            "line": {
             "colorbar": {
              "outlinewidth": 0,
              "ticks": ""
             }
            },
            "type": "parcoords"
           }
          ],
          "pie": [
           {
            "automargin": true,
            "type": "pie"
           }
          ],
          "scatter": [
           {
            "fillpattern": {
             "fillmode": "overlay",
             "size": 10,
             "solidity": 0.2
            },
            "type": "scatter"
           }
          ],
          "scatter3d": [
           {
            "line": {
             "colorbar": {
              "outlinewidth": 0,
              "ticks": ""
             }
            },
            "marker": {
             "colorbar": {
              "outlinewidth": 0,
              "ticks": ""
             }
            },
            "type": "scatter3d"
           }
          ],
          "scattercarpet": [
           {
            "marker": {
             "colorbar": {
              "outlinewidth": 0,
              "ticks": ""
             }
            },
            "type": "scattercarpet"
           }
          ],
          "scattergeo": [
           {
            "marker": {
             "colorbar": {
              "outlinewidth": 0,
              "ticks": ""
             }
            },
            "type": "scattergeo"
           }
          ],
          "scattergl": [
           {
            "marker": {
             "colorbar": {
              "outlinewidth": 0,
              "ticks": ""
             }
            },
            "type": "scattergl"
           }
          ],
          "scattermapbox": [
           {
            "marker": {
             "colorbar": {
              "outlinewidth": 0,
              "ticks": ""
             }
            },
            "type": "scattermapbox"
           }
          ],
          "scatterpolar": [
           {
            "marker": {
             "colorbar": {
              "outlinewidth": 0,
              "ticks": ""
             }
            },
            "type": "scatterpolar"
           }
          ],
          "scatterpolargl": [
           {
            "marker": {
             "colorbar": {
              "outlinewidth": 0,
              "ticks": ""
             }
            },
            "type": "scatterpolargl"
           }
          ],
          "scatterternary": [
           {
            "marker": {
             "colorbar": {
              "outlinewidth": 0,
              "ticks": ""
             }
            },
            "type": "scatterternary"
           }
          ],
          "surface": [
           {
            "colorbar": {
             "outlinewidth": 0,
             "ticks": ""
            },
            "colorscale": [
             [
              0,
              "#0d0887"
             ],
             [
              0.1111111111111111,
              "#46039f"
             ],
             [
              0.2222222222222222,
              "#7201a8"
             ],
             [
              0.3333333333333333,
              "#9c179e"
             ],
             [
              0.4444444444444444,
              "#bd3786"
             ],
             [
              0.5555555555555556,
              "#d8576b"
             ],
             [
              0.6666666666666666,
              "#ed7953"
             ],
             [
              0.7777777777777778,
              "#fb9f3a"
             ],
             [
              0.8888888888888888,
              "#fdca26"
             ],
             [
              1,
              "#f0f921"
             ]
            ],
            "type": "surface"
           }
          ],
          "table": [
           {
            "cells": {
             "fill": {
              "color": "#EBF0F8"
             },
             "line": {
              "color": "white"
             }
            },
            "header": {
             "fill": {
              "color": "#C8D4E3"
             },
             "line": {
              "color": "white"
             }
            },
            "type": "table"
           }
          ]
         },
         "layout": {
          "annotationdefaults": {
           "arrowcolor": "#2a3f5f",
           "arrowhead": 0,
           "arrowwidth": 1
          },
          "autotypenumbers": "strict",
          "coloraxis": {
           "colorbar": {
            "outlinewidth": 0,
            "ticks": ""
           }
          },
          "colorscale": {
           "diverging": [
            [
             0,
             "#8e0152"
            ],
            [
             0.1,
             "#c51b7d"
            ],
            [
             0.2,
             "#de77ae"
            ],
            [
             0.3,
             "#f1b6da"
            ],
            [
             0.4,
             "#fde0ef"
            ],
            [
             0.5,
             "#f7f7f7"
            ],
            [
             0.6,
             "#e6f5d0"
            ],
            [
             0.7,
             "#b8e186"
            ],
            [
             0.8,
             "#7fbc41"
            ],
            [
             0.9,
             "#4d9221"
            ],
            [
             1,
             "#276419"
            ]
           ],
           "sequential": [
            [
             0,
             "#0d0887"
            ],
            [
             0.1111111111111111,
             "#46039f"
            ],
            [
             0.2222222222222222,
             "#7201a8"
            ],
            [
             0.3333333333333333,
             "#9c179e"
            ],
            [
             0.4444444444444444,
             "#bd3786"
            ],
            [
             0.5555555555555556,
             "#d8576b"
            ],
            [
             0.6666666666666666,
             "#ed7953"
            ],
            [
             0.7777777777777778,
             "#fb9f3a"
            ],
            [
             0.8888888888888888,
             "#fdca26"
            ],
            [
             1,
             "#f0f921"
            ]
           ],
           "sequentialminus": [
            [
             0,
             "#0d0887"
            ],
            [
             0.1111111111111111,
             "#46039f"
            ],
            [
             0.2222222222222222,
             "#7201a8"
            ],
            [
             0.3333333333333333,
             "#9c179e"
            ],
            [
             0.4444444444444444,
             "#bd3786"
            ],
            [
             0.5555555555555556,
             "#d8576b"
            ],
            [
             0.6666666666666666,
             "#ed7953"
            ],
            [
             0.7777777777777778,
             "#fb9f3a"
            ],
            [
             0.8888888888888888,
             "#fdca26"
            ],
            [
             1,
             "#f0f921"
            ]
           ]
          },
          "colorway": [
           "#636efa",
           "#EF553B",
           "#00cc96",
           "#ab63fa",
           "#FFA15A",
           "#19d3f3",
           "#FF6692",
           "#B6E880",
           "#FF97FF",
           "#FECB52"
          ],
          "font": {
           "color": "#2a3f5f"
          },
          "geo": {
           "bgcolor": "white",
           "lakecolor": "white",
           "landcolor": "#E5ECF6",
           "showlakes": true,
           "showland": true,
           "subunitcolor": "white"
          },
          "hoverlabel": {
           "align": "left"
          },
          "hovermode": "closest",
          "mapbox": {
           "style": "light"
          },
          "paper_bgcolor": "white",
          "plot_bgcolor": "#E5ECF6",
          "polar": {
           "angularaxis": {
            "gridcolor": "white",
            "linecolor": "white",
            "ticks": ""
           },
           "bgcolor": "#E5ECF6",
           "radialaxis": {
            "gridcolor": "white",
            "linecolor": "white",
            "ticks": ""
           }
          },
          "scene": {
           "xaxis": {
            "backgroundcolor": "#E5ECF6",
            "gridcolor": "white",
            "gridwidth": 2,
            "linecolor": "white",
            "showbackground": true,
            "ticks": "",
            "zerolinecolor": "white"
           },
           "yaxis": {
            "backgroundcolor": "#E5ECF6",
            "gridcolor": "white",
            "gridwidth": 2,
            "linecolor": "white",
            "showbackground": true,
            "ticks": "",
            "zerolinecolor": "white"
           },
           "zaxis": {
            "backgroundcolor": "#E5ECF6",
            "gridcolor": "white",
            "gridwidth": 2,
            "linecolor": "white",
            "showbackground": true,
            "ticks": "",
            "zerolinecolor": "white"
           }
          },
          "shapedefaults": {
           "line": {
            "color": "#2a3f5f"
           }
          },
          "ternary": {
           "aaxis": {
            "gridcolor": "white",
            "linecolor": "white",
            "ticks": ""
           },
           "baxis": {
            "gridcolor": "white",
            "linecolor": "white",
            "ticks": ""
           },
           "bgcolor": "#E5ECF6",
           "caxis": {
            "gridcolor": "white",
            "linecolor": "white",
            "ticks": ""
           }
          },
          "title": {
           "x": 0.05
          },
          "xaxis": {
           "automargin": true,
           "gridcolor": "white",
           "linecolor": "white",
           "ticks": "",
           "title": {
            "standoff": 15
           },
           "zerolinecolor": "white",
           "zerolinewidth": 2
          },
          "yaxis": {
           "automargin": true,
           "gridcolor": "white",
           "linecolor": "white",
           "ticks": "",
           "title": {
            "standoff": 15
           },
           "zerolinecolor": "white",
           "zerolinewidth": 2
          }
         }
        },
        "title": {
         "text": "Prevalence of Alzheimer's Disease Across Ethnicities"
        },
        "xaxis": {
         "anchor": "y",
         "domain": [
          0,
          1
         ],
         "title": {
          "text": "Ethnicity"
         }
        },
        "yaxis": {
         "anchor": "x",
         "domain": [
          0,
          1
         ],
         "title": {
          "text": "Diagnosis Rate"
         }
        }
       }
      },
      "text/html": [
       "<div>                            <div id=\"3a0b9247-31d7-419f-b5db-a141ec45b483\" class=\"plotly-graph-div\" style=\"height:525px; width:100%;\"></div>            <script type=\"text/javascript\">                require([\"plotly\"], function(Plotly) {                    window.PLOTLYENV=window.PLOTLYENV || {};                                    if (document.getElementById(\"3a0b9247-31d7-419f-b5db-a141ec45b483\")) {                    Plotly.newPlot(                        \"3a0b9247-31d7-419f-b5db-a141ec45b483\",                        [{\"alignmentgroup\":\"True\",\"hovertemplate\":\"Ethnicity=%{x}\\u003cbr\\u003eDiagnosis=%{y}\\u003cextra\\u003e\\u003c\\u002fextra\\u003e\",\"legendgroup\":\"\",\"marker\":{\"color\":\"#1F77B4\",\"pattern\":{\"shape\":\"\"}},\"name\":\"\",\"offsetgroup\":\"\",\"orientation\":\"v\",\"showlegend\":false,\"textposition\":\"auto\",\"x\":[\"Asian\",\"Caucasian\",\"African American\",\"Other\"],\"xaxis\":\"x\",\"y\":[0.4077669902912621,0.3622848200312989,0.32158590308370044,0.3175355450236967],\"yaxis\":\"y\",\"type\":\"bar\"}],                        {\"template\":{\"data\":{\"histogram2dcontour\":[{\"type\":\"histogram2dcontour\",\"colorbar\":{\"outlinewidth\":0,\"ticks\":\"\"},\"colorscale\":[[0.0,\"#0d0887\"],[0.1111111111111111,\"#46039f\"],[0.2222222222222222,\"#7201a8\"],[0.3333333333333333,\"#9c179e\"],[0.4444444444444444,\"#bd3786\"],[0.5555555555555556,\"#d8576b\"],[0.6666666666666666,\"#ed7953\"],[0.7777777777777778,\"#fb9f3a\"],[0.8888888888888888,\"#fdca26\"],[1.0,\"#f0f921\"]]}],\"choropleth\":[{\"type\":\"choropleth\",\"colorbar\":{\"outlinewidth\":0,\"ticks\":\"\"}}],\"histogram2d\":[{\"type\":\"histogram2d\",\"colorbar\":{\"outlinewidth\":0,\"ticks\":\"\"},\"colorscale\":[[0.0,\"#0d0887\"],[0.1111111111111111,\"#46039f\"],[0.2222222222222222,\"#7201a8\"],[0.3333333333333333,\"#9c179e\"],[0.4444444444444444,\"#bd3786\"],[0.5555555555555556,\"#d8576b\"],[0.6666666666666666,\"#ed7953\"],[0.7777777777777778,\"#fb9f3a\"],[0.8888888888888888,\"#fdca26\"],[1.0,\"#f0f921\"]]}],\"heatmap\":[{\"type\":\"heatmap\",\"colorbar\":{\"outlinewidth\":0,\"ticks\":\"\"},\"colorscale\":[[0.0,\"#0d0887\"],[0.1111111111111111,\"#46039f\"],[0.2222222222222222,\"#7201a8\"],[0.3333333333333333,\"#9c179e\"],[0.4444444444444444,\"#bd3786\"],[0.5555555555555556,\"#d8576b\"],[0.6666666666666666,\"#ed7953\"],[0.7777777777777778,\"#fb9f3a\"],[0.8888888888888888,\"#fdca26\"],[1.0,\"#f0f921\"]]}],\"heatmapgl\":[{\"type\":\"heatmapgl\",\"colorbar\":{\"outlinewidth\":0,\"ticks\":\"\"},\"colorscale\":[[0.0,\"#0d0887\"],[0.1111111111111111,\"#46039f\"],[0.2222222222222222,\"#7201a8\"],[0.3333333333333333,\"#9c179e\"],[0.4444444444444444,\"#bd3786\"],[0.5555555555555556,\"#d8576b\"],[0.6666666666666666,\"#ed7953\"],[0.7777777777777778,\"#fb9f3a\"],[0.8888888888888888,\"#fdca26\"],[1.0,\"#f0f921\"]]}],\"contourcarpet\":[{\"type\":\"contourcarpet\",\"colorbar\":{\"outlinewidth\":0,\"ticks\":\"\"}}],\"contour\":[{\"type\":\"contour\",\"colorbar\":{\"outlinewidth\":0,\"ticks\":\"\"},\"colorscale\":[[0.0,\"#0d0887\"],[0.1111111111111111,\"#46039f\"],[0.2222222222222222,\"#7201a8\"],[0.3333333333333333,\"#9c179e\"],[0.4444444444444444,\"#bd3786\"],[0.5555555555555556,\"#d8576b\"],[0.6666666666666666,\"#ed7953\"],[0.7777777777777778,\"#fb9f3a\"],[0.8888888888888888,\"#fdca26\"],[1.0,\"#f0f921\"]]}],\"surface\":[{\"type\":\"surface\",\"colorbar\":{\"outlinewidth\":0,\"ticks\":\"\"},\"colorscale\":[[0.0,\"#0d0887\"],[0.1111111111111111,\"#46039f\"],[0.2222222222222222,\"#7201a8\"],[0.3333333333333333,\"#9c179e\"],[0.4444444444444444,\"#bd3786\"],[0.5555555555555556,\"#d8576b\"],[0.6666666666666666,\"#ed7953\"],[0.7777777777777778,\"#fb9f3a\"],[0.8888888888888888,\"#fdca26\"],[1.0,\"#f0f921\"]]}],\"mesh3d\":[{\"type\":\"mesh3d\",\"colorbar\":{\"outlinewidth\":0,\"ticks\":\"\"}}],\"scatter\":[{\"fillpattern\":{\"fillmode\":\"overlay\",\"size\":10,\"solidity\":0.2},\"type\":\"scatter\"}],\"parcoords\":[{\"type\":\"parcoords\",\"line\":{\"colorbar\":{\"outlinewidth\":0,\"ticks\":\"\"}}}],\"scatterpolargl\":[{\"type\":\"scatterpolargl\",\"marker\":{\"colorbar\":{\"outlinewidth\":0,\"ticks\":\"\"}}}],\"bar\":[{\"error_x\":{\"color\":\"#2a3f5f\"},\"error_y\":{\"color\":\"#2a3f5f\"},\"marker\":{\"line\":{\"color\":\"#E5ECF6\",\"width\":0.5},\"pattern\":{\"fillmode\":\"overlay\",\"size\":10,\"solidity\":0.2}},\"type\":\"bar\"}],\"scattergeo\":[{\"type\":\"scattergeo\",\"marker\":{\"colorbar\":{\"outlinewidth\":0,\"ticks\":\"\"}}}],\"scatterpolar\":[{\"type\":\"scatterpolar\",\"marker\":{\"colorbar\":{\"outlinewidth\":0,\"ticks\":\"\"}}}],\"histogram\":[{\"marker\":{\"pattern\":{\"fillmode\":\"overlay\",\"size\":10,\"solidity\":0.2}},\"type\":\"histogram\"}],\"scattergl\":[{\"type\":\"scattergl\",\"marker\":{\"colorbar\":{\"outlinewidth\":0,\"ticks\":\"\"}}}],\"scatter3d\":[{\"type\":\"scatter3d\",\"line\":{\"colorbar\":{\"outlinewidth\":0,\"ticks\":\"\"}},\"marker\":{\"colorbar\":{\"outlinewidth\":0,\"ticks\":\"\"}}}],\"scattermapbox\":[{\"type\":\"scattermapbox\",\"marker\":{\"colorbar\":{\"outlinewidth\":0,\"ticks\":\"\"}}}],\"scatterternary\":[{\"type\":\"scatterternary\",\"marker\":{\"colorbar\":{\"outlinewidth\":0,\"ticks\":\"\"}}}],\"scattercarpet\":[{\"type\":\"scattercarpet\",\"marker\":{\"colorbar\":{\"outlinewidth\":0,\"ticks\":\"\"}}}],\"carpet\":[{\"aaxis\":{\"endlinecolor\":\"#2a3f5f\",\"gridcolor\":\"white\",\"linecolor\":\"white\",\"minorgridcolor\":\"white\",\"startlinecolor\":\"#2a3f5f\"},\"baxis\":{\"endlinecolor\":\"#2a3f5f\",\"gridcolor\":\"white\",\"linecolor\":\"white\",\"minorgridcolor\":\"white\",\"startlinecolor\":\"#2a3f5f\"},\"type\":\"carpet\"}],\"table\":[{\"cells\":{\"fill\":{\"color\":\"#EBF0F8\"},\"line\":{\"color\":\"white\"}},\"header\":{\"fill\":{\"color\":\"#C8D4E3\"},\"line\":{\"color\":\"white\"}},\"type\":\"table\"}],\"barpolar\":[{\"marker\":{\"line\":{\"color\":\"#E5ECF6\",\"width\":0.5},\"pattern\":{\"fillmode\":\"overlay\",\"size\":10,\"solidity\":0.2}},\"type\":\"barpolar\"}],\"pie\":[{\"automargin\":true,\"type\":\"pie\"}]},\"layout\":{\"autotypenumbers\":\"strict\",\"colorway\":[\"#636efa\",\"#EF553B\",\"#00cc96\",\"#ab63fa\",\"#FFA15A\",\"#19d3f3\",\"#FF6692\",\"#B6E880\",\"#FF97FF\",\"#FECB52\"],\"font\":{\"color\":\"#2a3f5f\"},\"hovermode\":\"closest\",\"hoverlabel\":{\"align\":\"left\"},\"paper_bgcolor\":\"white\",\"plot_bgcolor\":\"#E5ECF6\",\"polar\":{\"bgcolor\":\"#E5ECF6\",\"angularaxis\":{\"gridcolor\":\"white\",\"linecolor\":\"white\",\"ticks\":\"\"},\"radialaxis\":{\"gridcolor\":\"white\",\"linecolor\":\"white\",\"ticks\":\"\"}},\"ternary\":{\"bgcolor\":\"#E5ECF6\",\"aaxis\":{\"gridcolor\":\"white\",\"linecolor\":\"white\",\"ticks\":\"\"},\"baxis\":{\"gridcolor\":\"white\",\"linecolor\":\"white\",\"ticks\":\"\"},\"caxis\":{\"gridcolor\":\"white\",\"linecolor\":\"white\",\"ticks\":\"\"}},\"coloraxis\":{\"colorbar\":{\"outlinewidth\":0,\"ticks\":\"\"}},\"colorscale\":{\"sequential\":[[0.0,\"#0d0887\"],[0.1111111111111111,\"#46039f\"],[0.2222222222222222,\"#7201a8\"],[0.3333333333333333,\"#9c179e\"],[0.4444444444444444,\"#bd3786\"],[0.5555555555555556,\"#d8576b\"],[0.6666666666666666,\"#ed7953\"],[0.7777777777777778,\"#fb9f3a\"],[0.8888888888888888,\"#fdca26\"],[1.0,\"#f0f921\"]],\"sequentialminus\":[[0.0,\"#0d0887\"],[0.1111111111111111,\"#46039f\"],[0.2222222222222222,\"#7201a8\"],[0.3333333333333333,\"#9c179e\"],[0.4444444444444444,\"#bd3786\"],[0.5555555555555556,\"#d8576b\"],[0.6666666666666666,\"#ed7953\"],[0.7777777777777778,\"#fb9f3a\"],[0.8888888888888888,\"#fdca26\"],[1.0,\"#f0f921\"]],\"diverging\":[[0,\"#8e0152\"],[0.1,\"#c51b7d\"],[0.2,\"#de77ae\"],[0.3,\"#f1b6da\"],[0.4,\"#fde0ef\"],[0.5,\"#f7f7f7\"],[0.6,\"#e6f5d0\"],[0.7,\"#b8e186\"],[0.8,\"#7fbc41\"],[0.9,\"#4d9221\"],[1,\"#276419\"]]},\"xaxis\":{\"gridcolor\":\"white\",\"linecolor\":\"white\",\"ticks\":\"\",\"title\":{\"standoff\":15},\"zerolinecolor\":\"white\",\"automargin\":true,\"zerolinewidth\":2},\"yaxis\":{\"gridcolor\":\"white\",\"linecolor\":\"white\",\"ticks\":\"\",\"title\":{\"standoff\":15},\"zerolinecolor\":\"white\",\"automargin\":true,\"zerolinewidth\":2},\"scene\":{\"xaxis\":{\"backgroundcolor\":\"#E5ECF6\",\"gridcolor\":\"white\",\"linecolor\":\"white\",\"showbackground\":true,\"ticks\":\"\",\"zerolinecolor\":\"white\",\"gridwidth\":2},\"yaxis\":{\"backgroundcolor\":\"#E5ECF6\",\"gridcolor\":\"white\",\"linecolor\":\"white\",\"showbackground\":true,\"ticks\":\"\",\"zerolinecolor\":\"white\",\"gridwidth\":2},\"zaxis\":{\"backgroundcolor\":\"#E5ECF6\",\"gridcolor\":\"white\",\"linecolor\":\"white\",\"showbackground\":true,\"ticks\":\"\",\"zerolinecolor\":\"white\",\"gridwidth\":2}},\"shapedefaults\":{\"line\":{\"color\":\"#2a3f5f\"}},\"annotationdefaults\":{\"arrowcolor\":\"#2a3f5f\",\"arrowhead\":0,\"arrowwidth\":1},\"geo\":{\"bgcolor\":\"white\",\"landcolor\":\"#E5ECF6\",\"subunitcolor\":\"white\",\"showland\":true,\"showlakes\":true,\"lakecolor\":\"white\"},\"title\":{\"x\":0.05},\"mapbox\":{\"style\":\"light\"}}},\"xaxis\":{\"anchor\":\"y\",\"domain\":[0.0,1.0],\"title\":{\"text\":\"Ethnicity\"}},\"yaxis\":{\"anchor\":\"x\",\"domain\":[0.0,1.0],\"title\":{\"text\":\"Diagnosis Rate\"}},\"legend\":{\"tracegroupgap\":0},\"title\":{\"text\":\"Prevalence of Alzheimer's Disease Across Ethnicities\"},\"barmode\":\"relative\"},                        {\"responsive\": true}                    ).then(function(){\n",
       "                            \n",
       "var gd = document.getElementById('3a0b9247-31d7-419f-b5db-a141ec45b483');\n",
       "var x = new MutationObserver(function (mutations, observer) {{\n",
       "        var display = window.getComputedStyle(gd).display;\n",
       "        if (!display || display === 'none') {{\n",
       "            console.log([gd, 'removed!']);\n",
       "            Plotly.purge(gd);\n",
       "            observer.disconnect();\n",
       "        }}\n",
       "}});\n",
       "\n",
       "// Listen for the removal of the full notebook cells\n",
       "var notebookContainer = gd.closest('#notebook-container');\n",
       "if (notebookContainer) {{\n",
       "    x.observe(notebookContainer, {childList: true});\n",
       "}}\n",
       "\n",
       "// Listen for the clearing of the current output cell\n",
       "var outputEl = gd.closest('.output');\n",
       "if (outputEl) {{\n",
       "    x.observe(outputEl, {childList: true});\n",
       "}}\n",
       "\n",
       "                        })                };                });            </script>        </div>"
      ]
     },
     "metadata": {},
     "output_type": "display_data"
    }
   ],
   "source": [
    "#Second univariate analysis that shows the prevalence of Alzheimer's Disease Across Races\n",
    "\n",
    "mapping = {\n",
    "    0: \"Caucasian\",\n",
    "    1: \"African American\", \n",
    "    2: \"Asian\",\n",
    "    3: \"Other\"\n",
    "}\n",
    "\n",
    "data = alz.groupby(\"Ethnicity\")[\"Diagnosis\"].mean().reset_index().sort_values(by = \"Diagnosis\", ascending = False)\n",
    "data[\"Ethnicity\"] = data[\"Ethnicity\"].map(mapping)\n",
    "fig = px.bar(data, x = \"Ethnicity\", y = \"Diagnosis\", title = \"Prevalence of Alzheimer's Disease Across Ethnicities\", \n",
    "            color_discrete_sequence = px.colors.qualitative.D3)\n",
    "fig.update_layout(yaxis_title = \"Diagnosis Rate\")\n",
    "\n",
    "fig.show()\n",
    "fig.write_html(\"/Users/kenogihara/Desktop/ALL_PROJECTS/alzheimers_project/assets/html.plot1 copy.html\", include_plotlyjs = \"cdn\")"
   ]
  },
  {
   "cell_type": "code",
   "execution_count": 6,
   "id": "9c167a75",
   "metadata": {},
   "outputs": [
    {
     "data": {
      "application/vnd.plotly.v1+json": {
       "config": {
        "plotlyServerURL": "https://plot.ly"
       },
       "data": [
        {
         "alignmentgroup": "True",
         "hovertemplate": "EducationLevel=%{x}<br>Diagnosis=%{y}<extra></extra>",
         "legendgroup": "",
         "marker": {
          "color": "#1F77B4",
          "pattern": {
           "shape": ""
          }
         },
         "name": "",
         "offsetgroup": "",
         "orientation": "v",
         "showlegend": false,
         "textposition": "auto",
         "type": "bar",
         "x": [
          "None",
          "High School",
          "Bachelor's",
          "Higher"
         ],
         "xaxis": "x",
         "y": [
          0.3901345291479821,
          0.35362997658079626,
          0.3411949685534591,
          0.3145539906103286
         ],
         "yaxis": "y"
        }
       ],
       "layout": {
        "barmode": "relative",
        "legend": {
         "tracegroupgap": 0
        },
        "template": {
         "data": {
          "bar": [
           {
            "error_x": {
             "color": "#2a3f5f"
            },
            "error_y": {
             "color": "#2a3f5f"
            },
            "marker": {
             "line": {
              "color": "#E5ECF6",
              "width": 0.5
             },
             "pattern": {
              "fillmode": "overlay",
              "size": 10,
              "solidity": 0.2
             }
            },
            "type": "bar"
           }
          ],
          "barpolar": [
           {
            "marker": {
             "line": {
              "color": "#E5ECF6",
              "width": 0.5
             },
             "pattern": {
              "fillmode": "overlay",
              "size": 10,
              "solidity": 0.2
             }
            },
            "type": "barpolar"
           }
          ],
          "carpet": [
           {
            "aaxis": {
             "endlinecolor": "#2a3f5f",
             "gridcolor": "white",
             "linecolor": "white",
             "minorgridcolor": "white",
             "startlinecolor": "#2a3f5f"
            },
            "baxis": {
             "endlinecolor": "#2a3f5f",
             "gridcolor": "white",
             "linecolor": "white",
             "minorgridcolor": "white",
             "startlinecolor": "#2a3f5f"
            },
            "type": "carpet"
           }
          ],
          "choropleth": [
           {
            "colorbar": {
             "outlinewidth": 0,
             "ticks": ""
            },
            "type": "choropleth"
           }
          ],
          "contour": [
           {
            "colorbar": {
             "outlinewidth": 0,
             "ticks": ""
            },
            "colorscale": [
             [
              0,
              "#0d0887"
             ],
             [
              0.1111111111111111,
              "#46039f"
             ],
             [
              0.2222222222222222,
              "#7201a8"
             ],
             [
              0.3333333333333333,
              "#9c179e"
             ],
             [
              0.4444444444444444,
              "#bd3786"
             ],
             [
              0.5555555555555556,
              "#d8576b"
             ],
             [
              0.6666666666666666,
              "#ed7953"
             ],
             [
              0.7777777777777778,
              "#fb9f3a"
             ],
             [
              0.8888888888888888,
              "#fdca26"
             ],
             [
              1,
              "#f0f921"
             ]
            ],
            "type": "contour"
           }
          ],
          "contourcarpet": [
           {
            "colorbar": {
             "outlinewidth": 0,
             "ticks": ""
            },
            "type": "contourcarpet"
           }
          ],
          "heatmap": [
           {
            "colorbar": {
             "outlinewidth": 0,
             "ticks": ""
            },
            "colorscale": [
             [
              0,
              "#0d0887"
             ],
             [
              0.1111111111111111,
              "#46039f"
             ],
             [
              0.2222222222222222,
              "#7201a8"
             ],
             [
              0.3333333333333333,
              "#9c179e"
             ],
             [
              0.4444444444444444,
              "#bd3786"
             ],
             [
              0.5555555555555556,
              "#d8576b"
             ],
             [
              0.6666666666666666,
              "#ed7953"
             ],
             [
              0.7777777777777778,
              "#fb9f3a"
             ],
             [
              0.8888888888888888,
              "#fdca26"
             ],
             [
              1,
              "#f0f921"
             ]
            ],
            "type": "heatmap"
           }
          ],
          "heatmapgl": [
           {
            "colorbar": {
             "outlinewidth": 0,
             "ticks": ""
            },
            "colorscale": [
             [
              0,
              "#0d0887"
             ],
             [
              0.1111111111111111,
              "#46039f"
             ],
             [
              0.2222222222222222,
              "#7201a8"
             ],
             [
              0.3333333333333333,
              "#9c179e"
             ],
             [
              0.4444444444444444,
              "#bd3786"
             ],
             [
              0.5555555555555556,
              "#d8576b"
             ],
             [
              0.6666666666666666,
              "#ed7953"
             ],
             [
              0.7777777777777778,
              "#fb9f3a"
             ],
             [
              0.8888888888888888,
              "#fdca26"
             ],
             [
              1,
              "#f0f921"
             ]
            ],
            "type": "heatmapgl"
           }
          ],
          "histogram": [
           {
            "marker": {
             "pattern": {
              "fillmode": "overlay",
              "size": 10,
              "solidity": 0.2
             }
            },
            "type": "histogram"
           }
          ],
          "histogram2d": [
           {
            "colorbar": {
             "outlinewidth": 0,
             "ticks": ""
            },
            "colorscale": [
             [
              0,
              "#0d0887"
             ],
             [
              0.1111111111111111,
              "#46039f"
             ],
             [
              0.2222222222222222,
              "#7201a8"
             ],
             [
              0.3333333333333333,
              "#9c179e"
             ],
             [
              0.4444444444444444,
              "#bd3786"
             ],
             [
              0.5555555555555556,
              "#d8576b"
             ],
             [
              0.6666666666666666,
              "#ed7953"
             ],
             [
              0.7777777777777778,
              "#fb9f3a"
             ],
             [
              0.8888888888888888,
              "#fdca26"
             ],
             [
              1,
              "#f0f921"
             ]
            ],
            "type": "histogram2d"
           }
          ],
          "histogram2dcontour": [
           {
            "colorbar": {
             "outlinewidth": 0,
             "ticks": ""
            },
            "colorscale": [
             [
              0,
              "#0d0887"
             ],
             [
              0.1111111111111111,
              "#46039f"
             ],
             [
              0.2222222222222222,
              "#7201a8"
             ],
             [
              0.3333333333333333,
              "#9c179e"
             ],
             [
              0.4444444444444444,
              "#bd3786"
             ],
             [
              0.5555555555555556,
              "#d8576b"
             ],
             [
              0.6666666666666666,
              "#ed7953"
             ],
             [
              0.7777777777777778,
              "#fb9f3a"
             ],
             [
              0.8888888888888888,
              "#fdca26"
             ],
             [
              1,
              "#f0f921"
             ]
            ],
            "type": "histogram2dcontour"
           }
          ],
          "mesh3d": [
           {
            "colorbar": {
             "outlinewidth": 0,
             "ticks": ""
            },
            "type": "mesh3d"
           }
          ],
          "parcoords": [
           {
            "line": {
             "colorbar": {
              "outlinewidth": 0,
              "ticks": ""
             }
            },
            "type": "parcoords"
           }
          ],
          "pie": [
           {
            "automargin": true,
            "type": "pie"
           }
          ],
          "scatter": [
           {
            "fillpattern": {
             "fillmode": "overlay",
             "size": 10,
             "solidity": 0.2
            },
            "type": "scatter"
           }
          ],
          "scatter3d": [
           {
            "line": {
             "colorbar": {
              "outlinewidth": 0,
              "ticks": ""
             }
            },
            "marker": {
             "colorbar": {
              "outlinewidth": 0,
              "ticks": ""
             }
            },
            "type": "scatter3d"
           }
          ],
          "scattercarpet": [
           {
            "marker": {
             "colorbar": {
              "outlinewidth": 0,
              "ticks": ""
             }
            },
            "type": "scattercarpet"
           }
          ],
          "scattergeo": [
           {
            "marker": {
             "colorbar": {
              "outlinewidth": 0,
              "ticks": ""
             }
            },
            "type": "scattergeo"
           }
          ],
          "scattergl": [
           {
            "marker": {
             "colorbar": {
              "outlinewidth": 0,
              "ticks": ""
             }
            },
            "type": "scattergl"
           }
          ],
          "scattermapbox": [
           {
            "marker": {
             "colorbar": {
              "outlinewidth": 0,
              "ticks": ""
             }
            },
            "type": "scattermapbox"
           }
          ],
          "scatterpolar": [
           {
            "marker": {
             "colorbar": {
              "outlinewidth": 0,
              "ticks": ""
             }
            },
            "type": "scatterpolar"
           }
          ],
          "scatterpolargl": [
           {
            "marker": {
             "colorbar": {
              "outlinewidth": 0,
              "ticks": ""
             }
            },
            "type": "scatterpolargl"
           }
          ],
          "scatterternary": [
           {
            "marker": {
             "colorbar": {
              "outlinewidth": 0,
              "ticks": ""
             }
            },
            "type": "scatterternary"
           }
          ],
          "surface": [
           {
            "colorbar": {
             "outlinewidth": 0,
             "ticks": ""
            },
            "colorscale": [
             [
              0,
              "#0d0887"
             ],
             [
              0.1111111111111111,
              "#46039f"
             ],
             [
              0.2222222222222222,
              "#7201a8"
             ],
             [
              0.3333333333333333,
              "#9c179e"
             ],
             [
              0.4444444444444444,
              "#bd3786"
             ],
             [
              0.5555555555555556,
              "#d8576b"
             ],
             [
              0.6666666666666666,
              "#ed7953"
             ],
             [
              0.7777777777777778,
              "#fb9f3a"
             ],
             [
              0.8888888888888888,
              "#fdca26"
             ],
             [
              1,
              "#f0f921"
             ]
            ],
            "type": "surface"
           }
          ],
          "table": [
           {
            "cells": {
             "fill": {
              "color": "#EBF0F8"
             },
             "line": {
              "color": "white"
             }
            },
            "header": {
             "fill": {
              "color": "#C8D4E3"
             },
             "line": {
              "color": "white"
             }
            },
            "type": "table"
           }
          ]
         },
         "layout": {
          "annotationdefaults": {
           "arrowcolor": "#2a3f5f",
           "arrowhead": 0,
           "arrowwidth": 1
          },
          "autotypenumbers": "strict",
          "coloraxis": {
           "colorbar": {
            "outlinewidth": 0,
            "ticks": ""
           }
          },
          "colorscale": {
           "diverging": [
            [
             0,
             "#8e0152"
            ],
            [
             0.1,
             "#c51b7d"
            ],
            [
             0.2,
             "#de77ae"
            ],
            [
             0.3,
             "#f1b6da"
            ],
            [
             0.4,
             "#fde0ef"
            ],
            [
             0.5,
             "#f7f7f7"
            ],
            [
             0.6,
             "#e6f5d0"
            ],
            [
             0.7,
             "#b8e186"
            ],
            [
             0.8,
             "#7fbc41"
            ],
            [
             0.9,
             "#4d9221"
            ],
            [
             1,
             "#276419"
            ]
           ],
           "sequential": [
            [
             0,
             "#0d0887"
            ],
            [
             0.1111111111111111,
             "#46039f"
            ],
            [
             0.2222222222222222,
             "#7201a8"
            ],
            [
             0.3333333333333333,
             "#9c179e"
            ],
            [
             0.4444444444444444,
             "#bd3786"
            ],
            [
             0.5555555555555556,
             "#d8576b"
            ],
            [
             0.6666666666666666,
             "#ed7953"
            ],
            [
             0.7777777777777778,
             "#fb9f3a"
            ],
            [
             0.8888888888888888,
             "#fdca26"
            ],
            [
             1,
             "#f0f921"
            ]
           ],
           "sequentialminus": [
            [
             0,
             "#0d0887"
            ],
            [
             0.1111111111111111,
             "#46039f"
            ],
            [
             0.2222222222222222,
             "#7201a8"
            ],
            [
             0.3333333333333333,
             "#9c179e"
            ],
            [
             0.4444444444444444,
             "#bd3786"
            ],
            [
             0.5555555555555556,
             "#d8576b"
            ],
            [
             0.6666666666666666,
             "#ed7953"
            ],
            [
             0.7777777777777778,
             "#fb9f3a"
            ],
            [
             0.8888888888888888,
             "#fdca26"
            ],
            [
             1,
             "#f0f921"
            ]
           ]
          },
          "colorway": [
           "#636efa",
           "#EF553B",
           "#00cc96",
           "#ab63fa",
           "#FFA15A",
           "#19d3f3",
           "#FF6692",
           "#B6E880",
           "#FF97FF",
           "#FECB52"
          ],
          "font": {
           "color": "#2a3f5f"
          },
          "geo": {
           "bgcolor": "white",
           "lakecolor": "white",
           "landcolor": "#E5ECF6",
           "showlakes": true,
           "showland": true,
           "subunitcolor": "white"
          },
          "hoverlabel": {
           "align": "left"
          },
          "hovermode": "closest",
          "mapbox": {
           "style": "light"
          },
          "paper_bgcolor": "white",
          "plot_bgcolor": "#E5ECF6",
          "polar": {
           "angularaxis": {
            "gridcolor": "white",
            "linecolor": "white",
            "ticks": ""
           },
           "bgcolor": "#E5ECF6",
           "radialaxis": {
            "gridcolor": "white",
            "linecolor": "white",
            "ticks": ""
           }
          },
          "scene": {
           "xaxis": {
            "backgroundcolor": "#E5ECF6",
            "gridcolor": "white",
            "gridwidth": 2,
            "linecolor": "white",
            "showbackground": true,
            "ticks": "",
            "zerolinecolor": "white"
           },
           "yaxis": {
            "backgroundcolor": "#E5ECF6",
            "gridcolor": "white",
            "gridwidth": 2,
            "linecolor": "white",
            "showbackground": true,
            "ticks": "",
            "zerolinecolor": "white"
           },
           "zaxis": {
            "backgroundcolor": "#E5ECF6",
            "gridcolor": "white",
            "gridwidth": 2,
            "linecolor": "white",
            "showbackground": true,
            "ticks": "",
            "zerolinecolor": "white"
           }
          },
          "shapedefaults": {
           "line": {
            "color": "#2a3f5f"
           }
          },
          "ternary": {
           "aaxis": {
            "gridcolor": "white",
            "linecolor": "white",
            "ticks": ""
           },
           "baxis": {
            "gridcolor": "white",
            "linecolor": "white",
            "ticks": ""
           },
           "bgcolor": "#E5ECF6",
           "caxis": {
            "gridcolor": "white",
            "linecolor": "white",
            "ticks": ""
           }
          },
          "title": {
           "x": 0.05
          },
          "xaxis": {
           "automargin": true,
           "gridcolor": "white",
           "linecolor": "white",
           "ticks": "",
           "title": {
            "standoff": 15
           },
           "zerolinecolor": "white",
           "zerolinewidth": 2
          },
          "yaxis": {
           "automargin": true,
           "gridcolor": "white",
           "linecolor": "white",
           "ticks": "",
           "title": {
            "standoff": 15
           },
           "zerolinecolor": "white",
           "zerolinewidth": 2
          }
         }
        },
        "title": {
         "text": "Prevalence of Alzheimer's Disease Across Education Level"
        },
        "xaxis": {
         "anchor": "y",
         "domain": [
          0,
          1
         ],
         "title": {
          "text": "Education Level"
         }
        },
        "yaxis": {
         "anchor": "x",
         "domain": [
          0,
          1
         ],
         "title": {
          "text": "Diagnosis Rate"
         }
        }
       }
      },
      "text/html": [
       "<div>                            <div id=\"4f37fce1-5da2-4df3-98ad-f406b1d6db99\" class=\"plotly-graph-div\" style=\"height:525px; width:100%;\"></div>            <script type=\"text/javascript\">                require([\"plotly\"], function(Plotly) {                    window.PLOTLYENV=window.PLOTLYENV || {};                                    if (document.getElementById(\"4f37fce1-5da2-4df3-98ad-f406b1d6db99\")) {                    Plotly.newPlot(                        \"4f37fce1-5da2-4df3-98ad-f406b1d6db99\",                        [{\"alignmentgroup\":\"True\",\"hovertemplate\":\"EducationLevel=%{x}\\u003cbr\\u003eDiagnosis=%{y}\\u003cextra\\u003e\\u003c\\u002fextra\\u003e\",\"legendgroup\":\"\",\"marker\":{\"color\":\"#1F77B4\",\"pattern\":{\"shape\":\"\"}},\"name\":\"\",\"offsetgroup\":\"\",\"orientation\":\"v\",\"showlegend\":false,\"textposition\":\"auto\",\"x\":[\"None\",\"High School\",\"Bachelor's\",\"Higher\"],\"xaxis\":\"x\",\"y\":[0.3901345291479821,0.35362997658079626,0.3411949685534591,0.3145539906103286],\"yaxis\":\"y\",\"type\":\"bar\"}],                        {\"template\":{\"data\":{\"histogram2dcontour\":[{\"type\":\"histogram2dcontour\",\"colorbar\":{\"outlinewidth\":0,\"ticks\":\"\"},\"colorscale\":[[0.0,\"#0d0887\"],[0.1111111111111111,\"#46039f\"],[0.2222222222222222,\"#7201a8\"],[0.3333333333333333,\"#9c179e\"],[0.4444444444444444,\"#bd3786\"],[0.5555555555555556,\"#d8576b\"],[0.6666666666666666,\"#ed7953\"],[0.7777777777777778,\"#fb9f3a\"],[0.8888888888888888,\"#fdca26\"],[1.0,\"#f0f921\"]]}],\"choropleth\":[{\"type\":\"choropleth\",\"colorbar\":{\"outlinewidth\":0,\"ticks\":\"\"}}],\"histogram2d\":[{\"type\":\"histogram2d\",\"colorbar\":{\"outlinewidth\":0,\"ticks\":\"\"},\"colorscale\":[[0.0,\"#0d0887\"],[0.1111111111111111,\"#46039f\"],[0.2222222222222222,\"#7201a8\"],[0.3333333333333333,\"#9c179e\"],[0.4444444444444444,\"#bd3786\"],[0.5555555555555556,\"#d8576b\"],[0.6666666666666666,\"#ed7953\"],[0.7777777777777778,\"#fb9f3a\"],[0.8888888888888888,\"#fdca26\"],[1.0,\"#f0f921\"]]}],\"heatmap\":[{\"type\":\"heatmap\",\"colorbar\":{\"outlinewidth\":0,\"ticks\":\"\"},\"colorscale\":[[0.0,\"#0d0887\"],[0.1111111111111111,\"#46039f\"],[0.2222222222222222,\"#7201a8\"],[0.3333333333333333,\"#9c179e\"],[0.4444444444444444,\"#bd3786\"],[0.5555555555555556,\"#d8576b\"],[0.6666666666666666,\"#ed7953\"],[0.7777777777777778,\"#fb9f3a\"],[0.8888888888888888,\"#fdca26\"],[1.0,\"#f0f921\"]]}],\"heatmapgl\":[{\"type\":\"heatmapgl\",\"colorbar\":{\"outlinewidth\":0,\"ticks\":\"\"},\"colorscale\":[[0.0,\"#0d0887\"],[0.1111111111111111,\"#46039f\"],[0.2222222222222222,\"#7201a8\"],[0.3333333333333333,\"#9c179e\"],[0.4444444444444444,\"#bd3786\"],[0.5555555555555556,\"#d8576b\"],[0.6666666666666666,\"#ed7953\"],[0.7777777777777778,\"#fb9f3a\"],[0.8888888888888888,\"#fdca26\"],[1.0,\"#f0f921\"]]}],\"contourcarpet\":[{\"type\":\"contourcarpet\",\"colorbar\":{\"outlinewidth\":0,\"ticks\":\"\"}}],\"contour\":[{\"type\":\"contour\",\"colorbar\":{\"outlinewidth\":0,\"ticks\":\"\"},\"colorscale\":[[0.0,\"#0d0887\"],[0.1111111111111111,\"#46039f\"],[0.2222222222222222,\"#7201a8\"],[0.3333333333333333,\"#9c179e\"],[0.4444444444444444,\"#bd3786\"],[0.5555555555555556,\"#d8576b\"],[0.6666666666666666,\"#ed7953\"],[0.7777777777777778,\"#fb9f3a\"],[0.8888888888888888,\"#fdca26\"],[1.0,\"#f0f921\"]]}],\"surface\":[{\"type\":\"surface\",\"colorbar\":{\"outlinewidth\":0,\"ticks\":\"\"},\"colorscale\":[[0.0,\"#0d0887\"],[0.1111111111111111,\"#46039f\"],[0.2222222222222222,\"#7201a8\"],[0.3333333333333333,\"#9c179e\"],[0.4444444444444444,\"#bd3786\"],[0.5555555555555556,\"#d8576b\"],[0.6666666666666666,\"#ed7953\"],[0.7777777777777778,\"#fb9f3a\"],[0.8888888888888888,\"#fdca26\"],[1.0,\"#f0f921\"]]}],\"mesh3d\":[{\"type\":\"mesh3d\",\"colorbar\":{\"outlinewidth\":0,\"ticks\":\"\"}}],\"scatter\":[{\"fillpattern\":{\"fillmode\":\"overlay\",\"size\":10,\"solidity\":0.2},\"type\":\"scatter\"}],\"parcoords\":[{\"type\":\"parcoords\",\"line\":{\"colorbar\":{\"outlinewidth\":0,\"ticks\":\"\"}}}],\"scatterpolargl\":[{\"type\":\"scatterpolargl\",\"marker\":{\"colorbar\":{\"outlinewidth\":0,\"ticks\":\"\"}}}],\"bar\":[{\"error_x\":{\"color\":\"#2a3f5f\"},\"error_y\":{\"color\":\"#2a3f5f\"},\"marker\":{\"line\":{\"color\":\"#E5ECF6\",\"width\":0.5},\"pattern\":{\"fillmode\":\"overlay\",\"size\":10,\"solidity\":0.2}},\"type\":\"bar\"}],\"scattergeo\":[{\"type\":\"scattergeo\",\"marker\":{\"colorbar\":{\"outlinewidth\":0,\"ticks\":\"\"}}}],\"scatterpolar\":[{\"type\":\"scatterpolar\",\"marker\":{\"colorbar\":{\"outlinewidth\":0,\"ticks\":\"\"}}}],\"histogram\":[{\"marker\":{\"pattern\":{\"fillmode\":\"overlay\",\"size\":10,\"solidity\":0.2}},\"type\":\"histogram\"}],\"scattergl\":[{\"type\":\"scattergl\",\"marker\":{\"colorbar\":{\"outlinewidth\":0,\"ticks\":\"\"}}}],\"scatter3d\":[{\"type\":\"scatter3d\",\"line\":{\"colorbar\":{\"outlinewidth\":0,\"ticks\":\"\"}},\"marker\":{\"colorbar\":{\"outlinewidth\":0,\"ticks\":\"\"}}}],\"scattermapbox\":[{\"type\":\"scattermapbox\",\"marker\":{\"colorbar\":{\"outlinewidth\":0,\"ticks\":\"\"}}}],\"scatterternary\":[{\"type\":\"scatterternary\",\"marker\":{\"colorbar\":{\"outlinewidth\":0,\"ticks\":\"\"}}}],\"scattercarpet\":[{\"type\":\"scattercarpet\",\"marker\":{\"colorbar\":{\"outlinewidth\":0,\"ticks\":\"\"}}}],\"carpet\":[{\"aaxis\":{\"endlinecolor\":\"#2a3f5f\",\"gridcolor\":\"white\",\"linecolor\":\"white\",\"minorgridcolor\":\"white\",\"startlinecolor\":\"#2a3f5f\"},\"baxis\":{\"endlinecolor\":\"#2a3f5f\",\"gridcolor\":\"white\",\"linecolor\":\"white\",\"minorgridcolor\":\"white\",\"startlinecolor\":\"#2a3f5f\"},\"type\":\"carpet\"}],\"table\":[{\"cells\":{\"fill\":{\"color\":\"#EBF0F8\"},\"line\":{\"color\":\"white\"}},\"header\":{\"fill\":{\"color\":\"#C8D4E3\"},\"line\":{\"color\":\"white\"}},\"type\":\"table\"}],\"barpolar\":[{\"marker\":{\"line\":{\"color\":\"#E5ECF6\",\"width\":0.5},\"pattern\":{\"fillmode\":\"overlay\",\"size\":10,\"solidity\":0.2}},\"type\":\"barpolar\"}],\"pie\":[{\"automargin\":true,\"type\":\"pie\"}]},\"layout\":{\"autotypenumbers\":\"strict\",\"colorway\":[\"#636efa\",\"#EF553B\",\"#00cc96\",\"#ab63fa\",\"#FFA15A\",\"#19d3f3\",\"#FF6692\",\"#B6E880\",\"#FF97FF\",\"#FECB52\"],\"font\":{\"color\":\"#2a3f5f\"},\"hovermode\":\"closest\",\"hoverlabel\":{\"align\":\"left\"},\"paper_bgcolor\":\"white\",\"plot_bgcolor\":\"#E5ECF6\",\"polar\":{\"bgcolor\":\"#E5ECF6\",\"angularaxis\":{\"gridcolor\":\"white\",\"linecolor\":\"white\",\"ticks\":\"\"},\"radialaxis\":{\"gridcolor\":\"white\",\"linecolor\":\"white\",\"ticks\":\"\"}},\"ternary\":{\"bgcolor\":\"#E5ECF6\",\"aaxis\":{\"gridcolor\":\"white\",\"linecolor\":\"white\",\"ticks\":\"\"},\"baxis\":{\"gridcolor\":\"white\",\"linecolor\":\"white\",\"ticks\":\"\"},\"caxis\":{\"gridcolor\":\"white\",\"linecolor\":\"white\",\"ticks\":\"\"}},\"coloraxis\":{\"colorbar\":{\"outlinewidth\":0,\"ticks\":\"\"}},\"colorscale\":{\"sequential\":[[0.0,\"#0d0887\"],[0.1111111111111111,\"#46039f\"],[0.2222222222222222,\"#7201a8\"],[0.3333333333333333,\"#9c179e\"],[0.4444444444444444,\"#bd3786\"],[0.5555555555555556,\"#d8576b\"],[0.6666666666666666,\"#ed7953\"],[0.7777777777777778,\"#fb9f3a\"],[0.8888888888888888,\"#fdca26\"],[1.0,\"#f0f921\"]],\"sequentialminus\":[[0.0,\"#0d0887\"],[0.1111111111111111,\"#46039f\"],[0.2222222222222222,\"#7201a8\"],[0.3333333333333333,\"#9c179e\"],[0.4444444444444444,\"#bd3786\"],[0.5555555555555556,\"#d8576b\"],[0.6666666666666666,\"#ed7953\"],[0.7777777777777778,\"#fb9f3a\"],[0.8888888888888888,\"#fdca26\"],[1.0,\"#f0f921\"]],\"diverging\":[[0,\"#8e0152\"],[0.1,\"#c51b7d\"],[0.2,\"#de77ae\"],[0.3,\"#f1b6da\"],[0.4,\"#fde0ef\"],[0.5,\"#f7f7f7\"],[0.6,\"#e6f5d0\"],[0.7,\"#b8e186\"],[0.8,\"#7fbc41\"],[0.9,\"#4d9221\"],[1,\"#276419\"]]},\"xaxis\":{\"gridcolor\":\"white\",\"linecolor\":\"white\",\"ticks\":\"\",\"title\":{\"standoff\":15},\"zerolinecolor\":\"white\",\"automargin\":true,\"zerolinewidth\":2},\"yaxis\":{\"gridcolor\":\"white\",\"linecolor\":\"white\",\"ticks\":\"\",\"title\":{\"standoff\":15},\"zerolinecolor\":\"white\",\"automargin\":true,\"zerolinewidth\":2},\"scene\":{\"xaxis\":{\"backgroundcolor\":\"#E5ECF6\",\"gridcolor\":\"white\",\"linecolor\":\"white\",\"showbackground\":true,\"ticks\":\"\",\"zerolinecolor\":\"white\",\"gridwidth\":2},\"yaxis\":{\"backgroundcolor\":\"#E5ECF6\",\"gridcolor\":\"white\",\"linecolor\":\"white\",\"showbackground\":true,\"ticks\":\"\",\"zerolinecolor\":\"white\",\"gridwidth\":2},\"zaxis\":{\"backgroundcolor\":\"#E5ECF6\",\"gridcolor\":\"white\",\"linecolor\":\"white\",\"showbackground\":true,\"ticks\":\"\",\"zerolinecolor\":\"white\",\"gridwidth\":2}},\"shapedefaults\":{\"line\":{\"color\":\"#2a3f5f\"}},\"annotationdefaults\":{\"arrowcolor\":\"#2a3f5f\",\"arrowhead\":0,\"arrowwidth\":1},\"geo\":{\"bgcolor\":\"white\",\"landcolor\":\"#E5ECF6\",\"subunitcolor\":\"white\",\"showland\":true,\"showlakes\":true,\"lakecolor\":\"white\"},\"title\":{\"x\":0.05},\"mapbox\":{\"style\":\"light\"}}},\"xaxis\":{\"anchor\":\"y\",\"domain\":[0.0,1.0],\"title\":{\"text\":\"Education Level\"}},\"yaxis\":{\"anchor\":\"x\",\"domain\":[0.0,1.0],\"title\":{\"text\":\"Diagnosis Rate\"}},\"legend\":{\"tracegroupgap\":0},\"title\":{\"text\":\"Prevalence of Alzheimer's Disease Across Education Level\"},\"barmode\":\"relative\"},                        {\"responsive\": true}                    ).then(function(){\n",
       "                            \n",
       "var gd = document.getElementById('4f37fce1-5da2-4df3-98ad-f406b1d6db99');\n",
       "var x = new MutationObserver(function (mutations, observer) {{\n",
       "        var display = window.getComputedStyle(gd).display;\n",
       "        if (!display || display === 'none') {{\n",
       "            console.log([gd, 'removed!']);\n",
       "            Plotly.purge(gd);\n",
       "            observer.disconnect();\n",
       "        }}\n",
       "}});\n",
       "\n",
       "// Listen for the removal of the full notebook cells\n",
       "var notebookContainer = gd.closest('#notebook-container');\n",
       "if (notebookContainer) {{\n",
       "    x.observe(notebookContainer, {childList: true});\n",
       "}}\n",
       "\n",
       "// Listen for the clearing of the current output cell\n",
       "var outputEl = gd.closest('.output');\n",
       "if (outputEl) {{\n",
       "    x.observe(outputEl, {childList: true});\n",
       "}}\n",
       "\n",
       "                        })                };                });            </script>        </div>"
      ]
     },
     "metadata": {},
     "output_type": "display_data"
    }
   ],
   "source": [
    "#Third univariate analysis that shows the prevalence of Alzheimer's Disease Across Education level\n",
    "\n",
    "mapping = {\n",
    "    0: \"None\",\n",
    "    1: \"High School\", \n",
    "    2: \"Bachelor's\",\n",
    "    3: \"Higher\"\n",
    "}\n",
    "\n",
    "data = alz.groupby(\"EducationLevel\")[\"Diagnosis\"].mean().reset_index()\n",
    "data[\"EducationLevel\"] = data[\"EducationLevel\"].map(mapping)\n",
    "fig = px.bar(data, x = \"EducationLevel\", y = \"Diagnosis\", title = \"Prevalence of Alzheimer's Disease Across Education Level\", \n",
    "            color_discrete_sequence = px.colors.qualitative.D3)\n",
    "fig.update_layout(xaxis_title = \"Education Level\", yaxis_title = \"Diagnosis Rate\")\n",
    "fig.show()\n",
    "# fig.write_html(\"/Users/kenogihara/Desktop/ALL_PROJECTS/alzheimers_project/assets/html.plot1 copy2.html\", include_plotlyjs = \"cdn\")"
   ]
  },
  {
   "cell_type": "code",
   "execution_count": 10,
   "id": "a9551d9e",
   "metadata": {},
   "outputs": [
    {
     "name": "stdout",
     "output_type": "stream",
     "text": [
      "p_value: 0.0\n"
     ]
    },
    {
     "data": {
      "application/vnd.plotly.v1+json": {
       "config": {
        "plotlyServerURL": "https://plot.ly"
       },
       "data": [
        {
         "alignmentgroup": "True",
         "bingroup": "x",
         "histnorm": "probability",
         "hovertemplate": "0=%{x}<br>probability=%{y}<extra></extra>",
         "legendgroup": "",
         "marker": {
          "color": "#636efa",
          "pattern": {
           "shape": ""
          }
         },
         "name": "",
         "nbinsx": 50,
         "offsetgroup": "",
         "orientation": "v",
         "showlegend": false,
         "type": "histogram",
         "x": [
          0.05707458260711834,
          0.06602312846841585,
          0.05483744614179392,
          0.09510590251763285,
          0.07720881079503777,
          0.05483744614179392,
          0.06826026493374027,
          0.08392022019101092,
          0.09063162958698412,
          0.09286876605230848,
          0.05483744614179392,
          0.06602312846841585,
          0.07944594726036219,
          0.07720881079503777,
          0.03917749088452327,
          0.06602312846841585,
          0.09510590251763285,
          0.01904326269660378,
          0.050363173211145196,
          0.06154885553776712,
          0.0883944931216597,
          0.10629158484425477,
          0.0883944931216597,
          0.06378599200309149,
          0.06602312846841585,
          0.09063162958698412,
          0.08168308372568656,
          0.11300299424022797,
          0.030228945023225706,
          0.08615735665633534,
          0.11524013070555233,
          0.04812603674582078,
          0.10852872130957919,
          0.0883944931216597,
          0.0883944931216597,
          0.11300299424022797,
          0.10629158484425477,
          0.10181731191360605,
          0.043651763815171996,
          0.09958017544828163,
          0.0883944931216597,
          0.09063162958698412,
          0.09286876605230848,
          0.09063162958698412,
          0.06602312846841585,
          0.10852872130957919,
          0.050363173211145196,
          0.05483744614179392,
          0.10181731191360605,
          0.059311719072442703,
          0.07720881079503777,
          0.07273453786438899,
          0.059311719072442703,
          0.045888900280496414,
          0.06826026493374027,
          0.06154885553776712,
          0.05260030967646956,
          0.13537435889347177,
          0.05260030967646956,
          0.03917749088452327,
          0.050363173211145196,
          0.06602312846841585,
          0.07049740139906463,
          0.0883944931216597,
          0.10852872130957919,
          0.059311719072442703,
          0.09958017544828163,
          0.09286876605230848,
          0.07049740139906463,
          0.07049740139906463,
          0.059311719072442703,
          0.07497167432971341,
          0.07497167432971341,
          0.10405444837893041,
          0.07944594726036219,
          0.09734303898295726,
          0.09958017544828163,
          0.06154885553776712,
          0.07720881079503777,
          0.05707458260711834,
          0.08168308372568656,
          0.05260030967646956,
          0.09063162958698412,
          0.07273453786438899,
          0.0883944931216597,
          0.0883944931216597,
          0.09063162958698412,
          0.0883944931216597,
          0.03694035441919885,
          0.05707458260711834,
          0.07944594726036219,
          0.08392022019101092,
          0.08615735665633534,
          0.050363173211145196,
          0.07273453786438899,
          0.10405444837893041,
          0.07497167432971341,
          0.08392022019101092,
          0.06378599200309149,
          0.09510590251763285,
          0.07497167432971341,
          0.07049740139906463,
          0.06378599200309149,
          0.07273453786438899,
          0.08392022019101092,
          0.0883944931216597,
          0.09510590251763285,
          0.07273453786438899,
          0.06826026493374027,
          0.06602312846841585,
          0.08615735665633534,
          0.08615735665633534,
          0.059311719072442703,
          0.07049740139906463,
          0.06602312846841585,
          0.025754672092576925,
          0.10405444837893041,
          0.08615735665633534,
          0.08168308372568656,
          0.059311719072442703,
          0.07049740139906463,
          0.06602312846841585,
          0.09734303898295726,
          0.10629158484425477,
          0.06602312846841585,
          0.09734303898295726,
          0.07944594726036219,
          0.08392022019101092,
          0.12642581303217426,
          0.11971440363620112,
          0.12195154010152548,
          0.09734303898295726,
          0.059311719072442703,
          0.10181731191360605,
          0.09286876605230848,
          0.045888900280496414,
          0.07273453786438899,
          0.11300299424022797,
          0.09510590251763285,
          0.059311719072442703,
          0.11524013070555233,
          0.08392022019101092,
          0.07944594726036219,
          0.09286876605230848,
          0.09063162958698412,
          0.0883944931216597,
          0.05260030967646956,
          0.06602312846841585,
          0.08168308372568656,
          0.05707458260711834,
          0.07273453786438899,
          0.05260030967646956,
          0.06154885553776712,
          0.08168308372568656,
          0.06602312846841585,
          0.06826026493374027,
          0.07497167432971341,
          0.07049740139906463,
          0.07720881079503777,
          0.05707458260711834,
          0.06602312846841585,
          0.06154885553776712,
          0.0883944931216597,
          0.10629158484425477,
          0.08392022019101092,
          0.11524013070555233,
          0.08615735665633534,
          0.07049740139906463,
          0.08615735665633534,
          0.06602312846841585,
          0.07720881079503777,
          0.07273453786438899,
          0.07497167432971341,
          0.09734303898295726,
          0.11971440363620112,
          0.06826026493374027,
          0.08168308372568656,
          0.05260030967646956,
          0.06826026493374027,
          0.0883944931216597,
          0.07720881079503777,
          0.08392022019101092,
          0.08392022019101092,
          0.05483744614179392,
          0.0883944931216597,
          0.07497167432971341,
          0.07273453786438899,
          0.07944594726036219,
          0.06378599200309149,
          0.08168308372568656,
          0.07720881079503777,
          0.07944594726036219,
          0.09063162958698412,
          0.06602312846841585,
          0.09286876605230848,
          0.045888900280496414,
          0.08168308372568656,
          0.06154885553776712,
          0.07049740139906463,
          0.05483744614179392,
          0.1174772671708767,
          0.059311719072442703,
          0.07497167432971341,
          0.08168308372568656,
          0.04141462734984763,
          0.0883944931216597,
          0.08168308372568656,
          0.0883944931216597,
          0.07720881079503777,
          0.05483744614179392,
          0.07273453786438899,
          0.06154885553776712,
          0.06826026493374027,
          0.07273453786438899,
          0.07497167432971341,
          0.09510590251763285,
          0.08615735665633534,
          0.07497167432971341,
          0.08615735665633534,
          0.08168308372568656,
          0.05260030967646956,
          0.07273453786438899,
          0.07720881079503777,
          0.045888900280496414,
          0.08168308372568656,
          0.08392022019101092,
          0.059311719072442703,
          0.06154885553776712,
          0.04141462734984763,
          0.07273453786438899,
          0.09958017544828163,
          0.09734303898295726,
          0.07497167432971341,
          0.059311719072442703,
          0.07720881079503777,
          0.10405444837893041,
          0.09958017544828163,
          0.09958017544828163,
          0.05260030967646956,
          0.027991808557901343,
          0.059311719072442703,
          0.07497167432971341,
          0.050363173211145196,
          0.07497167432971341,
          0.06154885553776712,
          0.07049740139906463,
          0.0883944931216597,
          0.05707458260711834,
          0.07944594726036219,
          0.10405444837893041,
          0.09510590251763285,
          0.0883944931216597,
          0.05260030967646956,
          0.05260030967646956,
          0.0883944931216597,
          0.06378599200309149,
          0.08168308372568656,
          0.06826026493374027,
          0.13984863182412055,
          0.059311719072442703,
          0.07497167432971341,
          0.08615735665633534,
          0.12418867656684984,
          0.10181731191360605,
          0.09063162958698412,
          0.06154885553776712,
          0.06826026493374027,
          0.08615735665633534,
          0.09510590251763285,
          0.0883944931216597,
          0.06154885553776712,
          0.09063162958698412,
          0.09958017544828163,
          0.08168308372568656,
          0.08615735665633534,
          0.08615735665633534,
          0.07497167432971341,
          0.08392022019101092,
          0.10405444837893041,
          0.09510590251763285,
          0.059311719072442703,
          0.06826026493374027,
          0.08615735665633534,
          0.07049740139906463,
          0.07049740139906463,
          0.05707458260711834,
          0.09063162958698412,
          0.045888900280496414,
          0.07273453786438899,
          0.0883944931216597,
          0.07497167432971341,
          0.05707458260711834,
          0.1174772671708767,
          0.08168308372568656,
          0.03917749088452327,
          0.07273453786438899,
          0.06826026493374027,
          0.06602312846841585,
          0.05260030967646956,
          0.03246608148855007,
          0.06154885553776712,
          0.09734303898295726,
          0.09063162958698412,
          0.06154885553776712,
          0.06154885553776712,
          0.09510590251763285,
          0.07273453786438899,
          0.09510590251763285,
          0.07049740139906463,
          0.08168308372568656,
          0.07944594726036219,
          0.07944594726036219,
          0.09063162958698412,
          0.07497167432971341,
          0.043651763815171996,
          0.07273453786438899,
          0.0883944931216597,
          0.08615735665633534,
          0.030228945023225706,
          0.09734303898295726,
          0.0883944931216597,
          0.09063162958698412,
          0.09510590251763285,
          0.09734303898295726,
          0.07497167432971341,
          0.08615735665633534,
          0.07273453786438899,
          0.10181731191360605,
          0.07944594726036219,
          0.09958017544828163,
          0.10181731191360605,
          0.06154885553776712,
          0.07049740139906463,
          0.10405444837893041,
          0.07944594726036219,
          0.06602312846841585,
          0.05707458260711834,
          0.10852872130957919,
          0.09063162958698412,
          0.10852872130957919,
          0.07944594726036219,
          0.11300299424022797,
          0.07273453786438899,
          0.07049740139906463,
          0.07049740139906463,
          0.08392022019101092,
          0.050363173211145196,
          0.06826026493374027,
          0.06826026493374027,
          0.09510590251763285,
          0.09063162958698412,
          0.09063162958698412,
          0.045888900280496414,
          0.09734303898295726,
          0.07273453786438899,
          0.03470321795387449,
          0.04812603674582078,
          0.07273453786438899,
          0.07497167432971341,
          0.06602312846841585,
          0.09286876605230848,
          0.08168308372568656,
          0.050363173211145196,
          0.04141462734984763,
          0.07944594726036219,
          0.06378599200309149,
          0.07049740139906463,
          0.08168308372568656,
          0.07944594726036219,
          0.06602312846841585,
          0.08168308372568656,
          0.05483744614179392,
          0.09510590251763285,
          0.08168308372568656,
          0.06826026493374027,
          0.08168308372568656,
          0.05483744614179392,
          0.08168308372568656,
          0.05483744614179392,
          0.08392022019101092,
          0.0883944931216597,
          0.07497167432971341,
          0.05260030967646956,
          0.05707458260711834,
          0.05483744614179392,
          0.06154885553776712,
          0.07497167432971341,
          0.10852872130957919,
          0.06826026493374027,
          0.06602312846841585,
          0.08392022019101092,
          0.09734303898295726,
          0.06602312846841585,
          0.059311719072442703,
          0.07944594726036219,
          0.050363173211145196,
          0.05260030967646956,
          0.08168308372568656,
          0.0883944931216597,
          0.07497167432971341,
          0.09734303898295726,
          0.09958017544828163,
          0.07720881079503777,
          0.043651763815171996,
          0.0883944931216597,
          0.07273453786438899,
          0.10181731191360605,
          0.07944594726036219,
          0.05483744614179392,
          0.10629158484425477,
          0.07049740139906463,
          0.04812603674582078,
          0.10852872130957919,
          0.06154885553776712,
          0.07497167432971341,
          0.07720881079503777,
          0.10852872130957919,
          0.07273453786438899,
          0.07049740139906463,
          0.05483744614179392,
          0.10629158484425477,
          0.07497167432971341,
          0.07049740139906463,
          0.09063162958698412,
          0.07497167432971341,
          0.05483744614179392,
          0.04141462734984763,
          0.05483744614179392,
          0.050363173211145196,
          0.07049740139906463,
          0.05260030967646956,
          0.07944594726036219,
          0.05483744614179392,
          0.030228945023225706,
          0.09734303898295726,
          0.10181731191360605,
          0.050363173211145196,
          0.0883944931216597,
          0.07720881079503777,
          0.07273453786438899,
          0.07497167432971341,
          0.05483744614179392,
          0.10181731191360605,
          0.06826026493374027,
          0.08392022019101092,
          0.06826026493374027,
          0.06378599200309149,
          0.07720881079503777,
          0.09958017544828163,
          0.045888900280496414,
          0.012331853300630635,
          0.07273453786438899,
          0.07720881079503777,
          0.06826026493374027,
          0.09286876605230848,
          0.05483744614179392,
          0.04812603674582078,
          0.07049740139906463,
          0.06602312846841585,
          0.12418867656684984,
          0.05707458260711834,
          0.06826026493374027,
          0.07497167432971341,
          0.045888900280496414,
          0.09286876605230848,
          0.06154885553776712,
          0.06602312846841585,
          0.09286876605230848,
          0.11971440363620112,
          0.05483744614179392,
          0.05483744614179392,
          0.043651763815171996,
          0.07944594726036219,
          0.06154885553776712,
          0.08615735665633534,
          0.06602312846841585,
          0.07944594726036219,
          0.06826026493374027,
          0.08392022019101092,
          0.04141462734984763,
          0.07720881079503777,
          0.06378599200309149,
          0.05707458260711834,
          0.03470321795387449,
          0.07720881079503777,
          0.08615735665633534,
          0.03470321795387449,
          0.05260030967646956,
          0.0883944931216597,
          0.08392022019101092,
          0.09510590251763285,
          0.12418867656684984,
          0.06602312846841585,
          0.06154885553776712,
          0.08168308372568656,
          0.06826026493374027,
          0.04141462734984763,
          0.07273453786438899,
          0.07944594726036219,
          0.09958017544828163,
          0.06378599200309149,
          0.10405444837893041,
          0.08392022019101092,
          0.045888900280496414,
          0.04141462734984763,
          0.11300299424022797,
          0.04812603674582078,
          0.09286876605230848,
          0.05483744614179392,
          0.06602312846841585,
          0.10629158484425477,
          0.09958017544828163,
          0.09286876605230848,
          0.07497167432971341,
          0.059311719072442703,
          0.09286876605230848,
          0.0883944931216597,
          0.030228945023225706,
          0.06826026493374027,
          0.08392022019101092,
          0.09286876605230848,
          0.059311719072442703,
          0.07944594726036219,
          0.06154885553776712,
          0.06826026493374027,
          0.07720881079503777,
          0.09734303898295726,
          0.10181731191360605,
          0.09510590251763285,
          0.09510590251763285,
          0.08168308372568656,
          0.10852872130957919,
          0.11524013070555233,
          0.03917749088452327,
          0.08392022019101092,
          0.06826026493374027,
          0.08168308372568656,
          0.07944594726036219,
          0.05260030967646956,
          0.12866294949749862,
          0.08615735665633534,
          0.10852872130957919,
          0.08392022019101092,
          0.03246608148855007,
          0.07049740139906463,
          0.059311719072442703,
          0.08615735665633534,
          0.06378599200309149,
          0.045888900280496414,
          0.10852872130957919,
          0.08615735665633534,
          0.07497167432971341,
          0.07497167432971341,
          0.09734303898295726,
          0.050363173211145196,
          0.06826026493374027,
          0.07720881079503777,
          0.09286876605230848,
          0.0883944931216597,
          0.06378599200309149,
          0.045888900280496414,
          0.0883944931216597,
          0.07049740139906463,
          0.059311719072442703,
          0.059311719072442703,
          0.07273453786438899,
          0.04141462734984763,
          0.06378599200309149,
          0.10405444837893041,
          0.05483744614179392,
          0.10181731191360605,
          0.08615735665633534,
          0.04812603674582078,
          0.09734303898295726,
          0.06602312846841585,
          0.07273453786438899,
          0.09063162958698412,
          0.06826026493374027,
          0.06602312846841585,
          0.07720881079503777,
          0.0883944931216597,
          0.10852872130957919,
          0.08615735665633534,
          0.07273453786438899,
          0.10405444837893041,
          0.11076585777490355,
          0.09063162958698412,
          0.07273453786438899,
          0.06378599200309149,
          0.12418867656684984,
          0.08168308372568656,
          0.059311719072442703,
          0.07944594726036219,
          0.07497167432971341,
          0.07049740139906463,
          0.07720881079503777,
          0.045888900280496414,
          0.09958017544828163,
          0.09510590251763285,
          0.05483744614179392,
          0.06154885553776712,
          0.08615735665633534,
          0.043651763815171996,
          0.09286876605230848,
          0.08168308372568656,
          0.06378599200309149,
          0.07720881079503777,
          0.07497167432971341,
          0.11524013070555233,
          0.02351753562725256,
          0.04141462734984763,
          0.05483744614179392,
          0.08392022019101092,
          0.06378599200309149,
          0.045888900280496414,
          0.07049740139906463,
          0.06378599200309149,
          0.09063162958698412,
          0.04141462734984763,
          0.08168308372568656,
          0.07720881079503777,
          0.06826026493374027,
          0.050363173211145196,
          0.06378599200309149,
          0.09958017544828163,
          0.06154885553776712,
          0.04812603674582078,
          0.043651763815171996,
          0.06378599200309149,
          0.05483744614179392,
          0.08168308372568656,
          0.08168308372568656,
          0.043651763815171996,
          0.05707458260711834,
          0.06826026493374027,
          0.08392022019101092,
          0.07944594726036219,
          0.08615735665633534,
          0.06378599200309149,
          0.059311719072442703,
          0.06602312846841585,
          0.0883944931216597,
          0.06602312846841585,
          0.10181731191360605,
          0.10405444837893041,
          0.06154885553776712,
          0.07720881079503777,
          0.03694035441919885,
          0.050363173211145196,
          0.07944594726036219,
          0.09063162958698412,
          0.04141462734984763,
          0.06154885553776712,
          0.05260030967646956,
          0.04141462734984763,
          0.08615735665633534,
          0.05707458260711834,
          0.06826026493374027,
          0.050363173211145196,
          0.059311719072442703,
          0.09063162958698412,
          0.08615735665633534,
          0.043651763815171996,
          0.06154885553776712,
          0.05707458260711834,
          0.08168308372568656,
          0.07944594726036219,
          0.07497167432971341,
          0.07049740139906463,
          0.06602312846841585,
          0.08168308372568656,
          0.08615735665633534,
          0.04812603674582078,
          0.07720881079503777,
          0.03694035441919885,
          0.08615735665633534,
          0.07273453786438899,
          0.06826026493374027,
          0.059311719072442703,
          0.04141462734984763,
          0.07944594726036219,
          0.11300299424022797,
          0.06154885553776712,
          0.043651763815171996,
          0.09958017544828163,
          0.045888900280496414,
          0.05707458260711834,
          0.025754672092576925,
          0.07049740139906463,
          0.07720881079503777,
          0.08615735665633534,
          0.045888900280496414,
          0.07273453786438899,
          0.07273453786438899,
          0.059311719072442703,
          0.11076585777490355,
          0.07049740139906463,
          0.02351753562725256,
          0.06826026493374027,
          0.030228945023225706,
          0.10852872130957919,
          0.043651763815171996,
          0.06378599200309149,
          0.11076585777490355,
          0.07049740139906463,
          0.09510590251763285,
          0.06826026493374027,
          0.10629158484425477,
          0.10181731191360605,
          0.07049740139906463,
          0.07497167432971341,
          0.07944594726036219,
          0.08615735665633534,
          0.11524013070555233,
          0.08168308372568656,
          0.10181731191360605,
          0.07273453786438899,
          0.06602312846841585,
          0.10181731191360605,
          0.03694035441919885,
          0.10629158484425477,
          0.11971440363620112,
          0.10852872130957919,
          0.08168308372568656,
          0.06154885553776712,
          0.06826026493374027,
          0.06602312846841585,
          0.06378599200309149,
          0.08615735665633534,
          0.09734303898295726,
          0.09734303898295726,
          0.09510590251763285,
          0.08615735665633534,
          0.04141462734984763,
          0.025754672092576925,
          0.09510590251763285,
          0.059311719072442703,
          0.08392022019101092,
          0.07049740139906463,
          0.08168308372568656,
          0.043651763815171996,
          0.12418867656684984,
          0.09063162958698412,
          0.07497167432971341,
          0.10405444837893041,
          0.05707458260711834,
          0.08168308372568656,
          0.06378599200309149,
          0.09734303898295726,
          0.05260030967646956,
          0.07497167432971341,
          0.10629158484425477,
          0.03246608148855007,
          0.07720881079503777,
          0.08615735665633534,
          0.08168308372568656,
          0.07497167432971341,
          0.12642581303217426,
          0.07049740139906463,
          0.09510590251763285,
          0.04812603674582078,
          0.11300299424022797,
          0.010094716835306272,
          0.09063162958698412,
          0.06378599200309149,
          0.09958017544828163,
          0.03470321795387449,
          0.07944594726036219,
          0.059311719072442703,
          0.10852872130957919,
          0.06602312846841585,
          0.07049740139906463,
          0.1174772671708767,
          0.10405444837893041,
          0.07049740139906463,
          0.07944594726036219,
          0.03917749088452327,
          0.05260030967646956,
          0.10405444837893041,
          0.05260030967646956,
          0.05483744614179392,
          0.045888900280496414,
          0.06378599200309149,
          0.03470321795387449,
          0.06378599200309149,
          0.030228945023225706,
          0.050363173211145196,
          0.07944594726036219,
          0.07944594726036219,
          0.059311719072442703,
          0.08168308372568656,
          0.06378599200309149,
          0.09063162958698412,
          0.08615735665633534,
          0.08615735665633534,
          0.08168308372568656,
          0.045888900280496414,
          0.11076585777490355,
          0.05260030967646956,
          0.06602312846841585,
          0.06602312846841585,
          0.05707458260711834,
          0.11971440363620112,
          0.09286876605230848,
          0.11076585777490355,
          0.09510590251763285,
          0.08615735665633534,
          0.07049740139906463,
          0.0883944931216597,
          0.045888900280496414,
          0.10852872130957919,
          0.06602312846841585,
          0.09958017544828163,
          0.09063162958698412,
          0.09734303898295726,
          0.10405444837893041,
          0.08392022019101092,
          0.05260030967646956,
          0.04812603674582078,
          0.09063162958698412,
          0.07049740139906463,
          0.09958017544828163,
          0.09734303898295726,
          0.059311719072442703,
          0.07273453786438899,
          0.10405444837893041,
          0.07497167432971341,
          0.05483744614179392,
          0.09286876605230848,
          0.06826026493374027,
          0.09510590251763285,
          0.03470321795387449,
          0.07273453786438899,
          0.06378599200309149,
          0.06826026493374027,
          0.06154885553776712,
          0.09286876605230848,
          0.05260030967646956,
          0.09958017544828163,
          0.08615735665633534,
          0.07944594726036219,
          0.07049740139906463,
          0.07497167432971341,
          0.05260030967646956,
          0.09286876605230848,
          0.0883944931216597,
          0.08168308372568656,
          0.08168308372568656,
          0.03246608148855007,
          0.07720881079503777,
          0.09063162958698412,
          0.05260030967646956,
          0.07273453786438899,
          0.045888900280496414,
          0.07720881079503777,
          0.1174772671708767,
          0.09063162958698412,
          0.05260030967646956,
          0.06602312846841585,
          0.045888900280496414,
          0.06602312846841585,
          0.06154885553776712,
          0.11076585777490355,
          0.06378599200309149,
          0.09286876605230848,
          0.04812603674582078,
          0.07720881079503777,
          0.1174772671708767,
          0.07720881079503777,
          0.06826026493374027,
          0.07497167432971341,
          0.07944594726036219,
          0.10405444837893041,
          0.07497167432971341,
          0.07720881079503777,
          0.07720881079503777,
          0.07049740139906463,
          0.030228945023225706,
          0.059311719072442703,
          0.050363173211145196,
          0.05260030967646956,
          0.06378599200309149,
          0.03470321795387449,
          0.08168308372568656,
          0.06826026493374027,
          0.07497167432971341,
          0.07720881079503777,
          0.07049740139906463,
          0.09510590251763285,
          0.06602312846841585,
          0.07944594726036219,
          0.06154885553776712,
          0.030228945023225706,
          0.043651763815171996,
          0.08392022019101092,
          0.09510590251763285,
          0.10181731191360605,
          0.09734303898295726,
          0.0883944931216597,
          0.06826026493374027,
          0.07049740139906463,
          0.09510590251763285,
          0.06378599200309149,
          0.10181731191360605,
          0.12418867656684984,
          0.07944594726036219,
          0.07944594726036219,
          0.043651763815171996,
          0.10852872130957919,
          0.09734303898295726,
          0.07273453786438899,
          0.043651763815171996,
          0.07944594726036219,
          0.07049740139906463,
          0.09510590251763285,
          0.08392022019101092,
          0.0883944931216597,
          0.030228945023225706,
          0.09734303898295726,
          0.06154885553776712,
          0.07720881079503777,
          0.07944594726036219,
          0.06602312846841585,
          0.11076585777490355,
          0.05260030967646956,
          0.09510590251763285,
          0.05260030967646956,
          0.05483744614179392,
          0.05260030967646956,
          0.06602312846841585,
          0.06602312846841585,
          0.050363173211145196,
          0.11076585777490355,
          0.11971440363620112,
          0.10181731191360605,
          0.06154885553776712,
          0.04812603674582078,
          0.07273453786438899,
          0.025754672092576925,
          0.0883944931216597,
          0.12866294949749862,
          0.07497167432971341,
          0.07944594726036219,
          0.06826026493374027,
          0.06602312846841585,
          0.07720881079503777,
          0.10181731191360605,
          0.07720881079503777,
          0.09063162958698412,
          0.04141462734984763,
          0.08615735665633534,
          0.09063162958698412,
          0.06378599200309149,
          0.05707458260711834,
          0.08168308372568656,
          0.07720881079503777,
          0.08615735665633534,
          0.05707458260711834,
          0.07944594726036219,
          0.09286876605230848,
          0.10405444837893041,
          0.1174772671708767,
          0.07049740139906463,
          0.08392022019101092,
          0.06154885553776712,
          0.10405444837893041,
          0.09063162958698412,
          0.09734303898295726,
          0.06154885553776712,
          0.06826026493374027,
          0.09286876605230848,
          0.08168308372568656,
          0.08392022019101092,
          0.09734303898295726,
          0.08392022019101092,
          0.08615735665633534,
          0.09063162958698412,
          0.05707458260711834,
          0.05483744614179392,
          0.09063162958698412,
          0.045888900280496414,
          0.04812603674582078,
          0.05707458260711834,
          0.07944594726036219,
          0.050363173211145196,
          0.09734303898295726,
          0.07273453786438899,
          0.045888900280496414,
          0.10852872130957919,
          0.07720881079503777,
          0.07273453786438899,
          0.08168308372568656,
          0.06826026493374027,
          0.07497167432971341,
          0.09510590251763285,
          0.06826026493374027,
          0.07273453786438899,
          0.08615735665633534,
          0.09510590251763285,
          0.06826026493374027
         ],
         "xaxis": "x",
         "yaxis": "y"
        }
       ],
       "layout": {
        "annotations": [
         {
          "showarrow": false,
          "text": "<span style=\"color:red\">Observed TS = 0.36</span>",
          "x": 0.30712637060754944,
          "y": 0.06
         }
        ],
        "barmode": "relative",
        "legend": {
         "tracegroupgap": 0
        },
        "shapes": [
         {
          "line": {
           "color": "red",
           "width": 2
          },
          "opacity": 1,
          "type": "line",
          "x0": 0.36132514189123466,
          "x1": 0.36132514189123466,
          "xref": "x",
          "y0": 0,
          "y1": 1,
          "yref": "y domain"
         }
        ],
        "template": {
         "data": {
          "bar": [
           {
            "error_x": {
             "color": "#2a3f5f"
            },
            "error_y": {
             "color": "#2a3f5f"
            },
            "marker": {
             "line": {
              "color": "#E5ECF6",
              "width": 0.5
             },
             "pattern": {
              "fillmode": "overlay",
              "size": 10,
              "solidity": 0.2
             }
            },
            "type": "bar"
           }
          ],
          "barpolar": [
           {
            "marker": {
             "line": {
              "color": "#E5ECF6",
              "width": 0.5
             },
             "pattern": {
              "fillmode": "overlay",
              "size": 10,
              "solidity": 0.2
             }
            },
            "type": "barpolar"
           }
          ],
          "carpet": [
           {
            "aaxis": {
             "endlinecolor": "#2a3f5f",
             "gridcolor": "white",
             "linecolor": "white",
             "minorgridcolor": "white",
             "startlinecolor": "#2a3f5f"
            },
            "baxis": {
             "endlinecolor": "#2a3f5f",
             "gridcolor": "white",
             "linecolor": "white",
             "minorgridcolor": "white",
             "startlinecolor": "#2a3f5f"
            },
            "type": "carpet"
           }
          ],
          "choropleth": [
           {
            "colorbar": {
             "outlinewidth": 0,
             "ticks": ""
            },
            "type": "choropleth"
           }
          ],
          "contour": [
           {
            "colorbar": {
             "outlinewidth": 0,
             "ticks": ""
            },
            "colorscale": [
             [
              0,
              "#0d0887"
             ],
             [
              0.1111111111111111,
              "#46039f"
             ],
             [
              0.2222222222222222,
              "#7201a8"
             ],
             [
              0.3333333333333333,
              "#9c179e"
             ],
             [
              0.4444444444444444,
              "#bd3786"
             ],
             [
              0.5555555555555556,
              "#d8576b"
             ],
             [
              0.6666666666666666,
              "#ed7953"
             ],
             [
              0.7777777777777778,
              "#fb9f3a"
             ],
             [
              0.8888888888888888,
              "#fdca26"
             ],
             [
              1,
              "#f0f921"
             ]
            ],
            "type": "contour"
           }
          ],
          "contourcarpet": [
           {
            "colorbar": {
             "outlinewidth": 0,
             "ticks": ""
            },
            "type": "contourcarpet"
           }
          ],
          "heatmap": [
           {
            "colorbar": {
             "outlinewidth": 0,
             "ticks": ""
            },
            "colorscale": [
             [
              0,
              "#0d0887"
             ],
             [
              0.1111111111111111,
              "#46039f"
             ],
             [
              0.2222222222222222,
              "#7201a8"
             ],
             [
              0.3333333333333333,
              "#9c179e"
             ],
             [
              0.4444444444444444,
              "#bd3786"
             ],
             [
              0.5555555555555556,
              "#d8576b"
             ],
             [
              0.6666666666666666,
              "#ed7953"
             ],
             [
              0.7777777777777778,
              "#fb9f3a"
             ],
             [
              0.8888888888888888,
              "#fdca26"
             ],
             [
              1,
              "#f0f921"
             ]
            ],
            "type": "heatmap"
           }
          ],
          "heatmapgl": [
           {
            "colorbar": {
             "outlinewidth": 0,
             "ticks": ""
            },
            "colorscale": [
             [
              0,
              "#0d0887"
             ],
             [
              0.1111111111111111,
              "#46039f"
             ],
             [
              0.2222222222222222,
              "#7201a8"
             ],
             [
              0.3333333333333333,
              "#9c179e"
             ],
             [
              0.4444444444444444,
              "#bd3786"
             ],
             [
              0.5555555555555556,
              "#d8576b"
             ],
             [
              0.6666666666666666,
              "#ed7953"
             ],
             [
              0.7777777777777778,
              "#fb9f3a"
             ],
             [
              0.8888888888888888,
              "#fdca26"
             ],
             [
              1,
              "#f0f921"
             ]
            ],
            "type": "heatmapgl"
           }
          ],
          "histogram": [
           {
            "marker": {
             "pattern": {
              "fillmode": "overlay",
              "size": 10,
              "solidity": 0.2
             }
            },
            "type": "histogram"
           }
          ],
          "histogram2d": [
           {
            "colorbar": {
             "outlinewidth": 0,
             "ticks": ""
            },
            "colorscale": [
             [
              0,
              "#0d0887"
             ],
             [
              0.1111111111111111,
              "#46039f"
             ],
             [
              0.2222222222222222,
              "#7201a8"
             ],
             [
              0.3333333333333333,
              "#9c179e"
             ],
             [
              0.4444444444444444,
              "#bd3786"
             ],
             [
              0.5555555555555556,
              "#d8576b"
             ],
             [
              0.6666666666666666,
              "#ed7953"
             ],
             [
              0.7777777777777778,
              "#fb9f3a"
             ],
             [
              0.8888888888888888,
              "#fdca26"
             ],
             [
              1,
              "#f0f921"
             ]
            ],
            "type": "histogram2d"
           }
          ],
          "histogram2dcontour": [
           {
            "colorbar": {
             "outlinewidth": 0,
             "ticks": ""
            },
            "colorscale": [
             [
              0,
              "#0d0887"
             ],
             [
              0.1111111111111111,
              "#46039f"
             ],
             [
              0.2222222222222222,
              "#7201a8"
             ],
             [
              0.3333333333333333,
              "#9c179e"
             ],
             [
              0.4444444444444444,
              "#bd3786"
             ],
             [
              0.5555555555555556,
              "#d8576b"
             ],
             [
              0.6666666666666666,
              "#ed7953"
             ],
             [
              0.7777777777777778,
              "#fb9f3a"
             ],
             [
              0.8888888888888888,
              "#fdca26"
             ],
             [
              1,
              "#f0f921"
             ]
            ],
            "type": "histogram2dcontour"
           }
          ],
          "mesh3d": [
           {
            "colorbar": {
             "outlinewidth": 0,
             "ticks": ""
            },
            "type": "mesh3d"
           }
          ],
          "parcoords": [
           {
            "line": {
             "colorbar": {
              "outlinewidth": 0,
              "ticks": ""
             }
            },
            "type": "parcoords"
           }
          ],
          "pie": [
           {
            "automargin": true,
            "type": "pie"
           }
          ],
          "scatter": [
           {
            "fillpattern": {
             "fillmode": "overlay",
             "size": 10,
             "solidity": 0.2
            },
            "type": "scatter"
           }
          ],
          "scatter3d": [
           {
            "line": {
             "colorbar": {
              "outlinewidth": 0,
              "ticks": ""
             }
            },
            "marker": {
             "colorbar": {
              "outlinewidth": 0,
              "ticks": ""
             }
            },
            "type": "scatter3d"
           }
          ],
          "scattercarpet": [
           {
            "marker": {
             "colorbar": {
              "outlinewidth": 0,
              "ticks": ""
             }
            },
            "type": "scattercarpet"
           }
          ],
          "scattergeo": [
           {
            "marker": {
             "colorbar": {
              "outlinewidth": 0,
              "ticks": ""
             }
            },
            "type": "scattergeo"
           }
          ],
          "scattergl": [
           {
            "marker": {
             "colorbar": {
              "outlinewidth": 0,
              "ticks": ""
             }
            },
            "type": "scattergl"
           }
          ],
          "scattermapbox": [
           {
            "marker": {
             "colorbar": {
              "outlinewidth": 0,
              "ticks": ""
             }
            },
            "type": "scattermapbox"
           }
          ],
          "scatterpolar": [
           {
            "marker": {
             "colorbar": {
              "outlinewidth": 0,
              "ticks": ""
             }
            },
            "type": "scatterpolar"
           }
          ],
          "scatterpolargl": [
           {
            "marker": {
             "colorbar": {
              "outlinewidth": 0,
              "ticks": ""
             }
            },
            "type": "scatterpolargl"
           }
          ],
          "scatterternary": [
           {
            "marker": {
             "colorbar": {
              "outlinewidth": 0,
              "ticks": ""
             }
            },
            "type": "scatterternary"
           }
          ],
          "surface": [
           {
            "colorbar": {
             "outlinewidth": 0,
             "ticks": ""
            },
            "colorscale": [
             [
              0,
              "#0d0887"
             ],
             [
              0.1111111111111111,
              "#46039f"
             ],
             [
              0.2222222222222222,
              "#7201a8"
             ],
             [
              0.3333333333333333,
              "#9c179e"
             ],
             [
              0.4444444444444444,
              "#bd3786"
             ],
             [
              0.5555555555555556,
              "#d8576b"
             ],
             [
              0.6666666666666666,
              "#ed7953"
             ],
             [
              0.7777777777777778,
              "#fb9f3a"
             ],
             [
              0.8888888888888888,
              "#fdca26"
             ],
             [
              1,
              "#f0f921"
             ]
            ],
            "type": "surface"
           }
          ],
          "table": [
           {
            "cells": {
             "fill": {
              "color": "#EBF0F8"
             },
             "line": {
              "color": "white"
             }
            },
            "header": {
             "fill": {
              "color": "#C8D4E3"
             },
             "line": {
              "color": "white"
             }
            },
            "type": "table"
           }
          ]
         },
         "layout": {
          "annotationdefaults": {
           "arrowcolor": "#2a3f5f",
           "arrowhead": 0,
           "arrowwidth": 1
          },
          "autotypenumbers": "strict",
          "coloraxis": {
           "colorbar": {
            "outlinewidth": 0,
            "ticks": ""
           }
          },
          "colorscale": {
           "diverging": [
            [
             0,
             "#8e0152"
            ],
            [
             0.1,
             "#c51b7d"
            ],
            [
             0.2,
             "#de77ae"
            ],
            [
             0.3,
             "#f1b6da"
            ],
            [
             0.4,
             "#fde0ef"
            ],
            [
             0.5,
             "#f7f7f7"
            ],
            [
             0.6,
             "#e6f5d0"
            ],
            [
             0.7,
             "#b8e186"
            ],
            [
             0.8,
             "#7fbc41"
            ],
            [
             0.9,
             "#4d9221"
            ],
            [
             1,
             "#276419"
            ]
           ],
           "sequential": [
            [
             0,
             "#0d0887"
            ],
            [
             0.1111111111111111,
             "#46039f"
            ],
            [
             0.2222222222222222,
             "#7201a8"
            ],
            [
             0.3333333333333333,
             "#9c179e"
            ],
            [
             0.4444444444444444,
             "#bd3786"
            ],
            [
             0.5555555555555556,
             "#d8576b"
            ],
            [
             0.6666666666666666,
             "#ed7953"
            ],
            [
             0.7777777777777778,
             "#fb9f3a"
            ],
            [
             0.8888888888888888,
             "#fdca26"
            ],
            [
             1,
             "#f0f921"
            ]
           ],
           "sequentialminus": [
            [
             0,
             "#0d0887"
            ],
            [
             0.1111111111111111,
             "#46039f"
            ],
            [
             0.2222222222222222,
             "#7201a8"
            ],
            [
             0.3333333333333333,
             "#9c179e"
            ],
            [
             0.4444444444444444,
             "#bd3786"
            ],
            [
             0.5555555555555556,
             "#d8576b"
            ],
            [
             0.6666666666666666,
             "#ed7953"
            ],
            [
             0.7777777777777778,
             "#fb9f3a"
            ],
            [
             0.8888888888888888,
             "#fdca26"
            ],
            [
             1,
             "#f0f921"
            ]
           ]
          },
          "colorway": [
           "#636efa",
           "#EF553B",
           "#00cc96",
           "#ab63fa",
           "#FFA15A",
           "#19d3f3",
           "#FF6692",
           "#B6E880",
           "#FF97FF",
           "#FECB52"
          ],
          "font": {
           "color": "#2a3f5f"
          },
          "geo": {
           "bgcolor": "white",
           "lakecolor": "white",
           "landcolor": "#E5ECF6",
           "showlakes": true,
           "showland": true,
           "subunitcolor": "white"
          },
          "hoverlabel": {
           "align": "left"
          },
          "hovermode": "closest",
          "mapbox": {
           "style": "light"
          },
          "paper_bgcolor": "white",
          "plot_bgcolor": "#E5ECF6",
          "polar": {
           "angularaxis": {
            "gridcolor": "white",
            "linecolor": "white",
            "ticks": ""
           },
           "bgcolor": "#E5ECF6",
           "radialaxis": {
            "gridcolor": "white",
            "linecolor": "white",
            "ticks": ""
           }
          },
          "scene": {
           "xaxis": {
            "backgroundcolor": "#E5ECF6",
            "gridcolor": "white",
            "gridwidth": 2,
            "linecolor": "white",
            "showbackground": true,
            "ticks": "",
            "zerolinecolor": "white"
           },
           "yaxis": {
            "backgroundcolor": "#E5ECF6",
            "gridcolor": "white",
            "gridwidth": 2,
            "linecolor": "white",
            "showbackground": true,
            "ticks": "",
            "zerolinecolor": "white"
           },
           "zaxis": {
            "backgroundcolor": "#E5ECF6",
            "gridcolor": "white",
            "gridwidth": 2,
            "linecolor": "white",
            "showbackground": true,
            "ticks": "",
            "zerolinecolor": "white"
           }
          },
          "shapedefaults": {
           "line": {
            "color": "#2a3f5f"
           }
          },
          "ternary": {
           "aaxis": {
            "gridcolor": "white",
            "linecolor": "white",
            "ticks": ""
           },
           "baxis": {
            "gridcolor": "white",
            "linecolor": "white",
            "ticks": ""
           },
           "bgcolor": "#E5ECF6",
           "caxis": {
            "gridcolor": "white",
            "linecolor": "white",
            "ticks": ""
           }
          },
          "title": {
           "x": 0.05
          },
          "xaxis": {
           "automargin": true,
           "gridcolor": "white",
           "linecolor": "white",
           "ticks": "",
           "title": {
            "standoff": 15
           },
           "zerolinecolor": "white",
           "zerolinewidth": 2
          },
          "yaxis": {
           "automargin": true,
           "gridcolor": "white",
           "linecolor": "white",
           "ticks": "",
           "title": {
            "standoff": 15
           },
           "zerolinecolor": "white",
           "zerolinewidth": 2
          }
         }
        },
        "title": {
         "text": "Empirical Distribution of Differences"
        },
        "xaxis": {
         "anchor": "y",
         "domain": [
          0,
          1
         ],
         "range": [
          -0.2,
          0.4
         ],
         "title": {
          "text": "0"
         }
        },
        "yaxis": {
         "anchor": "x",
         "domain": [
          0,
          1
         ],
         "range": [
          0,
          0.1
         ],
         "title": {
          "text": "probability"
         }
        }
       }
      },
      "text/html": [
       "<div>                            <div id=\"b0d43df7-5d36-4372-b5e4-7daf4757543b\" class=\"plotly-graph-div\" style=\"height:525px; width:100%;\"></div>            <script type=\"text/javascript\">                require([\"plotly\"], function(Plotly) {                    window.PLOTLYENV=window.PLOTLYENV || {};                                    if (document.getElementById(\"b0d43df7-5d36-4372-b5e4-7daf4757543b\")) {                    Plotly.newPlot(                        \"b0d43df7-5d36-4372-b5e4-7daf4757543b\",                        [{\"alignmentgroup\":\"True\",\"bingroup\":\"x\",\"histnorm\":\"probability\",\"hovertemplate\":\"0=%{x}\\u003cbr\\u003eprobability=%{y}\\u003cextra\\u003e\\u003c\\u002fextra\\u003e\",\"legendgroup\":\"\",\"marker\":{\"color\":\"#636efa\",\"pattern\":{\"shape\":\"\"}},\"name\":\"\",\"nbinsx\":50,\"offsetgroup\":\"\",\"orientation\":\"v\",\"showlegend\":false,\"x\":[0.05707458260711834,0.06602312846841585,0.05483744614179392,0.09510590251763285,0.07720881079503777,0.05483744614179392,0.06826026493374027,0.08392022019101092,0.09063162958698412,0.09286876605230848,0.05483744614179392,0.06602312846841585,0.07944594726036219,0.07720881079503777,0.03917749088452327,0.06602312846841585,0.09510590251763285,0.01904326269660378,0.050363173211145196,0.06154885553776712,0.0883944931216597,0.10629158484425477,0.0883944931216597,0.06378599200309149,0.06602312846841585,0.09063162958698412,0.08168308372568656,0.11300299424022797,0.030228945023225706,0.08615735665633534,0.11524013070555233,0.04812603674582078,0.10852872130957919,0.0883944931216597,0.0883944931216597,0.11300299424022797,0.10629158484425477,0.10181731191360605,0.043651763815171996,0.09958017544828163,0.0883944931216597,0.09063162958698412,0.09286876605230848,0.09063162958698412,0.06602312846841585,0.10852872130957919,0.050363173211145196,0.05483744614179392,0.10181731191360605,0.059311719072442703,0.07720881079503777,0.07273453786438899,0.059311719072442703,0.045888900280496414,0.06826026493374027,0.06154885553776712,0.05260030967646956,0.13537435889347177,0.05260030967646956,0.03917749088452327,0.050363173211145196,0.06602312846841585,0.07049740139906463,0.0883944931216597,0.10852872130957919,0.059311719072442703,0.09958017544828163,0.09286876605230848,0.07049740139906463,0.07049740139906463,0.059311719072442703,0.07497167432971341,0.07497167432971341,0.10405444837893041,0.07944594726036219,0.09734303898295726,0.09958017544828163,0.06154885553776712,0.07720881079503777,0.05707458260711834,0.08168308372568656,0.05260030967646956,0.09063162958698412,0.07273453786438899,0.0883944931216597,0.0883944931216597,0.09063162958698412,0.0883944931216597,0.03694035441919885,0.05707458260711834,0.07944594726036219,0.08392022019101092,0.08615735665633534,0.050363173211145196,0.07273453786438899,0.10405444837893041,0.07497167432971341,0.08392022019101092,0.06378599200309149,0.09510590251763285,0.07497167432971341,0.07049740139906463,0.06378599200309149,0.07273453786438899,0.08392022019101092,0.0883944931216597,0.09510590251763285,0.07273453786438899,0.06826026493374027,0.06602312846841585,0.08615735665633534,0.08615735665633534,0.059311719072442703,0.07049740139906463,0.06602312846841585,0.025754672092576925,0.10405444837893041,0.08615735665633534,0.08168308372568656,0.059311719072442703,0.07049740139906463,0.06602312846841585,0.09734303898295726,0.10629158484425477,0.06602312846841585,0.09734303898295726,0.07944594726036219,0.08392022019101092,0.12642581303217426,0.11971440363620112,0.12195154010152548,0.09734303898295726,0.059311719072442703,0.10181731191360605,0.09286876605230848,0.045888900280496414,0.07273453786438899,0.11300299424022797,0.09510590251763285,0.059311719072442703,0.11524013070555233,0.08392022019101092,0.07944594726036219,0.09286876605230848,0.09063162958698412,0.0883944931216597,0.05260030967646956,0.06602312846841585,0.08168308372568656,0.05707458260711834,0.07273453786438899,0.05260030967646956,0.06154885553776712,0.08168308372568656,0.06602312846841585,0.06826026493374027,0.07497167432971341,0.07049740139906463,0.07720881079503777,0.05707458260711834,0.06602312846841585,0.06154885553776712,0.0883944931216597,0.10629158484425477,0.08392022019101092,0.11524013070555233,0.08615735665633534,0.07049740139906463,0.08615735665633534,0.06602312846841585,0.07720881079503777,0.07273453786438899,0.07497167432971341,0.09734303898295726,0.11971440363620112,0.06826026493374027,0.08168308372568656,0.05260030967646956,0.06826026493374027,0.0883944931216597,0.07720881079503777,0.08392022019101092,0.08392022019101092,0.05483744614179392,0.0883944931216597,0.07497167432971341,0.07273453786438899,0.07944594726036219,0.06378599200309149,0.08168308372568656,0.07720881079503777,0.07944594726036219,0.09063162958698412,0.06602312846841585,0.09286876605230848,0.045888900280496414,0.08168308372568656,0.06154885553776712,0.07049740139906463,0.05483744614179392,0.1174772671708767,0.059311719072442703,0.07497167432971341,0.08168308372568656,0.04141462734984763,0.0883944931216597,0.08168308372568656,0.0883944931216597,0.07720881079503777,0.05483744614179392,0.07273453786438899,0.06154885553776712,0.06826026493374027,0.07273453786438899,0.07497167432971341,0.09510590251763285,0.08615735665633534,0.07497167432971341,0.08615735665633534,0.08168308372568656,0.05260030967646956,0.07273453786438899,0.07720881079503777,0.045888900280496414,0.08168308372568656,0.08392022019101092,0.059311719072442703,0.06154885553776712,0.04141462734984763,0.07273453786438899,0.09958017544828163,0.09734303898295726,0.07497167432971341,0.059311719072442703,0.07720881079503777,0.10405444837893041,0.09958017544828163,0.09958017544828163,0.05260030967646956,0.027991808557901343,0.059311719072442703,0.07497167432971341,0.050363173211145196,0.07497167432971341,0.06154885553776712,0.07049740139906463,0.0883944931216597,0.05707458260711834,0.07944594726036219,0.10405444837893041,0.09510590251763285,0.0883944931216597,0.05260030967646956,0.05260030967646956,0.0883944931216597,0.06378599200309149,0.08168308372568656,0.06826026493374027,0.13984863182412055,0.059311719072442703,0.07497167432971341,0.08615735665633534,0.12418867656684984,0.10181731191360605,0.09063162958698412,0.06154885553776712,0.06826026493374027,0.08615735665633534,0.09510590251763285,0.0883944931216597,0.06154885553776712,0.09063162958698412,0.09958017544828163,0.08168308372568656,0.08615735665633534,0.08615735665633534,0.07497167432971341,0.08392022019101092,0.10405444837893041,0.09510590251763285,0.059311719072442703,0.06826026493374027,0.08615735665633534,0.07049740139906463,0.07049740139906463,0.05707458260711834,0.09063162958698412,0.045888900280496414,0.07273453786438899,0.0883944931216597,0.07497167432971341,0.05707458260711834,0.1174772671708767,0.08168308372568656,0.03917749088452327,0.07273453786438899,0.06826026493374027,0.06602312846841585,0.05260030967646956,0.03246608148855007,0.06154885553776712,0.09734303898295726,0.09063162958698412,0.06154885553776712,0.06154885553776712,0.09510590251763285,0.07273453786438899,0.09510590251763285,0.07049740139906463,0.08168308372568656,0.07944594726036219,0.07944594726036219,0.09063162958698412,0.07497167432971341,0.043651763815171996,0.07273453786438899,0.0883944931216597,0.08615735665633534,0.030228945023225706,0.09734303898295726,0.0883944931216597,0.09063162958698412,0.09510590251763285,0.09734303898295726,0.07497167432971341,0.08615735665633534,0.07273453786438899,0.10181731191360605,0.07944594726036219,0.09958017544828163,0.10181731191360605,0.06154885553776712,0.07049740139906463,0.10405444837893041,0.07944594726036219,0.06602312846841585,0.05707458260711834,0.10852872130957919,0.09063162958698412,0.10852872130957919,0.07944594726036219,0.11300299424022797,0.07273453786438899,0.07049740139906463,0.07049740139906463,0.08392022019101092,0.050363173211145196,0.06826026493374027,0.06826026493374027,0.09510590251763285,0.09063162958698412,0.09063162958698412,0.045888900280496414,0.09734303898295726,0.07273453786438899,0.03470321795387449,0.04812603674582078,0.07273453786438899,0.07497167432971341,0.06602312846841585,0.09286876605230848,0.08168308372568656,0.050363173211145196,0.04141462734984763,0.07944594726036219,0.06378599200309149,0.07049740139906463,0.08168308372568656,0.07944594726036219,0.06602312846841585,0.08168308372568656,0.05483744614179392,0.09510590251763285,0.08168308372568656,0.06826026493374027,0.08168308372568656,0.05483744614179392,0.08168308372568656,0.05483744614179392,0.08392022019101092,0.0883944931216597,0.07497167432971341,0.05260030967646956,0.05707458260711834,0.05483744614179392,0.06154885553776712,0.07497167432971341,0.10852872130957919,0.06826026493374027,0.06602312846841585,0.08392022019101092,0.09734303898295726,0.06602312846841585,0.059311719072442703,0.07944594726036219,0.050363173211145196,0.05260030967646956,0.08168308372568656,0.0883944931216597,0.07497167432971341,0.09734303898295726,0.09958017544828163,0.07720881079503777,0.043651763815171996,0.0883944931216597,0.07273453786438899,0.10181731191360605,0.07944594726036219,0.05483744614179392,0.10629158484425477,0.07049740139906463,0.04812603674582078,0.10852872130957919,0.06154885553776712,0.07497167432971341,0.07720881079503777,0.10852872130957919,0.07273453786438899,0.07049740139906463,0.05483744614179392,0.10629158484425477,0.07497167432971341,0.07049740139906463,0.09063162958698412,0.07497167432971341,0.05483744614179392,0.04141462734984763,0.05483744614179392,0.050363173211145196,0.07049740139906463,0.05260030967646956,0.07944594726036219,0.05483744614179392,0.030228945023225706,0.09734303898295726,0.10181731191360605,0.050363173211145196,0.0883944931216597,0.07720881079503777,0.07273453786438899,0.07497167432971341,0.05483744614179392,0.10181731191360605,0.06826026493374027,0.08392022019101092,0.06826026493374027,0.06378599200309149,0.07720881079503777,0.09958017544828163,0.045888900280496414,0.012331853300630635,0.07273453786438899,0.07720881079503777,0.06826026493374027,0.09286876605230848,0.05483744614179392,0.04812603674582078,0.07049740139906463,0.06602312846841585,0.12418867656684984,0.05707458260711834,0.06826026493374027,0.07497167432971341,0.045888900280496414,0.09286876605230848,0.06154885553776712,0.06602312846841585,0.09286876605230848,0.11971440363620112,0.05483744614179392,0.05483744614179392,0.043651763815171996,0.07944594726036219,0.06154885553776712,0.08615735665633534,0.06602312846841585,0.07944594726036219,0.06826026493374027,0.08392022019101092,0.04141462734984763,0.07720881079503777,0.06378599200309149,0.05707458260711834,0.03470321795387449,0.07720881079503777,0.08615735665633534,0.03470321795387449,0.05260030967646956,0.0883944931216597,0.08392022019101092,0.09510590251763285,0.12418867656684984,0.06602312846841585,0.06154885553776712,0.08168308372568656,0.06826026493374027,0.04141462734984763,0.07273453786438899,0.07944594726036219,0.09958017544828163,0.06378599200309149,0.10405444837893041,0.08392022019101092,0.045888900280496414,0.04141462734984763,0.11300299424022797,0.04812603674582078,0.09286876605230848,0.05483744614179392,0.06602312846841585,0.10629158484425477,0.09958017544828163,0.09286876605230848,0.07497167432971341,0.059311719072442703,0.09286876605230848,0.0883944931216597,0.030228945023225706,0.06826026493374027,0.08392022019101092,0.09286876605230848,0.059311719072442703,0.07944594726036219,0.06154885553776712,0.06826026493374027,0.07720881079503777,0.09734303898295726,0.10181731191360605,0.09510590251763285,0.09510590251763285,0.08168308372568656,0.10852872130957919,0.11524013070555233,0.03917749088452327,0.08392022019101092,0.06826026493374027,0.08168308372568656,0.07944594726036219,0.05260030967646956,0.12866294949749862,0.08615735665633534,0.10852872130957919,0.08392022019101092,0.03246608148855007,0.07049740139906463,0.059311719072442703,0.08615735665633534,0.06378599200309149,0.045888900280496414,0.10852872130957919,0.08615735665633534,0.07497167432971341,0.07497167432971341,0.09734303898295726,0.050363173211145196,0.06826026493374027,0.07720881079503777,0.09286876605230848,0.0883944931216597,0.06378599200309149,0.045888900280496414,0.0883944931216597,0.07049740139906463,0.059311719072442703,0.059311719072442703,0.07273453786438899,0.04141462734984763,0.06378599200309149,0.10405444837893041,0.05483744614179392,0.10181731191360605,0.08615735665633534,0.04812603674582078,0.09734303898295726,0.06602312846841585,0.07273453786438899,0.09063162958698412,0.06826026493374027,0.06602312846841585,0.07720881079503777,0.0883944931216597,0.10852872130957919,0.08615735665633534,0.07273453786438899,0.10405444837893041,0.11076585777490355,0.09063162958698412,0.07273453786438899,0.06378599200309149,0.12418867656684984,0.08168308372568656,0.059311719072442703,0.07944594726036219,0.07497167432971341,0.07049740139906463,0.07720881079503777,0.045888900280496414,0.09958017544828163,0.09510590251763285,0.05483744614179392,0.06154885553776712,0.08615735665633534,0.043651763815171996,0.09286876605230848,0.08168308372568656,0.06378599200309149,0.07720881079503777,0.07497167432971341,0.11524013070555233,0.02351753562725256,0.04141462734984763,0.05483744614179392,0.08392022019101092,0.06378599200309149,0.045888900280496414,0.07049740139906463,0.06378599200309149,0.09063162958698412,0.04141462734984763,0.08168308372568656,0.07720881079503777,0.06826026493374027,0.050363173211145196,0.06378599200309149,0.09958017544828163,0.06154885553776712,0.04812603674582078,0.043651763815171996,0.06378599200309149,0.05483744614179392,0.08168308372568656,0.08168308372568656,0.043651763815171996,0.05707458260711834,0.06826026493374027,0.08392022019101092,0.07944594726036219,0.08615735665633534,0.06378599200309149,0.059311719072442703,0.06602312846841585,0.0883944931216597,0.06602312846841585,0.10181731191360605,0.10405444837893041,0.06154885553776712,0.07720881079503777,0.03694035441919885,0.050363173211145196,0.07944594726036219,0.09063162958698412,0.04141462734984763,0.06154885553776712,0.05260030967646956,0.04141462734984763,0.08615735665633534,0.05707458260711834,0.06826026493374027,0.050363173211145196,0.059311719072442703,0.09063162958698412,0.08615735665633534,0.043651763815171996,0.06154885553776712,0.05707458260711834,0.08168308372568656,0.07944594726036219,0.07497167432971341,0.07049740139906463,0.06602312846841585,0.08168308372568656,0.08615735665633534,0.04812603674582078,0.07720881079503777,0.03694035441919885,0.08615735665633534,0.07273453786438899,0.06826026493374027,0.059311719072442703,0.04141462734984763,0.07944594726036219,0.11300299424022797,0.06154885553776712,0.043651763815171996,0.09958017544828163,0.045888900280496414,0.05707458260711834,0.025754672092576925,0.07049740139906463,0.07720881079503777,0.08615735665633534,0.045888900280496414,0.07273453786438899,0.07273453786438899,0.059311719072442703,0.11076585777490355,0.07049740139906463,0.02351753562725256,0.06826026493374027,0.030228945023225706,0.10852872130957919,0.043651763815171996,0.06378599200309149,0.11076585777490355,0.07049740139906463,0.09510590251763285,0.06826026493374027,0.10629158484425477,0.10181731191360605,0.07049740139906463,0.07497167432971341,0.07944594726036219,0.08615735665633534,0.11524013070555233,0.08168308372568656,0.10181731191360605,0.07273453786438899,0.06602312846841585,0.10181731191360605,0.03694035441919885,0.10629158484425477,0.11971440363620112,0.10852872130957919,0.08168308372568656,0.06154885553776712,0.06826026493374027,0.06602312846841585,0.06378599200309149,0.08615735665633534,0.09734303898295726,0.09734303898295726,0.09510590251763285,0.08615735665633534,0.04141462734984763,0.025754672092576925,0.09510590251763285,0.059311719072442703,0.08392022019101092,0.07049740139906463,0.08168308372568656,0.043651763815171996,0.12418867656684984,0.09063162958698412,0.07497167432971341,0.10405444837893041,0.05707458260711834,0.08168308372568656,0.06378599200309149,0.09734303898295726,0.05260030967646956,0.07497167432971341,0.10629158484425477,0.03246608148855007,0.07720881079503777,0.08615735665633534,0.08168308372568656,0.07497167432971341,0.12642581303217426,0.07049740139906463,0.09510590251763285,0.04812603674582078,0.11300299424022797,0.010094716835306272,0.09063162958698412,0.06378599200309149,0.09958017544828163,0.03470321795387449,0.07944594726036219,0.059311719072442703,0.10852872130957919,0.06602312846841585,0.07049740139906463,0.1174772671708767,0.10405444837893041,0.07049740139906463,0.07944594726036219,0.03917749088452327,0.05260030967646956,0.10405444837893041,0.05260030967646956,0.05483744614179392,0.045888900280496414,0.06378599200309149,0.03470321795387449,0.06378599200309149,0.030228945023225706,0.050363173211145196,0.07944594726036219,0.07944594726036219,0.059311719072442703,0.08168308372568656,0.06378599200309149,0.09063162958698412,0.08615735665633534,0.08615735665633534,0.08168308372568656,0.045888900280496414,0.11076585777490355,0.05260030967646956,0.06602312846841585,0.06602312846841585,0.05707458260711834,0.11971440363620112,0.09286876605230848,0.11076585777490355,0.09510590251763285,0.08615735665633534,0.07049740139906463,0.0883944931216597,0.045888900280496414,0.10852872130957919,0.06602312846841585,0.09958017544828163,0.09063162958698412,0.09734303898295726,0.10405444837893041,0.08392022019101092,0.05260030967646956,0.04812603674582078,0.09063162958698412,0.07049740139906463,0.09958017544828163,0.09734303898295726,0.059311719072442703,0.07273453786438899,0.10405444837893041,0.07497167432971341,0.05483744614179392,0.09286876605230848,0.06826026493374027,0.09510590251763285,0.03470321795387449,0.07273453786438899,0.06378599200309149,0.06826026493374027,0.06154885553776712,0.09286876605230848,0.05260030967646956,0.09958017544828163,0.08615735665633534,0.07944594726036219,0.07049740139906463,0.07497167432971341,0.05260030967646956,0.09286876605230848,0.0883944931216597,0.08168308372568656,0.08168308372568656,0.03246608148855007,0.07720881079503777,0.09063162958698412,0.05260030967646956,0.07273453786438899,0.045888900280496414,0.07720881079503777,0.1174772671708767,0.09063162958698412,0.05260030967646956,0.06602312846841585,0.045888900280496414,0.06602312846841585,0.06154885553776712,0.11076585777490355,0.06378599200309149,0.09286876605230848,0.04812603674582078,0.07720881079503777,0.1174772671708767,0.07720881079503777,0.06826026493374027,0.07497167432971341,0.07944594726036219,0.10405444837893041,0.07497167432971341,0.07720881079503777,0.07720881079503777,0.07049740139906463,0.030228945023225706,0.059311719072442703,0.050363173211145196,0.05260030967646956,0.06378599200309149,0.03470321795387449,0.08168308372568656,0.06826026493374027,0.07497167432971341,0.07720881079503777,0.07049740139906463,0.09510590251763285,0.06602312846841585,0.07944594726036219,0.06154885553776712,0.030228945023225706,0.043651763815171996,0.08392022019101092,0.09510590251763285,0.10181731191360605,0.09734303898295726,0.0883944931216597,0.06826026493374027,0.07049740139906463,0.09510590251763285,0.06378599200309149,0.10181731191360605,0.12418867656684984,0.07944594726036219,0.07944594726036219,0.043651763815171996,0.10852872130957919,0.09734303898295726,0.07273453786438899,0.043651763815171996,0.07944594726036219,0.07049740139906463,0.09510590251763285,0.08392022019101092,0.0883944931216597,0.030228945023225706,0.09734303898295726,0.06154885553776712,0.07720881079503777,0.07944594726036219,0.06602312846841585,0.11076585777490355,0.05260030967646956,0.09510590251763285,0.05260030967646956,0.05483744614179392,0.05260030967646956,0.06602312846841585,0.06602312846841585,0.050363173211145196,0.11076585777490355,0.11971440363620112,0.10181731191360605,0.06154885553776712,0.04812603674582078,0.07273453786438899,0.025754672092576925,0.0883944931216597,0.12866294949749862,0.07497167432971341,0.07944594726036219,0.06826026493374027,0.06602312846841585,0.07720881079503777,0.10181731191360605,0.07720881079503777,0.09063162958698412,0.04141462734984763,0.08615735665633534,0.09063162958698412,0.06378599200309149,0.05707458260711834,0.08168308372568656,0.07720881079503777,0.08615735665633534,0.05707458260711834,0.07944594726036219,0.09286876605230848,0.10405444837893041,0.1174772671708767,0.07049740139906463,0.08392022019101092,0.06154885553776712,0.10405444837893041,0.09063162958698412,0.09734303898295726,0.06154885553776712,0.06826026493374027,0.09286876605230848,0.08168308372568656,0.08392022019101092,0.09734303898295726,0.08392022019101092,0.08615735665633534,0.09063162958698412,0.05707458260711834,0.05483744614179392,0.09063162958698412,0.045888900280496414,0.04812603674582078,0.05707458260711834,0.07944594726036219,0.050363173211145196,0.09734303898295726,0.07273453786438899,0.045888900280496414,0.10852872130957919,0.07720881079503777,0.07273453786438899,0.08168308372568656,0.06826026493374027,0.07497167432971341,0.09510590251763285,0.06826026493374027,0.07273453786438899,0.08615735665633534,0.09510590251763285,0.06826026493374027],\"xaxis\":\"x\",\"yaxis\":\"y\",\"type\":\"histogram\"}],                        {\"template\":{\"data\":{\"histogram2dcontour\":[{\"type\":\"histogram2dcontour\",\"colorbar\":{\"outlinewidth\":0,\"ticks\":\"\"},\"colorscale\":[[0.0,\"#0d0887\"],[0.1111111111111111,\"#46039f\"],[0.2222222222222222,\"#7201a8\"],[0.3333333333333333,\"#9c179e\"],[0.4444444444444444,\"#bd3786\"],[0.5555555555555556,\"#d8576b\"],[0.6666666666666666,\"#ed7953\"],[0.7777777777777778,\"#fb9f3a\"],[0.8888888888888888,\"#fdca26\"],[1.0,\"#f0f921\"]]}],\"choropleth\":[{\"type\":\"choropleth\",\"colorbar\":{\"outlinewidth\":0,\"ticks\":\"\"}}],\"histogram2d\":[{\"type\":\"histogram2d\",\"colorbar\":{\"outlinewidth\":0,\"ticks\":\"\"},\"colorscale\":[[0.0,\"#0d0887\"],[0.1111111111111111,\"#46039f\"],[0.2222222222222222,\"#7201a8\"],[0.3333333333333333,\"#9c179e\"],[0.4444444444444444,\"#bd3786\"],[0.5555555555555556,\"#d8576b\"],[0.6666666666666666,\"#ed7953\"],[0.7777777777777778,\"#fb9f3a\"],[0.8888888888888888,\"#fdca26\"],[1.0,\"#f0f921\"]]}],\"heatmap\":[{\"type\":\"heatmap\",\"colorbar\":{\"outlinewidth\":0,\"ticks\":\"\"},\"colorscale\":[[0.0,\"#0d0887\"],[0.1111111111111111,\"#46039f\"],[0.2222222222222222,\"#7201a8\"],[0.3333333333333333,\"#9c179e\"],[0.4444444444444444,\"#bd3786\"],[0.5555555555555556,\"#d8576b\"],[0.6666666666666666,\"#ed7953\"],[0.7777777777777778,\"#fb9f3a\"],[0.8888888888888888,\"#fdca26\"],[1.0,\"#f0f921\"]]}],\"heatmapgl\":[{\"type\":\"heatmapgl\",\"colorbar\":{\"outlinewidth\":0,\"ticks\":\"\"},\"colorscale\":[[0.0,\"#0d0887\"],[0.1111111111111111,\"#46039f\"],[0.2222222222222222,\"#7201a8\"],[0.3333333333333333,\"#9c179e\"],[0.4444444444444444,\"#bd3786\"],[0.5555555555555556,\"#d8576b\"],[0.6666666666666666,\"#ed7953\"],[0.7777777777777778,\"#fb9f3a\"],[0.8888888888888888,\"#fdca26\"],[1.0,\"#f0f921\"]]}],\"contourcarpet\":[{\"type\":\"contourcarpet\",\"colorbar\":{\"outlinewidth\":0,\"ticks\":\"\"}}],\"contour\":[{\"type\":\"contour\",\"colorbar\":{\"outlinewidth\":0,\"ticks\":\"\"},\"colorscale\":[[0.0,\"#0d0887\"],[0.1111111111111111,\"#46039f\"],[0.2222222222222222,\"#7201a8\"],[0.3333333333333333,\"#9c179e\"],[0.4444444444444444,\"#bd3786\"],[0.5555555555555556,\"#d8576b\"],[0.6666666666666666,\"#ed7953\"],[0.7777777777777778,\"#fb9f3a\"],[0.8888888888888888,\"#fdca26\"],[1.0,\"#f0f921\"]]}],\"surface\":[{\"type\":\"surface\",\"colorbar\":{\"outlinewidth\":0,\"ticks\":\"\"},\"colorscale\":[[0.0,\"#0d0887\"],[0.1111111111111111,\"#46039f\"],[0.2222222222222222,\"#7201a8\"],[0.3333333333333333,\"#9c179e\"],[0.4444444444444444,\"#bd3786\"],[0.5555555555555556,\"#d8576b\"],[0.6666666666666666,\"#ed7953\"],[0.7777777777777778,\"#fb9f3a\"],[0.8888888888888888,\"#fdca26\"],[1.0,\"#f0f921\"]]}],\"mesh3d\":[{\"type\":\"mesh3d\",\"colorbar\":{\"outlinewidth\":0,\"ticks\":\"\"}}],\"scatter\":[{\"fillpattern\":{\"fillmode\":\"overlay\",\"size\":10,\"solidity\":0.2},\"type\":\"scatter\"}],\"parcoords\":[{\"type\":\"parcoords\",\"line\":{\"colorbar\":{\"outlinewidth\":0,\"ticks\":\"\"}}}],\"scatterpolargl\":[{\"type\":\"scatterpolargl\",\"marker\":{\"colorbar\":{\"outlinewidth\":0,\"ticks\":\"\"}}}],\"bar\":[{\"error_x\":{\"color\":\"#2a3f5f\"},\"error_y\":{\"color\":\"#2a3f5f\"},\"marker\":{\"line\":{\"color\":\"#E5ECF6\",\"width\":0.5},\"pattern\":{\"fillmode\":\"overlay\",\"size\":10,\"solidity\":0.2}},\"type\":\"bar\"}],\"scattergeo\":[{\"type\":\"scattergeo\",\"marker\":{\"colorbar\":{\"outlinewidth\":0,\"ticks\":\"\"}}}],\"scatterpolar\":[{\"type\":\"scatterpolar\",\"marker\":{\"colorbar\":{\"outlinewidth\":0,\"ticks\":\"\"}}}],\"histogram\":[{\"marker\":{\"pattern\":{\"fillmode\":\"overlay\",\"size\":10,\"solidity\":0.2}},\"type\":\"histogram\"}],\"scattergl\":[{\"type\":\"scattergl\",\"marker\":{\"colorbar\":{\"outlinewidth\":0,\"ticks\":\"\"}}}],\"scatter3d\":[{\"type\":\"scatter3d\",\"line\":{\"colorbar\":{\"outlinewidth\":0,\"ticks\":\"\"}},\"marker\":{\"colorbar\":{\"outlinewidth\":0,\"ticks\":\"\"}}}],\"scattermapbox\":[{\"type\":\"scattermapbox\",\"marker\":{\"colorbar\":{\"outlinewidth\":0,\"ticks\":\"\"}}}],\"scatterternary\":[{\"type\":\"scatterternary\",\"marker\":{\"colorbar\":{\"outlinewidth\":0,\"ticks\":\"\"}}}],\"scattercarpet\":[{\"type\":\"scattercarpet\",\"marker\":{\"colorbar\":{\"outlinewidth\":0,\"ticks\":\"\"}}}],\"carpet\":[{\"aaxis\":{\"endlinecolor\":\"#2a3f5f\",\"gridcolor\":\"white\",\"linecolor\":\"white\",\"minorgridcolor\":\"white\",\"startlinecolor\":\"#2a3f5f\"},\"baxis\":{\"endlinecolor\":\"#2a3f5f\",\"gridcolor\":\"white\",\"linecolor\":\"white\",\"minorgridcolor\":\"white\",\"startlinecolor\":\"#2a3f5f\"},\"type\":\"carpet\"}],\"table\":[{\"cells\":{\"fill\":{\"color\":\"#EBF0F8\"},\"line\":{\"color\":\"white\"}},\"header\":{\"fill\":{\"color\":\"#C8D4E3\"},\"line\":{\"color\":\"white\"}},\"type\":\"table\"}],\"barpolar\":[{\"marker\":{\"line\":{\"color\":\"#E5ECF6\",\"width\":0.5},\"pattern\":{\"fillmode\":\"overlay\",\"size\":10,\"solidity\":0.2}},\"type\":\"barpolar\"}],\"pie\":[{\"automargin\":true,\"type\":\"pie\"}]},\"layout\":{\"autotypenumbers\":\"strict\",\"colorway\":[\"#636efa\",\"#EF553B\",\"#00cc96\",\"#ab63fa\",\"#FFA15A\",\"#19d3f3\",\"#FF6692\",\"#B6E880\",\"#FF97FF\",\"#FECB52\"],\"font\":{\"color\":\"#2a3f5f\"},\"hovermode\":\"closest\",\"hoverlabel\":{\"align\":\"left\"},\"paper_bgcolor\":\"white\",\"plot_bgcolor\":\"#E5ECF6\",\"polar\":{\"bgcolor\":\"#E5ECF6\",\"angularaxis\":{\"gridcolor\":\"white\",\"linecolor\":\"white\",\"ticks\":\"\"},\"radialaxis\":{\"gridcolor\":\"white\",\"linecolor\":\"white\",\"ticks\":\"\"}},\"ternary\":{\"bgcolor\":\"#E5ECF6\",\"aaxis\":{\"gridcolor\":\"white\",\"linecolor\":\"white\",\"ticks\":\"\"},\"baxis\":{\"gridcolor\":\"white\",\"linecolor\":\"white\",\"ticks\":\"\"},\"caxis\":{\"gridcolor\":\"white\",\"linecolor\":\"white\",\"ticks\":\"\"}},\"coloraxis\":{\"colorbar\":{\"outlinewidth\":0,\"ticks\":\"\"}},\"colorscale\":{\"sequential\":[[0.0,\"#0d0887\"],[0.1111111111111111,\"#46039f\"],[0.2222222222222222,\"#7201a8\"],[0.3333333333333333,\"#9c179e\"],[0.4444444444444444,\"#bd3786\"],[0.5555555555555556,\"#d8576b\"],[0.6666666666666666,\"#ed7953\"],[0.7777777777777778,\"#fb9f3a\"],[0.8888888888888888,\"#fdca26\"],[1.0,\"#f0f921\"]],\"sequentialminus\":[[0.0,\"#0d0887\"],[0.1111111111111111,\"#46039f\"],[0.2222222222222222,\"#7201a8\"],[0.3333333333333333,\"#9c179e\"],[0.4444444444444444,\"#bd3786\"],[0.5555555555555556,\"#d8576b\"],[0.6666666666666666,\"#ed7953\"],[0.7777777777777778,\"#fb9f3a\"],[0.8888888888888888,\"#fdca26\"],[1.0,\"#f0f921\"]],\"diverging\":[[0,\"#8e0152\"],[0.1,\"#c51b7d\"],[0.2,\"#de77ae\"],[0.3,\"#f1b6da\"],[0.4,\"#fde0ef\"],[0.5,\"#f7f7f7\"],[0.6,\"#e6f5d0\"],[0.7,\"#b8e186\"],[0.8,\"#7fbc41\"],[0.9,\"#4d9221\"],[1,\"#276419\"]]},\"xaxis\":{\"gridcolor\":\"white\",\"linecolor\":\"white\",\"ticks\":\"\",\"title\":{\"standoff\":15},\"zerolinecolor\":\"white\",\"automargin\":true,\"zerolinewidth\":2},\"yaxis\":{\"gridcolor\":\"white\",\"linecolor\":\"white\",\"ticks\":\"\",\"title\":{\"standoff\":15},\"zerolinecolor\":\"white\",\"automargin\":true,\"zerolinewidth\":2},\"scene\":{\"xaxis\":{\"backgroundcolor\":\"#E5ECF6\",\"gridcolor\":\"white\",\"linecolor\":\"white\",\"showbackground\":true,\"ticks\":\"\",\"zerolinecolor\":\"white\",\"gridwidth\":2},\"yaxis\":{\"backgroundcolor\":\"#E5ECF6\",\"gridcolor\":\"white\",\"linecolor\":\"white\",\"showbackground\":true,\"ticks\":\"\",\"zerolinecolor\":\"white\",\"gridwidth\":2},\"zaxis\":{\"backgroundcolor\":\"#E5ECF6\",\"gridcolor\":\"white\",\"linecolor\":\"white\",\"showbackground\":true,\"ticks\":\"\",\"zerolinecolor\":\"white\",\"gridwidth\":2}},\"shapedefaults\":{\"line\":{\"color\":\"#2a3f5f\"}},\"annotationdefaults\":{\"arrowcolor\":\"#2a3f5f\",\"arrowhead\":0,\"arrowwidth\":1},\"geo\":{\"bgcolor\":\"white\",\"landcolor\":\"#E5ECF6\",\"subunitcolor\":\"white\",\"showland\":true,\"showlakes\":true,\"lakecolor\":\"white\"},\"title\":{\"x\":0.05},\"mapbox\":{\"style\":\"light\"}}},\"xaxis\":{\"anchor\":\"y\",\"domain\":[0.0,1.0],\"title\":{\"text\":\"0\"},\"range\":[-0.2,0.4]},\"yaxis\":{\"anchor\":\"x\",\"domain\":[0.0,1.0],\"title\":{\"text\":\"probability\"},\"range\":[0,0.1]},\"legend\":{\"tracegroupgap\":0},\"title\":{\"text\":\"Empirical Distribution of Differences\"},\"barmode\":\"relative\",\"shapes\":[{\"line\":{\"color\":\"red\",\"width\":2},\"opacity\":1,\"type\":\"line\",\"x0\":0.36132514189123466,\"x1\":0.36132514189123466,\"xref\":\"x\",\"y0\":0,\"y1\":1,\"yref\":\"y domain\"}],\"annotations\":[{\"showarrow\":false,\"text\":\"\\u003cspan style=\\\"color:red\\\"\\u003eObserved TS = 0.36\\u003c\\u002fspan\\u003e\",\"x\":0.30712637060754944,\"y\":0.06}]},                        {\"responsive\": true}                    ).then(function(){\n",
       "                            \n",
       "var gd = document.getElementById('b0d43df7-5d36-4372-b5e4-7daf4757543b');\n",
       "var x = new MutationObserver(function (mutations, observer) {{\n",
       "        var display = window.getComputedStyle(gd).display;\n",
       "        if (!display || display === 'none') {{\n",
       "            console.log([gd, 'removed!']);\n",
       "            Plotly.purge(gd);\n",
       "            observer.disconnect();\n",
       "        }}\n",
       "}});\n",
       "\n",
       "// Listen for the removal of the full notebook cells\n",
       "var notebookContainer = gd.closest('#notebook-container');\n",
       "if (notebookContainer) {{\n",
       "    x.observe(notebookContainer, {childList: true});\n",
       "}}\n",
       "\n",
       "// Listen for the clearing of the current output cell\n",
       "var outputEl = gd.closest('.output');\n",
       "if (outputEl) {{\n",
       "    x.observe(outputEl, {childList: true});\n",
       "}}\n",
       "\n",
       "                        })                };                });            </script>        </div>"
      ]
     },
     "metadata": {},
     "output_type": "display_data"
    },
    {
     "data": {
      "text/plain": [
       "'| MemoryComplaintsCat   |   Diagnosis |\\n|:----------------------|------------:|\\n| Memory Complaints     |    0.639821 |\\n| No Memory Complaints  |    0.278496 |'"
      ]
     },
     "execution_count": 10,
     "metadata": {},
     "output_type": "execute_result"
    },
    {
     "data": {
      "image/png": "[encoded data removed]",
      "text/plain": [
       "<Figure size 640x480 with 3 Axes>"
      ]
     },
     "metadata": {},
     "output_type": "display_data"
    },
    {
     "data": {
      "image/png": "[encoded data removed]",
      "text/plain": [
       "<Figure size 640x480 with 3 Axes>"
      ]
     },
     "metadata": {},
     "output_type": "display_data"
    }
   ],
   "source": [
    "\"\"\"\n",
    "In our dataset, the \"Memory Complaints\" variable referes to subjective experiences where individuals express\n",
    "dissatisfaction or concern about their memory function. These concerns are self-reported. \n",
    "\n",
    "The \"Forgetfulness\" variable refers to the actual experience of forgetting information or events. It is an \n",
    "observable behavior where indiviudals fail to recall something that they had previously learned or experienced. \n",
    "\n",
    "I present my first bivariate analysis of these variables against diagnostic results.\n",
    "\"\"\"\n",
    "\n",
    "mapping = {\n",
    "    0: \"Does not Forget\",\n",
    "    1: \"Forgets\"\n",
    "}\n",
    "\n",
    "alz[\"ForgetfulnessCat\"] = alz[\"Forgetfulness\"].map(mapping)\n",
    "\n",
    "crosstable = pd.crosstab(alz[\"result\"], alz[\"ForgetfulnessCat\"])\n",
    "column_names = list(crosstable.columns)\n",
    "alz_names = list(alz.columns)\n",
    "\n",
    "props = {}\n",
    "\n",
    "props[(column_names[1], str(crosstable.index[1]))] = {\"facecolor\" : \"lightblue\", \"edgecolor\" : \"black\"} #No memory complaints, not diagnosed\n",
    "props[(column_names[1], str(crosstable.index[0]))] = {\"facecolor\" : \"lightblue\", \"edgecolor\" : \"black\"} #No memory complaints, diagnosed\n",
    "props[(column_names[0], str(crosstable.index[1]))] = {\"facecolor\" : \"royalblue\", \"edgecolor\" : \"black\"} # Memory complaints, not diagnosed\n",
    "props[(column_names[0], str(crosstable.index[0]))] = {\"facecolor\" : \"royalblue\", \"edgecolor\" : \"black\"} # Memory complaints, diagnosed\n",
    "\n",
    "\n",
    "labelizer = lambda k: {\n",
    "    (column_names[0], crosstable.index[1]): crosstable.loc[\"Not Diagnosed\", \"Does not Forget\"],\n",
    "    (column_names[1], crosstable.index[1]): crosstable.loc[\"Not Diagnosed\", \"Forgets\"],\n",
    "    (column_names[0], crosstable.index[0]): crosstable.loc[\"Diagnosed\", \"Does not Forget\"],\n",
    "    (column_names[1], crosstable.index[0]): crosstable.loc[\"Diagnosed\", \"Forgets\"]\n",
    "}[k]\n",
    "\n",
    "fig = mosaic(alz, [alz_names[36], alz_names[35]], labelizer = labelizer, properties = props)\n",
    "fig = fig[0]\n",
    "fig.tight_layout()\n",
    "tmpfile = BytesIO()\n",
    "fig.savefig(tmpfile, format = \"png\")\n",
    "\n",
    "encoded = base64.b64encode(tmpfile.getvalue()).decode('utf-8')\n",
    "\n",
    "html = '<img src=\\'data:image/png;base64,{}\\'>'.format(encoded)\n",
    "\n",
    "html_file_path = '/Users/kenogihara/Desktop/ALL_PROJECTS/alzheimers_project/assets/test.html'\n",
    "\n",
    "# Write the HTML to a file\n",
    "with open(html_file_path, 'w') as f:\n",
    "    f.write(html)\n",
    "    \n",
    "    \n",
    "    \n",
    "    \n",
    "    \n",
    "    \n",
    "    \n",
    "    \n",
    "    \n",
    "    \n",
    "\n",
    "mapping = {\n",
    "    0: \"No Memory Complaints\",\n",
    "    1: \"Memory Complaints\"\n",
    "}\n",
    "\n",
    "alz[\"MemoryComplaintsCat\"] = alz[\"MemoryComplaints\"].map(mapping)\n",
    "\n",
    "crosstable = pd.crosstab(alz[\"result\"], alz[\"MemoryComplaintsCat\"])\n",
    "column_names = list(crosstable.columns)\n",
    "alz_names = list(alz.columns)\n",
    "\n",
    "props = {}\n",
    "\n",
    "props[(column_names[1], str(crosstable.index[1]))] = {\"facecolor\" : \"lightblue\", \"edgecolor\" : \"black\"} #No memory complaints, not diagnosed\n",
    "props[(column_names[1], str(crosstable.index[0]))] = {\"facecolor\" : \"lightblue\", \"edgecolor\" : \"black\"} #No memory complaints, diagnosed\n",
    "props[(column_names[0], str(crosstable.index[1]))] = {\"facecolor\" : \"royalblue\", \"edgecolor\" : \"black\"} # Memory complaints, not diagnosed\n",
    "props[(column_names[0], str(crosstable.index[0]))] = {\"facecolor\" : \"royalblue\", \"edgecolor\" : \"black\"} # Memory complaints, diagnosed\n",
    "\n",
    "\n",
    "labelizer = lambda k: {\n",
    "    (column_names[0], crosstable.index[1]): crosstable.loc[\"Not Diagnosed\", \"Memory Complaints\"],\n",
    "    (column_names[1], crosstable.index[1]): crosstable.loc[\"Not Diagnosed\", \"No Memory Complaints\"],\n",
    "    (column_names[0], crosstable.index[0]): crosstable.loc[\"Diagnosed\", \"Memory Complaints\"],\n",
    "    (column_names[1], crosstable.index[0]): crosstable.loc[\"Diagnosed\", \"No Memory Complaints\"]\n",
    "}[k]\n",
    "\n",
    "fig = mosaic(alz, [alz_names[37], alz_names[35]], labelizer = labelizer, properties = props)\n",
    "fig = fig[0]\n",
    "fig.tight_layout()\n",
    "tmpfile = BytesIO()\n",
    "fig.savefig(tmpfile, format = \"png\")\n",
    "\n",
    "encoded = base64.b64encode(tmpfile.getvalue()).decode('utf-8')\n",
    "\n",
    "html = '<img src=\\'data:image/png;base64,{}\\'>'.format(encoded)\n",
    "\n",
    "html_file_path = '/Users/kenogihara/Desktop/ALL_PROJECTS/alzheimers_project/assets/test2.html'\n",
    "\n",
    "# Write the HTML to a file\n",
    "with open(html_file_path, 'w') as f:\n",
    "    f.write(html)\n",
    "    \n",
    "\n",
    "table = pd.pivot_table(alz, index = \"MemoryComplaintsCat\", values = \"Diagnosis\", aggfunc = \"mean\")\n",
    "\n",
    "\"\"\"\n",
    "According to the first mosaic plot, we see that majority of patients are not considered forgetful. Regardless, in\n",
    "both categories, the proportion of those who are diagnosed are approximately the same. This shows that\n",
    "the presenece of forgetfulness is not a good indicator of Alzheimer's Disease.\n",
    "\n",
    "According to the second mosaic plots, we see that the majority of patients do not report any memory complaints. Among\n",
    "these patients, approximately 28% are diagnosed with Alzheimer's Disease. On the other hand, among those who report\n",
    "memory complaints, 64% are diagnosed with Alzeimer's Disease. However, how do we know if this is actually true?\n",
    "\"\"\"\n",
    "#Step 3: Hypothesis Testing\n",
    "\n",
    "\"\"\"\n",
    "This leads into our next section, in which we perform hypothesis testing to see if the differences are legit or\n",
    "due to random chance.\n",
    "\n",
    "Null hypothesis: The differences are due to random chance. There isn't actually a relationship between diagnosis\n",
    "and memory complaints.\n",
    "\n",
    "Alternative hypothesis: The differences are not due to random chance. People who report memory complaints are more\n",
    "likely to develop Alzheimer's Disease. \n",
    "\n",
    "\"\"\"\n",
    "\n",
    "#Step 1: Compute the test statistic\n",
    "#Step 2: Perform permutation testing by shuffling the memory column\n",
    "#Step 3: Compute the p-value\n",
    "\n",
    "# observed_ts = \n",
    "observed_ts = alz.groupby(\"MemoryComplaintsCat\")[\"Diagnosis\"].mean().loc[\"Memory Complaints\"] - \\\n",
    "alz.groupby(\"MemoryComplaintsCat\")[\"Diagnosis\"].mean().loc[\"No Memory Complaints\"]\n",
    "\n",
    "n_repetitions = 1000\n",
    "all_ts = []\n",
    "\n",
    "for _ in range(n_repetitions):\n",
    "    \n",
    "    copy = alz.copy()\n",
    "    copy[\"shuffled_memory_complaints\"] = np.random.permutation(copy[\"MemoryComplaintsCat\"])\n",
    "    ts = copy.groupby(\"shuffled_memory_complaints\")[\"Diagnosis\"].mean().loc[\"Memory Complaints\"] - \\\n",
    "alz.groupby(\"MemoryComplaintsCat\")[\"Diagnosis\"].mean().loc[\"No Memory Complaints\"]\n",
    "\n",
    "    all_ts.append(ts)\n",
    "    \n",
    "p_value = np.mean(np.array(all_ts) >= observed_ts)\n",
    "print(f\"p_value: {p_value}\")\n",
    "\n",
    "fig = px.histogram(pd.DataFrame(all_ts), x = 0, nbins = 50, histnorm = \"probability\", \n",
    "                title = f\"Empirical Distribution of Differences\")\n",
    "fig.add_vline(x = observed_ts, line_color = \"red\", line_width = 2, opacity = 1)\n",
    "fig.add_annotation(text=f'<span style=\"color:red\">Observed TS = {round(observed_ts, 2)}</span>',\n",
    "                    x=0.85 * observed_ts, showarrow=False, y=0.06)\n",
    "fig.update_layout(xaxis_range = [-0.2, 0.4])\n",
    "fig.update_layout(yaxis_range = [0, 0.1])\n",
    "fig.show()\n",
    "fig.write_html(\"/Users/kenogihara/Desktop/ALL_PROJECTS/alzheimers_project/assets/html_hypothesis_testing.html\", include_plotlyjs = \"cdn\")\n",
    "\n",
    "\"\"\"\n",
    "Our p-value of 0.0 suggests that the alternative hypothesis is true. Therefore, we will reject the null hypothesis.\n",
    "There is enough evidence to suggest that the differences are not due to random chance and that those who report\n",
    "memory complaints are indeed more likely to be diagnosed with Alzheimer's Disease.\n",
    "\n",
    "\"\"\"\n",
    "\n",
    "table.to_markdown(index = True)"
   ]
  },
  {
   "cell_type": "code",
   "execution_count": 35,
   "id": "051a922c",
   "metadata": {},
   "outputs": [
    {
     "data": {
      "text/plain": [
       "[('MemoryComplaints', 1.5266050985264054e-45, 'correlated'),\n",
       " ('BehavioralProblems', 4.731446795211873e-25, 'correlated'),\n",
       " ('Ethnicity', 0.09780307184026778, 'not correlated'),\n",
       " ('Hypertension', 0.11808887156379336, 'not correlated'),\n",
       " ('FamilyHistoryAlzheimers', 0.14069795394928386, 'not correlated'),\n",
       " ('Diabetes', 0.16224495200138433, 'not correlated'),\n",
       " ('CardiovascularDisease', 0.1628367346921118, 'not correlated'),\n",
       " ('EducationLevel', 0.21650771973324673, 'not correlated'),\n",
       " ('Disorientation', 0.27978377696750084, 'not correlated'),\n",
       " ('Gender', 0.35381831348465786, 'not correlated'),\n",
       " ('HeadInjury', 0.3603226855585838, 'not correlated'),\n",
       " ('PersonalityChanges', 0.37175710638032144, 'not correlated'),\n",
       " ('Confusion', 0.4045413830124688, 'not correlated'),\n",
       " ('DifficultyCompletingTasks', 0.7198556855473033, 'not correlated'),\n",
       " ('Depression', 0.8283335436917469, 'not correlated'),\n",
       " ('Smoking', 0.860493227376371, 'not correlated'),\n",
       " ('Forgetfulness', 1.0, 'not correlated')]"
      ]
     },
     "execution_count": 35,
     "metadata": {},
     "output_type": "execute_result"
    }
   ],
   "source": [
    "#Step 5: Framing a Prediction Problem\n",
    "\n",
    "\"\"\"\n",
    "I will predict whether a patient has Alzheimer's Disease using four different models: Logisitic Regression, \n",
    "DecisionTreeClassification, Random Forest Classifier, and Gradient Boost. I will use F1-score to calculate the \n",
    "models' accuracy since the data is severely imbalanced.\n",
    "\n",
    "Before creating the models, we must find features that are highly correlated with the outcome. We will first\n",
    "calculate the correlation of each variable based on their data type.\n",
    "\"\"\"\n",
    "\n",
    "categorical_columns = [\"Gender\", \"Ethnicity\", \"EducationLevel\", \"Smoking\", \"FamilyHistoryAlzheimers\", \n",
    "                      \"CardiovascularDisease\", \"Diabetes\", \"Depression\", \"HeadInjury\", \"Hypertension\",\n",
    "                      \"MemoryComplaints\", \"BehavioralProblems\", \"Confusion\", \"Disorientation\", \"PersonalityChanges\",\n",
    "                      \"DifficultyCompletingTasks\", \"Forgetfulness\"]\n",
    "\n",
    "numerical_columns = []\n",
    "for column in alz.columns:\n",
    "    if column not in categorical_columns:\n",
    "        numerical_columns.append(column)\n",
    "        \n",
    "columns_to_drop = [\"PatientID\", \"DoctorInCharge\", \"result\", \"ForgetfulnessCat\", \"MemoryComplaintsCat\"]\n",
    "numerical_columns = [col for col in numerical_columns if col not in columns_to_drop]\n",
    "\n",
    "\n",
    "\n",
    "\n",
    "\n",
    "\n",
    "\n",
    "#We use a correlation matrix to find highly correlated variables that are numerical\n",
    "correlation_matrix_numerical = alz[numerical_columns].corr()\n",
    "plt.figure(figsize = (12, 8))\n",
    "sns.heatmap(correlation_matrix_numerical, annot = True, fmt = \" .2f\", cmap = \"coolwarm\")\n",
    "plt.title(\"Correlation Matrix of Numerical Variables\", fontsize = 13)\n",
    "plt.tight_layout()\n",
    "\n",
    "tmpfile = BytesIO()\n",
    "plt.savefig(tmpfile, format = \"png\")\n",
    "plt.close()\n",
    "\n",
    "encoded = base64.b64encode(tmpfile.getvalue()).decode('utf-8')\n",
    "\n",
    "html = f\"\"\"\n",
    "<!DOCTYPE html>\n",
    "<html lang=\"en\">\n",
    "<head>\n",
    "    <meta charset=\"UTF-8\">\n",
    "    <meta name=\"viewport\" content=\"width=device-width, initial-scale=1.0\">\n",
    "</head>\n",
    "<body>\n",
    "    <img src=\"data:image/png;base64,{encoded}\" alt=\"Correlation Matrix Heatmap\">\n",
    "</body>\n",
    "</html>\n",
    "\"\"\"\n",
    "\n",
    "\n",
    "\n",
    "html_file_path = \"/Users/kenogihara/Desktop/ALL_PROJECTS/alzheimers_project/assets/heatmap.html\"\n",
    "with open(html_file_path, 'w') as f:\n",
    "    f.write(html)\n",
    "\n",
    "\n",
    "\n",
    "\n",
    "\n",
    "\n",
    "\n",
    "\"\"\"\n",
    "We see that MMSE, FunctionalAssessment, and ADL are the top 3 features that are correlated with Diagnosis.\n",
    "Let's add a few more categorical features that we can potentially use in our model.\n",
    "\"\"\"\n",
    "\n",
    "#We use chi-squared test to find highly correlated variables that are categorical\n",
    "\n",
    "def is_correlated(x, y):\n",
    "    cross_table = pd.crosstab(index = alz[x], columns = alz[y])\n",
    "    chi_sq_result = chi2_contingency(cross_table,)\n",
    "    p, c = chi_sq_result[1], \"correlated\" if chi_sq_result[1] < 0.05 else \"not correlated\"\n",
    "    return (x, p, c)\n",
    "\n",
    "chi_sq_results = []\n",
    "for column in categorical_columns:\n",
    "    result = is_correlated(column, \"Diagnosis\")\n",
    "    chi_sq_results.append(result)\n",
    "    \n",
    "chi_sq_results.sort(key=lambda x: x[1])\n",
    "chi_sq_results\n",
    "# #MemoryComplaints and BehavioralProblems are the top 2 most correlated variables with our binary outcome.\n",
    "\n",
    "# #Selecting the top 10 best features for our model:\n",
    "# best_features = [result[0] for result in chi_sq_results[:7]]\n",
    "# best_features.append(\"MMSE\")\n",
    "# best_features.append(\"FunctionalAssessment\")\n",
    "# best_features.append(\"ADL\")\n",
    "\n"
   ]
  },
  {
   "cell_type": "code",
   "execution_count": 40,
   "id": "d4fcc942",
   "metadata": {},
   "outputs": [
    {
     "data": {
      "text/plain": [
       "\"\\nBased on our results, the GradientBoostingClassifier is the most promising model. It has the highest ROC AUC at 0.94. This means that the model has a 94% chance of correctly distinguishing between patients with and without Alzheimer's Disease across various threshold levels. The ROC AUC score indicates strong overall discriminative power.\\nFurther analysis shows that the true positive rate, also known as, recall score is 92%. This means that the model incorrectly identifies a person as negative 8% of the time. Optimizing a model's recall is especially important in the medicine since\\nfalse negatives are worse than false positives. \\n\""
      ]
     },
     "execution_count": 40,
     "metadata": {},
     "output_type": "execute_result"
    }
   ],
   "source": [
    "#Step 6: Building the Model\n",
    "\n",
    "X_train, X_test, y_train, y_test = train_test_split(alz[best_features], alz[\"Diagnosis\"], random_state = 42)\n",
    "\n",
    "stdscaler = StandardScaler()\n",
    "X_train = stdscaler.fit_transform(X_train)\n",
    "X_test = stdscaler.fit_transform(X_test)\n",
    "\n",
    "def train_and_evaluate(classifier, X_train, X_test, y_train, y_test):\n",
    "    classifier.fit(X_train, y_train)\n",
    "    y_pred = classifier.predict(X_test)\n",
    "    classifier_test_score = classifier.score(X_test, y_test)\n",
    "    classifier_precision_score = metrics.precision_score(y_test, y_pred)\n",
    "    classifier_recall_score = metrics.recall_score(y_test, y_pred)\n",
    "    classifier_f1_score = metrics.f1_score(y_test, y_pred)\n",
    "    \n",
    "    #Plot ROC curve\n",
    "    plt.figure(figsize=(8, 6))\n",
    "    fpr, tpr, thresholds = roc_curve(y_test, y_pred)\n",
    "    roc_auc = auc(fpr, tpr)\n",
    "    plt.plot(fpr, tpr, color='royalblue', lw=2, label=f'ROC curve (area = {roc_auc:.2f})')\n",
    "    plt.plot([0, 1], [0, 1], color='navy', lw=2, linestyle='--')\n",
    "    plt.xlim([0.0, 1.0])\n",
    "    plt.ylim([0.0, 1.05])\n",
    "    plt.xlabel('False Positive Rate')\n",
    "    plt.ylabel('True Positive Rate')\n",
    "    plt.title(f'Receiver Operating Characteristic (ROC) for {classifier}')\n",
    "    plt.legend(loc=\"lower right\")\n",
    "    \n",
    "    plt.tight_layout()\n",
    "    tmpfile = BytesIO()\n",
    "    plt.savefig(tmpfile, format = \"png\")\n",
    "    plt.close()\n",
    "\n",
    "    encoded = base64.b64encode(tmpfile.getvalue()).decode('utf-8')\n",
    "\n",
    "    html = f\"\"\"\n",
    "    <!DOCTYPE html>\n",
    "    <html lang=\"en\">\n",
    "    <head>\n",
    "        <meta charset=\"UTF-8\">\n",
    "        <meta name=\"viewport\" content=\"width=device-width, initial-scale=1.0\">\n",
    "    </head>\n",
    "    <body>\n",
    "        <img src=\"data:image/png;base64,{encoded}\" alt=\"ROC Curve\">\n",
    "    </body>\n",
    "    </html>\n",
    "    \"\"\"\n",
    "\n",
    "\n",
    "\n",
    "    html_file_path = f\"/Users/kenogihara/Desktop/ALL_PROJECTS/alzheimers_project/assets/roc_curve_{classifier}.html\"\n",
    "    with open(html_file_path, 'w') as f:\n",
    "        f.write(html)\n",
    "    \n",
    "    \n",
    "    return pd.DataFrame({f\"{classifier}\": [classifier_test_score, classifier_precision_score, classifier_recall_score, \n",
    "                         classifier_f1_score]})\n",
    "\n",
    "logistic_reg = train_and_evaluate(LogisticRegression(random_state = 42), X_train, X_test, y_train, y_test)\n",
    "dt = train_and_evaluate(DecisionTreeClassifier(random_state = 42), X_train, X_test, y_train, y_test)\n",
    "rf = train_and_evaluate(RandomForestClassifier(random_state = 42), X_train, X_test, y_train, y_test)\n",
    "gb = train_and_evaluate(GradientBoostingClassifier(random_state = 42), X_train, X_test, y_train, y_test)\n",
    "\n",
    "result = pd.concat([logistic_reg, dt, rf, gb], axis = 1)\n",
    "result.index = [\"Test score\", \"Precision score\", \"Recall score\", \"F1 score\"]\n",
    "result.columns = [\"Logistic Regression\", \"Decision Tree Classifier\", \"Random Forest Classifier\", \n",
    "                 \"Gradient Boosting Classifier\"]\n",
    "\n",
    "\n",
    "# result.to_markdown(index = True)\n",
    "\n",
    "\"\"\"\n",
    "Based on our results, the GradientBoostingClassifier is the most promising model. It has the highest ROC AUC at 0.94. This means that the model has a 94% chance of correctly distinguishing between patients with and without Alzheimer's Disease across various threshold levels. The ROC AUC score indicates strong overall discriminative power.\n",
    "Further analysis shows that the true positive rate, also known as, recall score is 92%. This means that the model incorrectly identifies a person as negative 8% of the time. Optimizing a model's recall is especially important in the medicine since\n",
    "false negatives are worse than false positives. \n",
    "\"\"\"\n"
   ]
  },
  {
   "cell_type": "code",
   "execution_count": null,
   "id": "73091d10",
   "metadata": {},
   "outputs": [],
   "source": []
  }
 ],
 "metadata": {
  "kernelspec": {
   "display_name": "Python 3 (ipykernel)",
   "language": "python",
   "name": "python3"
  },
  "language_info": {
   "codemirror_mode": {
    "name": "ipython",
    "version": 3
   },
   "file_extension": ".py",
   "mimetype": "text/x-python",
   "name": "python",
   "nbconvert_exporter": "python",
   "pygments_lexer": "ipython3",
   "version": "3.8.19"
  }
 },
 "nbformat": 4,
 "nbformat_minor": 5
}
